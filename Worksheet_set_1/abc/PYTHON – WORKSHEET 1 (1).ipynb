{
 "cells": [
  {
   "cell_type": "markdown",
   "id": "96a6403e",
   "metadata": {},
   "source": [
    "11) Write a python program to find the factorial of a number."
   ]
  },
  {
   "cell_type": "code",
   "execution_count": 3,
   "id": "91133d96",
   "metadata": {},
   "outputs": [
    {
     "name": "stdout",
     "output_type": "stream",
     "text": [
      "Enter a number:\n",
      "6\n",
      "Factorial of 6 is 720\n"
     ]
    }
   ],
   "source": [
    "import math\n",
    " \n",
    "def factorial(n):\n",
    "    return(math.factorial(n))\n",
    " \n",
    "print(\"Enter a number:\")\n",
    "num = int(input())\n",
    "print(\"Factorial of\", num, \"is\",\n",
    "      factorial(num))"
   ]
  },
  {
   "cell_type": "markdown",
   "id": "95864105",
   "metadata": {},
   "source": [
    "______________________________________________________________________________"
   ]
  },
  {
   "cell_type": "markdown",
   "id": "7cc201b5",
   "metadata": {},
   "source": [
    "12) Write a python program to find whether a number is prime or composite."
   ]
  },
  {
   "cell_type": "code",
   "execution_count": 4,
   "id": "45efb067",
   "metadata": {},
   "outputs": [
    {
     "name": "stdout",
     "output_type": "stream",
     "text": [
      "Enter any number : 11\n",
      "11 is a PRIME number\n"
     ]
    }
   ],
   "source": [
    "num = int(input(\"Enter any number : \"))\n",
    "if num > 1:\n",
    "    for i in range(2, num):\n",
    "        if (num % i) == 0:\n",
    "            print(num, \"is NOT a prime number\")\n",
    "            break\n",
    "    else:\n",
    "        print(num, \"is a PRIME number\")\n",
    "elif num == 0 or 1:\n",
    "    print(num, \"is a neither prime NOR composite number\")\n",
    "else:\n",
    "    print(num, \"is NOT a prime number it is a COMPOSITE number\")"
   ]
  },
  {
   "cell_type": "markdown",
   "id": "9aabb08b",
   "metadata": {},
   "source": [
    "______________________________________________________________________________"
   ]
  },
  {
   "cell_type": "markdown",
   "id": "93754261",
   "metadata": {},
   "source": [
    "13) Write a python program to check whether a given string is palindrome or not."
   ]
  },
  {
   "cell_type": "code",
   "execution_count": 16,
   "id": "fe80fc61",
   "metadata": {},
   "outputs": [
    {
     "name": "stdout",
     "output_type": "stream",
     "text": [
      "Enter a string\n",
      "nayan\n",
      "\n",
      "Yes nayan is a Palindrome\n"
     ]
    }
   ],
   "source": [
    "def checkPalindrome(st):\n",
    "    return st == st[::-1]\n",
    " \n",
    "print(\"Enter a string\")\n",
    "st = str(input())\n",
    "ans = checkPalindrome(st)\n",
    " \n",
    "if ans:\n",
    "    print(\"\\nYes\",st,\"is a Palindrome\")\n",
    "else:\n",
    "    print(\"\\nNo\",st,\"is not Palindrome\")"
   ]
  },
  {
   "cell_type": "markdown",
   "id": "ac57150c",
   "metadata": {},
   "source": [
    "______________________________________________________________________________"
   ]
  },
  {
   "cell_type": "markdown",
   "id": "a7d833b4",
   "metadata": {},
   "source": [
    "14) Write a Python program to get the third side of right-angled triangle from two given sides."
   ]
  },
  {
   "cell_type": "code",
   "execution_count": 22,
   "id": "6523653d",
   "metadata": {},
   "outputs": [
    {
     "name": "stdout",
     "output_type": "stream",
     "text": [
      "Enter value for side a\n",
      "3\n",
      "Enter value for side b\n",
      "4\n",
      "\n",
      "The value of 3rd side is:\n",
      "c= 5.0\n"
     ]
    }
   ],
   "source": [
    "import math\n",
    "print(\"Enter value for side a\")\n",
    "a = float(input())\n",
    "print(\"Enter value for side b\")\n",
    "b = float(input())\n",
    "print(\"\\nThe value of 3rd side is:\")\n",
    "print(\"c=\", math.sqrt(a ** 2 + b ** 2))"
   ]
  },
  {
   "cell_type": "markdown",
   "id": "21d8bc3e",
   "metadata": {},
   "source": [
    "______________________________________________________________________________"
   ]
  },
  {
   "cell_type": "markdown",
   "id": "27cb68d5",
   "metadata": {},
   "source": [
    "15) Write a python program to print the frequency of each of the characters present in a given string."
   ]
  },
  {
   "cell_type": "code",
   "execution_count": 29,
   "id": "e46d6d23",
   "metadata": {},
   "outputs": [
    {
     "name": "stdout",
     "output_type": "stream",
     "text": [
      "Enter a string\n",
      "abcamb\n",
      "\n",
      "Count of all characters in abcamb is :\n",
      " Counter({'a': 2, 'b': 2, 'c': 1, 'm': 1})\n"
     ]
    }
   ],
   "source": [
    "from collections import Counter\n",
    "\n",
    "print(\"Enter a string\")\n",
    "string = str(input())\n",
    "  \n",
    "counts = Counter(string)\n",
    "   \n",
    "print (\"\\nCount of all characters in\",string,\"is :\\n \"\n",
    "                                           +  str(counts))"
   ]
  },
  {
   "cell_type": "code",
   "execution_count": null,
   "id": "cef899e0",
   "metadata": {},
   "outputs": [],
   "source": []
  }
 ],
 "metadata": {
  "kernelspec": {
   "display_name": "Python 3 (ipykernel)",
   "language": "python",
   "name": "python3"
  },
  "language_info": {
   "codemirror_mode": {
    "name": "ipython",
    "version": 3
   },
   "file_extension": ".py",
   "mimetype": "text/x-python",
   "name": "python",
   "nbconvert_exporter": "python",
   "pygments_lexer": "ipython3",
   "version": "3.9.7"
  }
 },
 "nbformat": 4,
 "nbformat_minor": 5
}
