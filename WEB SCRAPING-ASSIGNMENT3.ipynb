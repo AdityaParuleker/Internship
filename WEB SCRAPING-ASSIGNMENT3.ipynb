{
 "cells": [
  {
   "cell_type": "code",
   "execution_count": 3,
   "id": "cce1d784",
   "metadata": {},
   "outputs": [],
   "source": [
    "import selenium\n",
    "import pandas as pd\n",
    "from selenium import webdriver\n",
    "import warnings\n",
    "warnings.filterwarnings(\"ignore\")\n",
    "from selenium.common.exceptions import StaleElementReferenceException, NoSuchElementException\n",
    "from selenium.webdriver.common.by import By\n",
    "import time"
   ]
  },
  {
   "cell_type": "markdown",
   "id": "aceca1aa",
   "metadata": {},
   "source": [
    "# 1 & 2 ) Write a python program which searches all the product under a particular product from www.amazon.in and In the above question,....."
   ]
  },
  {
   "cell_type": "code",
   "execution_count": 138,
   "id": "c089962e",
   "metadata": {},
   "outputs": [],
   "source": [
    "driver=webdriver.Chrome(r\"C:\\Users\\RedPr\\Downloads\\chromedriver_win32\\chromedriver.exe\")\n",
    "driver.get(\"https://www.amazon.in/\")"
   ]
  },
  {
   "cell_type": "markdown",
   "id": "57f68a4e",
   "metadata": {},
   "source": [
    "Accessing the website.\n"
   ]
  },
  {
   "cell_type": "code",
   "execution_count": 140,
   "id": "868fb5b4",
   "metadata": {},
   "outputs": [],
   "source": [
    "search_text=driver.find_element(By.XPATH,\"/html/body/div[1]/header/div/div[1]/div[2]/div/form/div[2]/div[1]/input\")\n",
    "search_text.send_keys(\"processor\")"
   ]
  },
  {
   "cell_type": "markdown",
   "id": "138f37ac",
   "metadata": {},
   "source": [
    "Entering text in search box."
   ]
  },
  {
   "cell_type": "code",
   "execution_count": 141,
   "id": "00abf107",
   "metadata": {},
   "outputs": [],
   "source": [
    "search=driver.find_element(By.XPATH,\"/html/body/div[1]/header/div/div[1]/div[2]/div/form/div[3]/div/span/input\")\n",
    "search.click()\n",
    "driver.implicitly_wait(5)"
   ]
  },
  {
   "cell_type": "markdown",
   "id": "e025864e",
   "metadata": {},
   "source": [
    "Submitting the search."
   ]
  },
  {
   "cell_type": "code",
   "execution_count": 142,
   "id": "7311d1cc",
   "metadata": {},
   "outputs": [],
   "source": [
    "u=[]"
   ]
  },
  {
   "cell_type": "code",
   "execution_count": 143,
   "id": "74127549",
   "metadata": {},
   "outputs": [],
   "source": [
    "start=0\n",
    "end=3\n",
    "for page in range(start,end):\n",
    "    url=driver.find_elements(By.XPATH,'//a[@class=\"a-link-normal s-no-outline\"]')\n",
    "    start=0\n",
    "    for i in url[start:]:\n",
    "        u.append(i.get_attribute('href'))\n",
    "    \n",
    "    next_button=driver.find_element(By.XPATH,'//a[@class=\"s-pagination-item s-pagination-next s-pagination-button s-pagination-separator\"]')\n",
    "    next_button.click()\n",
    "    time.sleep(5)"
   ]
  },
  {
   "cell_type": "markdown",
   "id": "2851426a",
   "metadata": {},
   "source": [
    "Extracting product URL from first 3 page result."
   ]
  },
  {
   "cell_type": "code",
   "execution_count": 144,
   "id": "6677920c",
   "metadata": {},
   "outputs": [],
   "source": [
    "a=[]\n",
    "b=[]\n",
    "c=[]\n",
    "d=[]\n",
    "e=[]\n",
    "f=[]\n",
    "z=[]\n",
    "for i in u:\n",
    "    driver.get(i)\n",
    "    p=driver.find_elements(By.XPATH,'//span[@class=\"a-size-large product-title-word-break\"]')\n",
    "    for i in p:\n",
    "        v=i.text\n",
    "        a.append(v[0])\n",
    "        \n",
    "    s=driver.find_elements(By.XPATH,'//span[@class=\"a-size-large product-title-word-break\"]')\n",
    "    for i in s:\n",
    "        v=i.text\n",
    "        b.append(v)\n",
    "        \n",
    "        n=driver.find_elements(By.XPATH,'//span[@class=\"a-price aok-align-center reinventPricePriceToPayMargin priceToPay\"]')\n",
    "        for i in n:\n",
    "            z=i.text\n",
    "            c.append(z)\n",
    "            \n",
    "        m=driver.find_elements(By.XPATH,'//span[@class=\"a-size-medium a-color-success\"]')\n",
    "        for i in m:    \n",
    "            d.append(i.text)\n",
    "\n",
    "        l=driver.find_elements(By.XPATH,'//div[@id=\"mir-layout-DELIVERY_BLOCK\"]')\n",
    "        for i in l:\n",
    "                e.append(i.text)\n",
    "                \n",
    "        o=driver.find_elements(By.XPATH,'//div[@class=\"a-row icon-farm-wrapper\"]')\n",
    "        for i in o:\n",
    "            f.append(i.text)\n",
    "            \n",
    "        p=driver.find_element(By.XPATH,'//a[@class=\"a-button-text\"]')\n",
    "        p.click()\n",
    "        q=driver.find_elements(By.XPATH,'/html/body/div[1]/span/span/span/div/div/div[4]/div[1]/div[2]/div/div/div[2]/div/div')\n",
    "        for i in q:\n",
    "                e.append(i.text)\n",
    "        r=driver.find_elements(By.XPATH,'/html/body/div[1]/span/span/span/div/div/div[4]/div[1]/div[2]/div/div/div[1]/div/span/span[2]/span[2]')\n",
    "        for i in q:\n",
    "                c.append(i.text)\n",
    "            \n",
    "        "
   ]
  },
  {
   "cell_type": "markdown",
   "id": "94a89837",
   "metadata": {},
   "source": [
    "Accessing each product page using URL to gather data."
   ]
  },
  {
   "cell_type": "code",
   "execution_count": 145,
   "id": "cc087f65",
   "metadata": {},
   "outputs": [
    {
     "name": "stdout",
     "output_type": "stream",
     "text": [
      "65 65 65 65 65 65\n"
     ]
    }
   ],
   "source": [
    "print(len(a),len(b),len(c),len(d),len(e),len(f))"
   ]
  },
  {
   "cell_type": "code",
   "execution_count": 146,
   "id": "0f273399",
   "metadata": {},
   "outputs": [],
   "source": [
    "a=[]\n",
    "for i in b:\n",
    "    a.append(i.split())\n",
    "\n",
    "brand=[]\n",
    "for i in a:\n",
    "    brand.append(i[0:1])\n"
   ]
  },
  {
   "cell_type": "code",
   "execution_count": 398,
   "id": "9c965d7c",
   "metadata": {},
   "outputs": [],
   "source": [
    "brands=[]\n",
    "for i in brand:\n",
    "    for j in i:\n",
    "        brands.append(j)"
   ]
  },
  {
   "cell_type": "markdown",
   "id": "e09e9155",
   "metadata": {},
   "source": [
    "Extracting Brand Name from string."
   ]
  },
  {
   "cell_type": "code",
   "execution_count": 439,
   "id": "13294e06",
   "metadata": {},
   "outputs": [],
   "source": [
    "p=[]\n",
    "for i in c:\n",
    "    p.append(i[1:-3])"
   ]
  },
  {
   "cell_type": "markdown",
   "id": "667e1e74",
   "metadata": {},
   "source": [
    "Extracting only numeric values from price."
   ]
  },
  {
   "cell_type": "code",
   "execution_count": 248,
   "id": "7b03e6a5",
   "metadata": {},
   "outputs": [],
   "source": [
    "av=[]\n",
    "zz=[]\n",
    "for i in e:\n",
    "    av.append(i.split())\n",
    "    \n",
    "for i in av:\n",
    "    zz.append(i[2:5])"
   ]
  },
  {
   "cell_type": "markdown",
   "id": "f745d189",
   "metadata": {},
   "source": [
    "Extracting delivery date from string."
   ]
  },
  {
   "cell_type": "code",
   "execution_count": null,
   "id": "03be888d",
   "metadata": {},
   "outputs": [],
   "source": [
    "fzz=[]\n",
    "for i in f:\n",
    "    fzz.append(i.replace(\" \",\"-\"))\n",
    "\n",
    "mm=[]\n",
    "for i in fzz:\n",
    "    mm.append(i.split())\n",
    "\n",
    "policy=[]\n",
    "for i in mm:\n",
    "    for j in range(len(i)):\n",
    "            if i[j]=='Not-Returnable' :\n",
    "                 policy.append(i[j])\n",
    "            for k in range(32):\n",
    "                if i[j]==f\"{k}-Days-Replacement\":\n",
    "                    policy.append(i[j])\n",
    "    "
   ]
  },
  {
   "cell_type": "markdown",
   "id": "32e50804",
   "metadata": {},
   "source": [
    "Extracting return policy statement from string."
   ]
  },
  {
   "cell_type": "code",
   "execution_count": 440,
   "id": "8a8a0266",
   "metadata": {},
   "outputs": [],
   "source": [
    "df1=pd.DataFrame({\"Brand\":brands,\"Product Name\":b,\"Price(₹)\":p,\"Delivery Date\":zz,\"Availability\":d,\"Return Policy\":policy,\"Product URL\":u})"
   ]
  },
  {
   "cell_type": "code",
   "execution_count": 441,
   "id": "84e175e2",
   "metadata": {},
   "outputs": [
    {
     "data": {
      "text/html": [
       "<div>\n",
       "<style scoped>\n",
       "    .dataframe tbody tr th:only-of-type {\n",
       "        vertical-align: middle;\n",
       "    }\n",
       "\n",
       "    .dataframe tbody tr th {\n",
       "        vertical-align: top;\n",
       "    }\n",
       "\n",
       "    .dataframe thead th {\n",
       "        text-align: right;\n",
       "    }\n",
       "</style>\n",
       "<table border=\"1\" class=\"dataframe\">\n",
       "  <thead>\n",
       "    <tr style=\"text-align: right;\">\n",
       "      <th></th>\n",
       "      <th>Brand</th>\n",
       "      <th>Product Name</th>\n",
       "      <th>Price(₹)</th>\n",
       "      <th>Delivery Date</th>\n",
       "      <th>Availability</th>\n",
       "      <th>Return Policy</th>\n",
       "      <th>Product URL</th>\n",
       "    </tr>\n",
       "  </thead>\n",
       "  <tbody>\n",
       "    <tr>\n",
       "      <th>0</th>\n",
       "      <td>AMD</td>\n",
       "      <td>AMD Ryzen™ 5 5600G Desktop Processor (6-core/1...</td>\n",
       "      <td>15,499</td>\n",
       "      <td>[Thursday,, 20, October.]</td>\n",
       "      <td>In stock.</td>\n",
       "      <td>Not-Returnable</td>\n",
       "      <td>https://www.amazon.in/sspa/click?ie=UTF8&amp;spc=M...</td>\n",
       "    </tr>\n",
       "    <tr>\n",
       "      <th>1</th>\n",
       "      <td>AMD</td>\n",
       "      <td>AMD Ryzen™ 7 5700G Desktop Processor (8-core/1...</td>\n",
       "      <td>23,650</td>\n",
       "      <td>[Thursday,, 20, October.]</td>\n",
       "      <td>In stock.</td>\n",
       "      <td>Not-Returnable</td>\n",
       "      <td>https://www.amazon.in/sspa/click?ie=UTF8&amp;spc=M...</td>\n",
       "    </tr>\n",
       "    <tr>\n",
       "      <th>2</th>\n",
       "      <td>Intel</td>\n",
       "      <td>Intel Core i5 3470 LGA 1155 Excellent Performa...</td>\n",
       "      <td>1,900</td>\n",
       "      <td>[Friday,, 21, October.]</td>\n",
       "      <td>Only 2 left in stock.</td>\n",
       "      <td>Not-Returnable</td>\n",
       "      <td>https://www.amazon.in/Intel-Excellent-Performa...</td>\n",
       "    </tr>\n",
       "    <tr>\n",
       "      <th>3</th>\n",
       "      <td>AMD</td>\n",
       "      <td>AMD Ryzen 3 3200G with RadeonVega 8 Graphics D...</td>\n",
       "      <td>8,599</td>\n",
       "      <td>[Thursday,, 20, October.]</td>\n",
       "      <td>In stock.</td>\n",
       "      <td>Not-Returnable</td>\n",
       "      <td>https://www.amazon.in/AMD-RyzenTM-3200G-Radeon...</td>\n",
       "    </tr>\n",
       "    <tr>\n",
       "      <th>4</th>\n",
       "      <td>Intel</td>\n",
       "      <td>Intel Core i3-10105F LGA1200 Desktop Processor...</td>\n",
       "      <td>7,300</td>\n",
       "      <td>[Tuesday,, 25, October.]</td>\n",
       "      <td>In stock.</td>\n",
       "      <td>Not-Returnable</td>\n",
       "      <td>https://www.amazon.in/Intel-i3-10105F-LGA1200-...</td>\n",
       "    </tr>\n",
       "  </tbody>\n",
       "</table>\n",
       "</div>"
      ],
      "text/plain": [
       "   Brand                                       Product Name Price(₹)  \\\n",
       "0    AMD  AMD Ryzen™ 5 5600G Desktop Processor (6-core/1...   15,499   \n",
       "1    AMD  AMD Ryzen™ 7 5700G Desktop Processor (8-core/1...   23,650   \n",
       "2  Intel  Intel Core i5 3470 LGA 1155 Excellent Performa...    1,900   \n",
       "3    AMD  AMD Ryzen 3 3200G with RadeonVega 8 Graphics D...    8,599   \n",
       "4  Intel  Intel Core i3-10105F LGA1200 Desktop Processor...    7,300   \n",
       "\n",
       "               Delivery Date           Availability   Return Policy  \\\n",
       "0  [Thursday,, 20, October.]              In stock.  Not-Returnable   \n",
       "1  [Thursday,, 20, October.]              In stock.  Not-Returnable   \n",
       "2    [Friday,, 21, October.]  Only 2 left in stock.  Not-Returnable   \n",
       "3  [Thursday,, 20, October.]              In stock.  Not-Returnable   \n",
       "4   [Tuesday,, 25, October.]              In stock.  Not-Returnable   \n",
       "\n",
       "                                         Product URL  \n",
       "0  https://www.amazon.in/sspa/click?ie=UTF8&spc=M...  \n",
       "1  https://www.amazon.in/sspa/click?ie=UTF8&spc=M...  \n",
       "2  https://www.amazon.in/Intel-Excellent-Performa...  \n",
       "3  https://www.amazon.in/AMD-RyzenTM-3200G-Radeon...  \n",
       "4  https://www.amazon.in/Intel-i3-10105F-LGA1200-...  "
      ]
     },
     "execution_count": 441,
     "metadata": {},
     "output_type": "execute_result"
    }
   ],
   "source": [
    "df1.head()"
   ]
  },
  {
   "cell_type": "code",
   "execution_count": 442,
   "id": "5445b7fb",
   "metadata": {},
   "outputs": [],
   "source": [
    "dzd=[]\n",
    "for i in df1[\"Delivery Date\"]:\n",
    "    if len(i)>0:\n",
    "        ne=i[0]+i[1]+i[2]\n",
    "        dzd.append(ne)\n",
    "    else:\n",
    "        i=\"-\"\n",
    "        dzd.append(i)\n"
   ]
  },
  {
   "cell_type": "code",
   "execution_count": 443,
   "id": "e60af60a",
   "metadata": {},
   "outputs": [],
   "source": [
    "df1[\"Delivery Date\"]=dzd"
   ]
  },
  {
   "cell_type": "code",
   "execution_count": 444,
   "id": "1ca36f64",
   "metadata": {
    "scrolled": false
   },
   "outputs": [
    {
     "data": {
      "text/html": [
       "<div>\n",
       "<style scoped>\n",
       "    .dataframe tbody tr th:only-of-type {\n",
       "        vertical-align: middle;\n",
       "    }\n",
       "\n",
       "    .dataframe tbody tr th {\n",
       "        vertical-align: top;\n",
       "    }\n",
       "\n",
       "    .dataframe thead th {\n",
       "        text-align: right;\n",
       "    }\n",
       "</style>\n",
       "<table border=\"1\" class=\"dataframe\">\n",
       "  <thead>\n",
       "    <tr style=\"text-align: right;\">\n",
       "      <th></th>\n",
       "      <th>Brand</th>\n",
       "      <th>Product Name</th>\n",
       "      <th>Price(₹)</th>\n",
       "      <th>Delivery Date</th>\n",
       "      <th>Availability</th>\n",
       "      <th>Return Policy</th>\n",
       "      <th>Product URL</th>\n",
       "    </tr>\n",
       "  </thead>\n",
       "  <tbody>\n",
       "    <tr>\n",
       "      <th>0</th>\n",
       "      <td>AMD</td>\n",
       "      <td>AMD Ryzen™ 5 5600G Desktop Processor (6-core/1...</td>\n",
       "      <td>15,499</td>\n",
       "      <td>Thursday,20October.</td>\n",
       "      <td>In stock.</td>\n",
       "      <td>Not-Returnable</td>\n",
       "      <td>https://www.amazon.in/sspa/click?ie=UTF8&amp;spc=M...</td>\n",
       "    </tr>\n",
       "    <tr>\n",
       "      <th>1</th>\n",
       "      <td>AMD</td>\n",
       "      <td>AMD Ryzen™ 7 5700G Desktop Processor (8-core/1...</td>\n",
       "      <td>23,650</td>\n",
       "      <td>Thursday,20October.</td>\n",
       "      <td>In stock.</td>\n",
       "      <td>Not-Returnable</td>\n",
       "      <td>https://www.amazon.in/sspa/click?ie=UTF8&amp;spc=M...</td>\n",
       "    </tr>\n",
       "    <tr>\n",
       "      <th>2</th>\n",
       "      <td>Intel</td>\n",
       "      <td>Intel Core i5 3470 LGA 1155 Excellent Performa...</td>\n",
       "      <td>1,900</td>\n",
       "      <td>Friday,21October.</td>\n",
       "      <td>Only 2 left in stock.</td>\n",
       "      <td>Not-Returnable</td>\n",
       "      <td>https://www.amazon.in/Intel-Excellent-Performa...</td>\n",
       "    </tr>\n",
       "    <tr>\n",
       "      <th>3</th>\n",
       "      <td>AMD</td>\n",
       "      <td>AMD Ryzen 3 3200G with RadeonVega 8 Graphics D...</td>\n",
       "      <td>8,599</td>\n",
       "      <td>Thursday,20October.</td>\n",
       "      <td>In stock.</td>\n",
       "      <td>Not-Returnable</td>\n",
       "      <td>https://www.amazon.in/AMD-RyzenTM-3200G-Radeon...</td>\n",
       "    </tr>\n",
       "    <tr>\n",
       "      <th>4</th>\n",
       "      <td>Intel</td>\n",
       "      <td>Intel Core i3-10105F LGA1200 Desktop Processor...</td>\n",
       "      <td>7,300</td>\n",
       "      <td>Tuesday,25October.</td>\n",
       "      <td>In stock.</td>\n",
       "      <td>Not-Returnable</td>\n",
       "      <td>https://www.amazon.in/Intel-i3-10105F-LGA1200-...</td>\n",
       "    </tr>\n",
       "  </tbody>\n",
       "</table>\n",
       "</div>"
      ],
      "text/plain": [
       "   Brand                                       Product Name Price(₹)  \\\n",
       "0    AMD  AMD Ryzen™ 5 5600G Desktop Processor (6-core/1...   15,499   \n",
       "1    AMD  AMD Ryzen™ 7 5700G Desktop Processor (8-core/1...   23,650   \n",
       "2  Intel  Intel Core i5 3470 LGA 1155 Excellent Performa...    1,900   \n",
       "3    AMD  AMD Ryzen 3 3200G with RadeonVega 8 Graphics D...    8,599   \n",
       "4  Intel  Intel Core i3-10105F LGA1200 Desktop Processor...    7,300   \n",
       "\n",
       "         Delivery Date           Availability   Return Policy  \\\n",
       "0  Thursday,20October.              In stock.  Not-Returnable   \n",
       "1  Thursday,20October.              In stock.  Not-Returnable   \n",
       "2    Friday,21October.  Only 2 left in stock.  Not-Returnable   \n",
       "3  Thursday,20October.              In stock.  Not-Returnable   \n",
       "4   Tuesday,25October.              In stock.  Not-Returnable   \n",
       "\n",
       "                                         Product URL  \n",
       "0  https://www.amazon.in/sspa/click?ie=UTF8&spc=M...  \n",
       "1  https://www.amazon.in/sspa/click?ie=UTF8&spc=M...  \n",
       "2  https://www.amazon.in/Intel-Excellent-Performa...  \n",
       "3  https://www.amazon.in/AMD-RyzenTM-3200G-Radeon...  \n",
       "4  https://www.amazon.in/Intel-i3-10105F-LGA1200-...  "
      ]
     },
     "execution_count": 444,
     "metadata": {},
     "output_type": "execute_result"
    }
   ],
   "source": [
    "df1.head()"
   ]
  },
  {
   "cell_type": "code",
   "execution_count": null,
   "id": "39938a1e",
   "metadata": {},
   "outputs": [],
   "source": []
  },
  {
   "cell_type": "markdown",
   "id": "db217b25",
   "metadata": {},
   "source": [
    "# 3. Write a python program to access the search bar and search button on images.google.com and scrape 10 images each for keywords ‘fruits’, ‘cars’ and ‘Machine Learning’, ‘Guitar’, ‘Cakes’."
   ]
  },
  {
   "cell_type": "code",
   "execution_count": 3,
   "id": "53ffaa00",
   "metadata": {},
   "outputs": [],
   "source": [
    "driver=webdriver.Chrome(r\"C:\\Users\\RedPr\\Downloads\\chromedriver_win32\\chromedriver.exe\")\n",
    "driver.get(\"https://www.google.co.in/imghp?hl=en&ogbl\")"
   ]
  },
  {
   "cell_type": "markdown",
   "id": "e9aa52d9",
   "metadata": {},
   "source": [
    "Accessing the website.\n"
   ]
  },
  {
   "cell_type": "code",
   "execution_count": 19,
   "id": "8b5cb135",
   "metadata": {},
   "outputs": [],
   "source": [
    "from selenium.webdriver.common.keys import Keys\n",
    "\n",
    "search_text=driver.find_element(By.XPATH,\"//input[@class='gLFyf gsfi']\")\n",
    "search_text.send_keys(\"fruits\")\n",
    "search_text.send_keys(Keys.ENTER)"
   ]
  },
  {
   "cell_type": "markdown",
   "id": "998b06c6",
   "metadata": {},
   "source": [
    "\n",
    "Entering text in search box.\n",
    "Submitting the search."
   ]
  },
  {
   "cell_type": "code",
   "execution_count": 31,
   "id": "4633204a",
   "metadata": {},
   "outputs": [],
   "source": [
    "find_imgs=driver.find_elements(By.XPATH,'//img[@class=\"rg_i Q4LuWd\"]')\n",
    "src=[]\n",
    "for i in find_imgs[0:10]:\n",
    "    src.append(i.get_attribute(\"src\"))"
   ]
  },
  {
   "cell_type": "markdown",
   "id": "5800304e",
   "metadata": {},
   "source": [
    "Extracting image url."
   ]
  },
  {
   "cell_type": "code",
   "execution_count": 37,
   "id": "a09372b8",
   "metadata": {},
   "outputs": [],
   "source": [
    "search_text=driver.find_element(By.XPATH,\"//input[@class='og3lId']\").clear()\n",
    "driver.implicitly_wait(5)\n",
    "search_text=driver.find_element(By.XPATH,\"//input[@class='og3lId']\")\n",
    "search_text.send_keys(\"cars\")\n",
    "search_text.send_keys(Keys.ENTER)\n",
    "find_imgs=driver.find_elements(By.XPATH,'//img[@class=\"rg_i Q4LuWd\"]')\n",
    "src2=[]\n",
    "for i in find_imgs[0:10]:\n",
    "    src2.append(i.get_attribute(\"src\"))"
   ]
  },
  {
   "cell_type": "markdown",
   "id": "4d96ef72",
   "metadata": {},
   "source": [
    "Entering text in search box.\n",
    "Submitting the search.\n",
    "Extracting image url."
   ]
  },
  {
   "cell_type": "code",
   "execution_count": 106,
   "id": "3ee7ed76",
   "metadata": {},
   "outputs": [],
   "source": [
    "search_text=driver.find_element(By.XPATH,\"//input[@class='og3lId']\").clear()\n",
    "driver.implicitly_wait(5)\n",
    "search_text=driver.find_element(By.XPATH,\"//input[@class='og3lId']\")\n",
    "search_text.send_keys(\"Machine Learning\")\n",
    "search_text.send_keys(Keys.ENTER)\n",
    "find_imgs=driver.find_elements(By.XPATH,'//img[@class=\"rg_i Q4LuWd\"]')\n",
    "src3=[]\n",
    "for i in find_imgs[0:10]:\n",
    "    src3.append(i.get_attribute(\"src\"))"
   ]
  },
  {
   "cell_type": "markdown",
   "id": "e17daa3a",
   "metadata": {},
   "source": [
    "\n",
    "Entering text in search box.\n",
    "Submitting the search.\n",
    "Extracting image url."
   ]
  },
  {
   "cell_type": "code",
   "execution_count": 108,
   "id": "fcefa1cf",
   "metadata": {},
   "outputs": [],
   "source": [
    "search_text=driver.find_element(By.XPATH,\"//input[@class='og3lId']\").clear()\n",
    "driver.implicitly_wait(5)\n",
    "search_text=driver.find_element(By.XPATH,\"//input[@class='og3lId']\")\n",
    "search_text.send_keys(\"Guitar\")\n",
    "search_text.send_keys(Keys.ENTER)\n",
    "find_imgs=driver.find_elements(By.XPATH,'//img[@class=\"rg_i Q4LuWd\"]')\n",
    "src4=[]\n",
    "for i in find_imgs[0:10]:\n",
    "    src4.append(i.get_attribute(\"src\"))"
   ]
  },
  {
   "cell_type": "markdown",
   "id": "dacedfbd",
   "metadata": {},
   "source": [
    "\n",
    "Entering text in search box.\n",
    "Submitting the search.\n",
    "Extracting image url."
   ]
  },
  {
   "cell_type": "code",
   "execution_count": 110,
   "id": "c9a4df7a",
   "metadata": {},
   "outputs": [],
   "source": [
    "search_text=driver.find_element(By.XPATH,\"//input[@class='og3lId']\").clear()\n",
    "driver.implicitly_wait(5)\n",
    "search_text=driver.find_element(By.XPATH,\"//input[@class='og3lId']\")\n",
    "search_text.send_keys(\"Cakes\")\n",
    "search_text.send_keys(Keys.ENTER)\n",
    "find_imgs=driver.find_elements(By.XPATH,'//img[@class=\"rg_i Q4LuWd\"]')\n",
    "src5=[]\n",
    "for i in find_imgs[0:10]:\n",
    "    src5.append(i.get_attribute(\"src\"))"
   ]
  },
  {
   "cell_type": "markdown",
   "id": "ba62ba9b",
   "metadata": {},
   "source": [
    "\n",
    "Entering text in search box.\n",
    "Submitting the search.\n",
    "Extracting image url."
   ]
  },
  {
   "cell_type": "code",
   "execution_count": 111,
   "id": "183aa21f",
   "metadata": {
    "scrolled": true
   },
   "outputs": [
    {
     "data": {
      "text/html": [
       "<div>\n",
       "<style scoped>\n",
       "    .dataframe tbody tr th:only-of-type {\n",
       "        vertical-align: middle;\n",
       "    }\n",
       "\n",
       "    .dataframe tbody tr th {\n",
       "        vertical-align: top;\n",
       "    }\n",
       "\n",
       "    .dataframe thead th {\n",
       "        text-align: right;\n",
       "    }\n",
       "</style>\n",
       "<table border=\"1\" class=\"dataframe\">\n",
       "  <thead>\n",
       "    <tr style=\"text-align: right;\">\n",
       "      <th></th>\n",
       "      <th>Fruits</th>\n",
       "      <th>Cars</th>\n",
       "      <th>Machine Learning</th>\n",
       "      <th>Guitar</th>\n",
       "      <th>Cakes</th>\n",
       "    </tr>\n",
       "  </thead>\n",
       "  <tbody>\n",
       "    <tr>\n",
       "      <th>0</th>\n",
       "      <td>data:image/jpeg;base64,/9j/4AAQSkZJRgABAQAAAQA...</td>\n",
       "      <td>data:image/jpeg;base64,/9j/4AAQSkZJRgABAQAAAQA...</td>\n",
       "      <td>data:image/jpeg;base64,/9j/4AAQSkZJRgABAQAAAQA...</td>\n",
       "      <td>data:image/jpeg;base64,/9j/4AAQSkZJRgABAQAAAQA...</td>\n",
       "      <td>data:image/jpeg;base64,/9j/4AAQSkZJRgABAQAAAQA...</td>\n",
       "    </tr>\n",
       "    <tr>\n",
       "      <th>1</th>\n",
       "      <td>data:image/jpeg;base64,/9j/4AAQSkZJRgABAQAAAQA...</td>\n",
       "      <td>data:image/jpeg;base64,/9j/4AAQSkZJRgABAQAAAQA...</td>\n",
       "      <td>data:image/png;base64,iVBORw0KGgoAAAANSUhEUgAA...</td>\n",
       "      <td>data:image/jpeg;base64,/9j/4AAQSkZJRgABAQAAAQA...</td>\n",
       "      <td>data:image/jpeg;base64,/9j/4AAQSkZJRgABAQAAAQA...</td>\n",
       "    </tr>\n",
       "    <tr>\n",
       "      <th>2</th>\n",
       "      <td>data:image/jpeg;base64,/9j/4AAQSkZJRgABAQAAAQA...</td>\n",
       "      <td>data:image/jpeg;base64,/9j/4AAQSkZJRgABAQAAAQA...</td>\n",
       "      <td>data:image/jpeg;base64,/9j/4AAQSkZJRgABAQAAAQA...</td>\n",
       "      <td>data:image/jpeg;base64,/9j/4AAQSkZJRgABAQAAAQA...</td>\n",
       "      <td>data:image/jpeg;base64,/9j/4AAQSkZJRgABAQAAAQA...</td>\n",
       "    </tr>\n",
       "    <tr>\n",
       "      <th>3</th>\n",
       "      <td>data:image/jpeg;base64,/9j/4AAQSkZJRgABAQAAAQA...</td>\n",
       "      <td>data:image/jpeg;base64,/9j/4AAQSkZJRgABAQAAAQA...</td>\n",
       "      <td>data:image/jpeg;base64,/9j/4AAQSkZJRgABAQAAAQA...</td>\n",
       "      <td>data:image/jpeg;base64,/9j/4AAQSkZJRgABAQAAAQA...</td>\n",
       "      <td>data:image/jpeg;base64,/9j/4AAQSkZJRgABAQAAAQA...</td>\n",
       "    </tr>\n",
       "    <tr>\n",
       "      <th>4</th>\n",
       "      <td>data:image/jpeg;base64,/9j/4AAQSkZJRgABAQAAAQA...</td>\n",
       "      <td>data:image/jpeg;base64,/9j/4AAQSkZJRgABAQAAAQA...</td>\n",
       "      <td>data:image/jpeg;base64,/9j/4AAQSkZJRgABAQAAAQA...</td>\n",
       "      <td>data:image/jpeg;base64,/9j/4AAQSkZJRgABAQAAAQA...</td>\n",
       "      <td>data:image/jpeg;base64,/9j/4AAQSkZJRgABAQAAAQA...</td>\n",
       "    </tr>\n",
       "    <tr>\n",
       "      <th>5</th>\n",
       "      <td>data:image/jpeg;base64,/9j/4AAQSkZJRgABAQAAAQA...</td>\n",
       "      <td>data:image/jpeg;base64,/9j/4AAQSkZJRgABAQAAAQA...</td>\n",
       "      <td>data:image/jpeg;base64,/9j/4AAQSkZJRgABAQAAAQA...</td>\n",
       "      <td>data:image/jpeg;base64,/9j/4AAQSkZJRgABAQAAAQA...</td>\n",
       "      <td>data:image/jpeg;base64,/9j/4AAQSkZJRgABAQAAAQA...</td>\n",
       "    </tr>\n",
       "    <tr>\n",
       "      <th>6</th>\n",
       "      <td>data:image/jpeg;base64,/9j/4AAQSkZJRgABAQAAAQA...</td>\n",
       "      <td>data:image/jpeg;base64,/9j/4AAQSkZJRgABAQAAAQA...</td>\n",
       "      <td>data:image/jpeg;base64,/9j/4AAQSkZJRgABAQAAAQA...</td>\n",
       "      <td>data:image/jpeg;base64,/9j/4AAQSkZJRgABAQAAAQA...</td>\n",
       "      <td>data:image/jpeg;base64,/9j/4AAQSkZJRgABAQAAAQA...</td>\n",
       "    </tr>\n",
       "    <tr>\n",
       "      <th>7</th>\n",
       "      <td>data:image/jpeg;base64,/9j/4AAQSkZJRgABAQAAAQA...</td>\n",
       "      <td>data:image/jpeg;base64,/9j/4AAQSkZJRgABAQAAAQA...</td>\n",
       "      <td>data:image/jpeg;base64,/9j/4AAQSkZJRgABAQAAAQA...</td>\n",
       "      <td>data:image/jpeg;base64,/9j/4AAQSkZJRgABAQAAAQA...</td>\n",
       "      <td>data:image/jpeg;base64,/9j/4AAQSkZJRgABAQAAAQA...</td>\n",
       "    </tr>\n",
       "    <tr>\n",
       "      <th>8</th>\n",
       "      <td>data:image/jpeg;base64,/9j/4AAQSkZJRgABAQAAAQA...</td>\n",
       "      <td>data:image/jpeg;base64,/9j/4AAQSkZJRgABAQAAAQA...</td>\n",
       "      <td>data:image/jpeg;base64,/9j/4AAQSkZJRgABAQAAAQA...</td>\n",
       "      <td>data:image/jpeg;base64,/9j/4AAQSkZJRgABAQAAAQA...</td>\n",
       "      <td>data:image/jpeg;base64,/9j/4AAQSkZJRgABAQAAAQA...</td>\n",
       "    </tr>\n",
       "    <tr>\n",
       "      <th>9</th>\n",
       "      <td>data:image/jpeg;base64,/9j/4AAQSkZJRgABAQAAAQA...</td>\n",
       "      <td>data:image/jpeg;base64,/9j/4AAQSkZJRgABAQAAAQA...</td>\n",
       "      <td>data:image/jpeg;base64,/9j/4AAQSkZJRgABAQAAAQA...</td>\n",
       "      <td>data:image/jpeg;base64,/9j/4AAQSkZJRgABAQAAAQA...</td>\n",
       "      <td>data:image/jpeg;base64,/9j/4AAQSkZJRgABAQAAAQA...</td>\n",
       "    </tr>\n",
       "  </tbody>\n",
       "</table>\n",
       "</div>"
      ],
      "text/plain": [
       "                                              Fruits  \\\n",
       "0  data:image/jpeg;base64,/9j/4AAQSkZJRgABAQAAAQA...   \n",
       "1  data:image/jpeg;base64,/9j/4AAQSkZJRgABAQAAAQA...   \n",
       "2  data:image/jpeg;base64,/9j/4AAQSkZJRgABAQAAAQA...   \n",
       "3  data:image/jpeg;base64,/9j/4AAQSkZJRgABAQAAAQA...   \n",
       "4  data:image/jpeg;base64,/9j/4AAQSkZJRgABAQAAAQA...   \n",
       "5  data:image/jpeg;base64,/9j/4AAQSkZJRgABAQAAAQA...   \n",
       "6  data:image/jpeg;base64,/9j/4AAQSkZJRgABAQAAAQA...   \n",
       "7  data:image/jpeg;base64,/9j/4AAQSkZJRgABAQAAAQA...   \n",
       "8  data:image/jpeg;base64,/9j/4AAQSkZJRgABAQAAAQA...   \n",
       "9  data:image/jpeg;base64,/9j/4AAQSkZJRgABAQAAAQA...   \n",
       "\n",
       "                                                Cars  \\\n",
       "0  data:image/jpeg;base64,/9j/4AAQSkZJRgABAQAAAQA...   \n",
       "1  data:image/jpeg;base64,/9j/4AAQSkZJRgABAQAAAQA...   \n",
       "2  data:image/jpeg;base64,/9j/4AAQSkZJRgABAQAAAQA...   \n",
       "3  data:image/jpeg;base64,/9j/4AAQSkZJRgABAQAAAQA...   \n",
       "4  data:image/jpeg;base64,/9j/4AAQSkZJRgABAQAAAQA...   \n",
       "5  data:image/jpeg;base64,/9j/4AAQSkZJRgABAQAAAQA...   \n",
       "6  data:image/jpeg;base64,/9j/4AAQSkZJRgABAQAAAQA...   \n",
       "7  data:image/jpeg;base64,/9j/4AAQSkZJRgABAQAAAQA...   \n",
       "8  data:image/jpeg;base64,/9j/4AAQSkZJRgABAQAAAQA...   \n",
       "9  data:image/jpeg;base64,/9j/4AAQSkZJRgABAQAAAQA...   \n",
       "\n",
       "                                    Machine Learning  \\\n",
       "0  data:image/jpeg;base64,/9j/4AAQSkZJRgABAQAAAQA...   \n",
       "1  data:image/png;base64,iVBORw0KGgoAAAANSUhEUgAA...   \n",
       "2  data:image/jpeg;base64,/9j/4AAQSkZJRgABAQAAAQA...   \n",
       "3  data:image/jpeg;base64,/9j/4AAQSkZJRgABAQAAAQA...   \n",
       "4  data:image/jpeg;base64,/9j/4AAQSkZJRgABAQAAAQA...   \n",
       "5  data:image/jpeg;base64,/9j/4AAQSkZJRgABAQAAAQA...   \n",
       "6  data:image/jpeg;base64,/9j/4AAQSkZJRgABAQAAAQA...   \n",
       "7  data:image/jpeg;base64,/9j/4AAQSkZJRgABAQAAAQA...   \n",
       "8  data:image/jpeg;base64,/9j/4AAQSkZJRgABAQAAAQA...   \n",
       "9  data:image/jpeg;base64,/9j/4AAQSkZJRgABAQAAAQA...   \n",
       "\n",
       "                                              Guitar  \\\n",
       "0  data:image/jpeg;base64,/9j/4AAQSkZJRgABAQAAAQA...   \n",
       "1  data:image/jpeg;base64,/9j/4AAQSkZJRgABAQAAAQA...   \n",
       "2  data:image/jpeg;base64,/9j/4AAQSkZJRgABAQAAAQA...   \n",
       "3  data:image/jpeg;base64,/9j/4AAQSkZJRgABAQAAAQA...   \n",
       "4  data:image/jpeg;base64,/9j/4AAQSkZJRgABAQAAAQA...   \n",
       "5  data:image/jpeg;base64,/9j/4AAQSkZJRgABAQAAAQA...   \n",
       "6  data:image/jpeg;base64,/9j/4AAQSkZJRgABAQAAAQA...   \n",
       "7  data:image/jpeg;base64,/9j/4AAQSkZJRgABAQAAAQA...   \n",
       "8  data:image/jpeg;base64,/9j/4AAQSkZJRgABAQAAAQA...   \n",
       "9  data:image/jpeg;base64,/9j/4AAQSkZJRgABAQAAAQA...   \n",
       "\n",
       "                                               Cakes  \n",
       "0  data:image/jpeg;base64,/9j/4AAQSkZJRgABAQAAAQA...  \n",
       "1  data:image/jpeg;base64,/9j/4AAQSkZJRgABAQAAAQA...  \n",
       "2  data:image/jpeg;base64,/9j/4AAQSkZJRgABAQAAAQA...  \n",
       "3  data:image/jpeg;base64,/9j/4AAQSkZJRgABAQAAAQA...  \n",
       "4  data:image/jpeg;base64,/9j/4AAQSkZJRgABAQAAAQA...  \n",
       "5  data:image/jpeg;base64,/9j/4AAQSkZJRgABAQAAAQA...  \n",
       "6  data:image/jpeg;base64,/9j/4AAQSkZJRgABAQAAAQA...  \n",
       "7  data:image/jpeg;base64,/9j/4AAQSkZJRgABAQAAAQA...  \n",
       "8  data:image/jpeg;base64,/9j/4AAQSkZJRgABAQAAAQA...  \n",
       "9  data:image/jpeg;base64,/9j/4AAQSkZJRgABAQAAAQA...  "
      ]
     },
     "execution_count": 111,
     "metadata": {},
     "output_type": "execute_result"
    }
   ],
   "source": [
    "zzz=pd.DataFrame({\"Fruits\":src,\"Cars\":src2,\"Machine Learning\":src3,\"Guitar\":src4,\"Cakes\":src5})\n",
    "zzz"
   ]
  },
  {
   "cell_type": "code",
   "execution_count": null,
   "id": "841971c4",
   "metadata": {},
   "outputs": [],
   "source": []
  },
  {
   "cell_type": "markdown",
   "id": "b9b3cc5e",
   "metadata": {},
   "source": [
    "# 4. Write a python program to search for a smartphone and scrape following details for all the search results displayed on 1st page. Details to be.....\n"
   ]
  },
  {
   "cell_type": "code",
   "execution_count": 3,
   "id": "2d704a3d",
   "metadata": {},
   "outputs": [],
   "source": [
    "import selenium\n",
    "import pandas as pd\n",
    "from selenium import webdriver\n",
    "import warnings\n",
    "warnings.filterwarnings(\"ignore\")\n",
    "from selenium.common.exceptions import StaleElementReferenceException, NoSuchElementException\n",
    "from selenium.webdriver.common.by import By\n",
    "import time\n",
    "\n",
    "driver=webdriver.Chrome(r\"C:\\Users\\RedPr\\Downloads\\chromedriver_win32\\chromedriver.exe\")\n",
    "\n",
    "driver.get(\"https://www.flipkart.com/\")"
   ]
  },
  {
   "cell_type": "markdown",
   "id": "552ecb59",
   "metadata": {},
   "source": [
    "Accessing the website.\n"
   ]
  },
  {
   "cell_type": "code",
   "execution_count": 4,
   "id": "d299b87b",
   "metadata": {},
   "outputs": [],
   "source": [
    "cancel=driver.find_element(By.XPATH,\"/html/body/div[2]/div/div/button\")\n",
    "cancel.click()\n",
    "search_text=driver.find_element(By.CLASS_NAME,\"_3704LK\")\n",
    "search_text.send_keys(\"smartphone\")\n",
    "driver.implicitly_wait(5)\n",
    "searching=driver.find_element(By.CLASS_NAME,\"L0Z3Pu\")\n",
    "searching.click()"
   ]
  },
  {
   "cell_type": "markdown",
   "id": "988378e4",
   "metadata": {},
   "source": [
    "\n",
    "Closing the popup. Entering text in search box.\n",
    "Submitting the search.\n"
   ]
  },
  {
   "cell_type": "code",
   "execution_count": 43,
   "id": "e1254a3f",
   "metadata": {},
   "outputs": [],
   "source": [
    "u=[]\n",
    "url=driver.find_elements(By.XPATH,'//a[@class=\"_1fQZEK\"]')\n",
    "start=0\n",
    "for i in url[start:]:\n",
    "    u.append(i.get_attribute('href'))   "
   ]
  },
  {
   "cell_type": "markdown",
   "id": "2e6e0133",
   "metadata": {},
   "source": [
    "\n",
    "Extracting product url."
   ]
  },
  {
   "cell_type": "code",
   "execution_count": 44,
   "id": "160dbb28",
   "metadata": {},
   "outputs": [],
   "source": [
    "a=[]\n",
    "b=[]\n",
    "c=[]\n",
    "d=[]\n",
    "e=[]\n",
    "f=[]\n",
    "g=[]\n",
    "\n",
    "p=driver.find_elements(By.XPATH,'//div[@class=\"_4rR01T\"]')\n",
    "for i in p:\n",
    "    v=i.text\n",
    "    a.append(v)\n",
    "\n",
    "        \n",
    "n=driver.find_elements(By.XPATH,'//ul[@class=\"_1xgFaf\"]')\n",
    "for i in n:\n",
    "    z=i.text\n",
    "    c.append(z)\n",
    "            \n",
    "m=driver.find_elements(By.XPATH,'//div[@class=\"_30jeq3 _1_WHN1\"]')\n",
    "for i in m:\n",
    "    z=i.text\n",
    "    g.append(z)\n",
    "    \n",
    "h=[]\n",
    "url=driver.find_elements(By.XPATH,'//a[@class=\"_1fQZEK\"]')\n",
    "for i in url:\n",
    "    h.append(i.get_attribute(\"href\"))"
   ]
  },
  {
   "cell_type": "markdown",
   "id": "81d1588d",
   "metadata": {},
   "source": [
    "\n",
    "Extracting data from result page."
   ]
  },
  {
   "cell_type": "code",
   "execution_count": 45,
   "id": "430622f0",
   "metadata": {},
   "outputs": [
    {
     "name": "stdout",
     "output_type": "stream",
     "text": [
      "24 24 24 24\n"
     ]
    }
   ],
   "source": [
    "print(len(a),len(c),len(g),len(h))"
   ]
  },
  {
   "cell_type": "code",
   "execution_count": 46,
   "id": "078bfb61",
   "metadata": {},
   "outputs": [],
   "source": [
    "for i in c:\n",
    "    e.append(i.replace(\" \",\"-\"))\n",
    "    \n",
    "for i in e:\n",
    "    f.append(i.split())\n",
    "\n",
    "ram=[]\n",
    "check1='RAM'\n",
    "for j in range(len(c)):\n",
    "    if check1 in f[j][0]:\n",
    "        ram.append(f[j][0][0:1])\n",
    "    else:\n",
    "        ram.append(\" - \")"
   ]
  },
  {
   "cell_type": "markdown",
   "id": "30b7bf56",
   "metadata": {},
   "source": [
    "\n",
    "Extracting RAM information from string."
   ]
  },
  {
   "cell_type": "code",
   "execution_count": 47,
   "id": "dd7a05e6",
   "metadata": {},
   "outputs": [],
   "source": [
    "rom=[]\n",
    "check2='ROM'\n",
    "for j in range(len(c)):\n",
    "    if check1 not in f[j][0]:\n",
    "        rom.append(f[j][0][0:4])\n",
    "    elif check1 and check2 in f[j][0]:\n",
    "        rom.append(f[j][0][11:14])\n",
    "    else:\n",
    "        rom.append(\" - \")"
   ]
  },
  {
   "cell_type": "markdown",
   "id": "55fc7ad2",
   "metadata": {},
   "source": [
    "\n",
    "Extracting ROM information from string."
   ]
  },
  {
   "cell_type": "code",
   "execution_count": 48,
   "id": "d1e3fb3c",
   "metadata": {},
   "outputs": [],
   "source": [
    "display=[]\n",
    "check3='Display'\n",
    "for j in range(len(c)):\n",
    "    if check3 in f[j][1]:\n",
    "        display.append(f[j][1])\n",
    "    else:\n",
    "        display.append(\" - \")"
   ]
  },
  {
   "cell_type": "markdown",
   "id": "9ac3f4ba",
   "metadata": {},
   "source": [
    "\n",
    "Extracting Display information from string."
   ]
  },
  {
   "cell_type": "code",
   "execution_count": 49,
   "id": "44c5af1f",
   "metadata": {},
   "outputs": [],
   "source": [
    "cam=[]\n",
    "check4='Camera'\n",
    "for j in range(len(c)):\n",
    "    if check4 in f[j][2]:\n",
    "        cam.append(f[j][2])\n",
    "    else:\n",
    "        cam.append(\" - \")\n"
   ]
  },
  {
   "cell_type": "markdown",
   "id": "f659c145",
   "metadata": {},
   "source": [
    "\n",
    "Extracting Camera information from string."
   ]
  },
  {
   "cell_type": "code",
   "execution_count": 50,
   "id": "dbefc4ce",
   "metadata": {},
   "outputs": [],
   "source": [
    "cam2=[]\n",
    "for i in cam:\n",
    "    cam2.append(i.replace(\"|\",\" \"))\n",
    "                \n",
    "cam3=[]\n",
    "for i in cam2:\n",
    "    cam3.append(i.split())\n",
    "\n",
    "primarycam=[]\n",
    "secondarycam=[]\n",
    "for i in cam3:\n",
    "    primarycam.append(i[0])\n",
    "    secondarycam.append(i[1])\n"
   ]
  },
  {
   "cell_type": "markdown",
   "id": "0232ed14",
   "metadata": {},
   "source": [
    "\n",
    "Extracting Back and Front Camera information from string."
   ]
  },
  {
   "cell_type": "code",
   "execution_count": 51,
   "id": "0a122ddc",
   "metadata": {},
   "outputs": [],
   "source": [
    "battery=[]\n",
    "check5='Battery'\n",
    "for j in range(len(c)):\n",
    "    if check5 in f[j][3]:\n",
    "        battery.append(f[j][3])\n",
    "    else:\n",
    "        battery.append(\" - \")\n"
   ]
  },
  {
   "cell_type": "markdown",
   "id": "f7fe3d34",
   "metadata": {},
   "source": [
    "\n",
    "Extracting Battery information from string."
   ]
  },
  {
   "cell_type": "code",
   "execution_count": 52,
   "id": "6e53f868",
   "metadata": {},
   "outputs": [],
   "source": [
    "name=[]\n",
    "for i in a:\n",
    "    name.append(i.split())\n",
    "\n",
    "brand=[]\n",
    "for i in name:\n",
    "    brand.append(i[0:1])\n",
    "    \n",
    "mode=[]\n",
    "for i in name:\n",
    "    mode.append(i[0:3])\n"
   ]
  },
  {
   "cell_type": "markdown",
   "id": "14d1a588",
   "metadata": {},
   "source": [
    "\n",
    "Extracting Brand and Model information from string."
   ]
  },
  {
   "cell_type": "code",
   "execution_count": 53,
   "id": "48cc783b",
   "metadata": {},
   "outputs": [],
   "source": [
    "color=[]\n",
    "for i in name:\n",
    "    for j in range(len(i)):\n",
    "        if \"(\" in i[j]:\n",
    "            color.append(i[j]+i[j+1])"
   ]
  },
  {
   "cell_type": "markdown",
   "id": "00cf7a02",
   "metadata": {},
   "source": [
    "\n",
    "Extracting Color information from string."
   ]
  },
  {
   "cell_type": "code",
   "execution_count": 54,
   "id": "914dfe3b",
   "metadata": {},
   "outputs": [
    {
     "data": {
      "text/html": [
       "<div>\n",
       "<style scoped>\n",
       "    .dataframe tbody tr th:only-of-type {\n",
       "        vertical-align: middle;\n",
       "    }\n",
       "\n",
       "    .dataframe tbody tr th {\n",
       "        vertical-align: top;\n",
       "    }\n",
       "\n",
       "    .dataframe thead th {\n",
       "        text-align: right;\n",
       "    }\n",
       "</style>\n",
       "<table border=\"1\" class=\"dataframe\">\n",
       "  <thead>\n",
       "    <tr style=\"text-align: right;\">\n",
       "      <th></th>\n",
       "      <th>Brand</th>\n",
       "      <th>Model</th>\n",
       "      <th>Price (₹)</th>\n",
       "      <th>RAM (GB)</th>\n",
       "      <th>ROM (GB)</th>\n",
       "      <th>Display</th>\n",
       "      <th>Primary Cam</th>\n",
       "      <th>Secondary Cam</th>\n",
       "      <th>Battery</th>\n",
       "      <th>URL</th>\n",
       "    </tr>\n",
       "  </thead>\n",
       "  <tbody>\n",
       "    <tr>\n",
       "      <th>0</th>\n",
       "      <td>[SAMSUNG]</td>\n",
       "      <td>[SAMSUNG, Galaxy, F13]</td>\n",
       "      <td>₹14,999</td>\n",
       "      <td>4</td>\n",
       "      <td>64-</td>\n",
       "      <td>16.76-cm-(6.6-inch)-Full-HD+-Display</td>\n",
       "      <td>50MP-+-5MP-+-2MP-</td>\n",
       "      <td>-8MP-Front-Camera</td>\n",
       "      <td>6000-mAh-Lithium-Ion-Battery</td>\n",
       "      <td>https://www.flipkart.com/samsung-galaxy-f13-ni...</td>\n",
       "    </tr>\n",
       "    <tr>\n",
       "      <th>1</th>\n",
       "      <td>[SAMSUNG]</td>\n",
       "      <td>[SAMSUNG, Galaxy, F13]</td>\n",
       "      <td>₹14,999</td>\n",
       "      <td>4</td>\n",
       "      <td>64-</td>\n",
       "      <td>16.76-cm-(6.6-inch)-Full-HD+-Display</td>\n",
       "      <td>50MP-+-5MP-+-2MP-</td>\n",
       "      <td>-8MP-Front-Camera</td>\n",
       "      <td>6000-mAh-Lithium-Ion-Battery</td>\n",
       "      <td>https://www.flipkart.com/samsung-galaxy-f13-wa...</td>\n",
       "    </tr>\n",
       "    <tr>\n",
       "      <th>2</th>\n",
       "      <td>[APPLE]</td>\n",
       "      <td>[APPLE, iPhone, 11]</td>\n",
       "      <td>₹46,990</td>\n",
       "      <td>-</td>\n",
       "      <td>128-</td>\n",
       "      <td>15.49-cm-(6.1-inch)-Liquid-Retina-HD-Display</td>\n",
       "      <td>12MP-+-12MP-</td>\n",
       "      <td>-12MP-Front-Camera</td>\n",
       "      <td>-</td>\n",
       "      <td>https://www.flipkart.com/apple-iphone-11-white...</td>\n",
       "    </tr>\n",
       "    <tr>\n",
       "      <th>3</th>\n",
       "      <td>[APPLE]</td>\n",
       "      <td>[APPLE, iPhone, 11]</td>\n",
       "      <td>₹46,990</td>\n",
       "      <td>-</td>\n",
       "      <td>128-</td>\n",
       "      <td>15.49-cm-(6.1-inch)-Liquid-Retina-HD-Display</td>\n",
       "      <td>12MP-+-12MP-</td>\n",
       "      <td>-12MP-Front-Camera</td>\n",
       "      <td>-</td>\n",
       "      <td>https://www.flipkart.com/apple-iphone-11-black...</td>\n",
       "    </tr>\n",
       "    <tr>\n",
       "      <th>4</th>\n",
       "      <td>[SAMSUNG]</td>\n",
       "      <td>[SAMSUNG, Galaxy, F13]</td>\n",
       "      <td>₹14,999</td>\n",
       "      <td>4</td>\n",
       "      <td>64-</td>\n",
       "      <td>16.76-cm-(6.6-inch)-Full-HD+-Display</td>\n",
       "      <td>50MP-+-5MP-+-2MP-</td>\n",
       "      <td>-8MP-Front-Camera</td>\n",
       "      <td>6000-mAh-Lithium-Ion-Battery</td>\n",
       "      <td>https://www.flipkart.com/samsung-galaxy-f13-su...</td>\n",
       "    </tr>\n",
       "  </tbody>\n",
       "</table>\n",
       "</div>"
      ],
      "text/plain": [
       "       Brand                   Model Price (₹) RAM (GB) ROM (GB)  \\\n",
       "0  [SAMSUNG]  [SAMSUNG, Galaxy, F13]   ₹14,999        4      64-   \n",
       "1  [SAMSUNG]  [SAMSUNG, Galaxy, F13]   ₹14,999        4      64-   \n",
       "2    [APPLE]     [APPLE, iPhone, 11]   ₹46,990       -      128-   \n",
       "3    [APPLE]     [APPLE, iPhone, 11]   ₹46,990       -      128-   \n",
       "4  [SAMSUNG]  [SAMSUNG, Galaxy, F13]   ₹14,999        4      64-   \n",
       "\n",
       "                                        Display        Primary Cam  \\\n",
       "0          16.76-cm-(6.6-inch)-Full-HD+-Display  50MP-+-5MP-+-2MP-   \n",
       "1          16.76-cm-(6.6-inch)-Full-HD+-Display  50MP-+-5MP-+-2MP-   \n",
       "2  15.49-cm-(6.1-inch)-Liquid-Retina-HD-Display       12MP-+-12MP-   \n",
       "3  15.49-cm-(6.1-inch)-Liquid-Retina-HD-Display       12MP-+-12MP-   \n",
       "4          16.76-cm-(6.6-inch)-Full-HD+-Display  50MP-+-5MP-+-2MP-   \n",
       "\n",
       "        Secondary Cam                       Battery  \\\n",
       "0   -8MP-Front-Camera  6000-mAh-Lithium-Ion-Battery   \n",
       "1   -8MP-Front-Camera  6000-mAh-Lithium-Ion-Battery   \n",
       "2  -12MP-Front-Camera                            -    \n",
       "3  -12MP-Front-Camera                            -    \n",
       "4   -8MP-Front-Camera  6000-mAh-Lithium-Ion-Battery   \n",
       "\n",
       "                                                 URL  \n",
       "0  https://www.flipkart.com/samsung-galaxy-f13-ni...  \n",
       "1  https://www.flipkart.com/samsung-galaxy-f13-wa...  \n",
       "2  https://www.flipkart.com/apple-iphone-11-white...  \n",
       "3  https://www.flipkart.com/apple-iphone-11-black...  \n",
       "4  https://www.flipkart.com/samsung-galaxy-f13-su...  "
      ]
     },
     "execution_count": 54,
     "metadata": {},
     "output_type": "execute_result"
    }
   ],
   "source": [
    "df3=pd.DataFrame({\"Brand\":brand,\"Model\":mode,\"Price (₹)\":g,\"RAM (GB)\":ram,\"ROM (GB)\":rom,\"Display\":display,\"Primary Cam\":primarycam,\"Secondary Cam\":secondarycam,\"Battery\":battery,\"URL\":h})\n",
    "df3.head()"
   ]
  },
  {
   "cell_type": "markdown",
   "id": "5fb2c49f",
   "metadata": {},
   "source": [
    "Data Cleaning"
   ]
  },
  {
   "cell_type": "code",
   "execution_count": 55,
   "id": "ac6a9f71",
   "metadata": {},
   "outputs": [],
   "source": [
    "newbrand=[]\n",
    "for i in df3.iloc[:,0]:\n",
    "    for j in i:\n",
    "        newbrand.append(j)\n",
    "    \n",
    "df3[\"Brand\"]=newbrand\n",
    "\n",
    "df3[\"Brand\"]=df3[\"Brand\"].replace(\"REDMI\",\"XIAOMI\")"
   ]
  },
  {
   "cell_type": "markdown",
   "id": "3599c54e",
   "metadata": {},
   "source": [
    "Replacing Model Name with Brand name in brand column."
   ]
  },
  {
   "cell_type": "code",
   "execution_count": 56,
   "id": "16fbf00f",
   "metadata": {},
   "outputs": [],
   "source": [
    "for i in df3[\"Model\"]:\n",
    "    for j in range(len(df3[\"Model\"])):\n",
    "            if \"(\" in df3.iloc[j,1][2]:\n",
    "                df3.iloc[j,1][2]=df3.iloc[j,1][2].replace(df3.iloc[j,1][2],\" \")\n",
    "\n",
    "                \n",
    "newmod=[]\n",
    "for i in df3.iloc[:,1]:\n",
    "        newmod.append(i[0]+\" \"+i[1]+\" \"+i[2])\n",
    "\n",
    "df3[\"Model\"]=newmod"
   ]
  },
  {
   "cell_type": "markdown",
   "id": "cbe7b3f6",
   "metadata": {},
   "source": [
    "Separating Model name from unnecessary data."
   ]
  },
  {
   "cell_type": "code",
   "execution_count": 57,
   "id": "8a708df4",
   "metadata": {},
   "outputs": [],
   "source": [
    "dis=[]\n",
    "for j in df3[\"Display\"]:\n",
    "    dis.append(j.replace(\"-\",\" \"))\n",
    "\n",
    "df3[\"Display\"]=dis"
   ]
  },
  {
   "cell_type": "markdown",
   "id": "45c7694c",
   "metadata": {},
   "source": [
    "Replacing hyphen with space tab in Display colum."
   ]
  },
  {
   "cell_type": "code",
   "execution_count": 58,
   "id": "3e6cfeac",
   "metadata": {},
   "outputs": [],
   "source": [
    "prim=[]\n",
    "for i in df3[\"Primary Cam\"]:\n",
    "    prim.append(i.replace(\"-\",\" \"))\n",
    "\n",
    "sec=[]\n",
    "for i in df3[\"Secondary Cam\"]:\n",
    "    sec.append(i.replace(\"-\",\" \"))\n",
    "    \n",
    "df3[\"Primary Cam\"]=prim\n",
    "df3[\"Secondary Cam\"]=sec"
   ]
  },
  {
   "cell_type": "markdown",
   "id": "ae9f6048",
   "metadata": {},
   "source": [
    "\n",
    "Replacing hyphen with space tab in Primary and Secondary Camera columns."
   ]
  },
  {
   "cell_type": "code",
   "execution_count": 65,
   "id": "cf236eb5",
   "metadata": {},
   "outputs": [],
   "source": [
    "mah=[]\n",
    "for i in df3[\"Battery\"]:\n",
    "    if len(i)>3:\n",
    "        mah.append(i.replace(\"-\",\" \"))\n",
    "    else:\n",
    "        mah.append(i.replace(\"   \",\"-\"))\n",
    "    \n",
    "df3[\"Battery\"]=mah"
   ]
  },
  {
   "cell_type": "markdown",
   "id": "d6ded50a",
   "metadata": {},
   "source": [
    "Replacing hyphen with space tab in Battery column."
   ]
  },
  {
   "cell_type": "code",
   "execution_count": 60,
   "id": "88a67bc2",
   "metadata": {},
   "outputs": [],
   "source": [
    "tag=[]\n",
    "for i in df3[\"Price (₹)\"]:\n",
    "    tag.append(i[1:])\n",
    "    \n",
    "df3[\"Price (₹)\"]=tag"
   ]
  },
  {
   "cell_type": "markdown",
   "id": "961abe92",
   "metadata": {},
   "source": [
    "Removing currency string symbol."
   ]
  },
  {
   "cell_type": "code",
   "execution_count": 71,
   "id": "3c718bbb",
   "metadata": {},
   "outputs": [],
   "source": [
    "z=[]\n",
    "for i in df3[\"ROM (GB)\"]:\n",
    "    z.append(i[:-1])\n",
    "df3[\"ROM (GB)\"]=z"
   ]
  },
  {
   "cell_type": "code",
   "execution_count": 72,
   "id": "5733cf57",
   "metadata": {},
   "outputs": [
    {
     "data": {
      "text/html": [
       "<div>\n",
       "<style scoped>\n",
       "    .dataframe tbody tr th:only-of-type {\n",
       "        vertical-align: middle;\n",
       "    }\n",
       "\n",
       "    .dataframe tbody tr th {\n",
       "        vertical-align: top;\n",
       "    }\n",
       "\n",
       "    .dataframe thead th {\n",
       "        text-align: right;\n",
       "    }\n",
       "</style>\n",
       "<table border=\"1\" class=\"dataframe\">\n",
       "  <thead>\n",
       "    <tr style=\"text-align: right;\">\n",
       "      <th></th>\n",
       "      <th>Brand</th>\n",
       "      <th>Model</th>\n",
       "      <th>Price (₹)</th>\n",
       "      <th>RAM (GB)</th>\n",
       "      <th>ROM (GB)</th>\n",
       "      <th>Display</th>\n",
       "      <th>Primary Cam</th>\n",
       "      <th>Secondary Cam</th>\n",
       "      <th>Battery</th>\n",
       "      <th>URL</th>\n",
       "    </tr>\n",
       "  </thead>\n",
       "  <tbody>\n",
       "    <tr>\n",
       "      <th>0</th>\n",
       "      <td>SAMSUNG</td>\n",
       "      <td>SAMSUNG Galaxy F13</td>\n",
       "      <td>14,999</td>\n",
       "      <td>4</td>\n",
       "      <td>64</td>\n",
       "      <td>16.76 cm (6.6 inch) Full HD+ Display</td>\n",
       "      <td>50MP + 5MP + 2MP</td>\n",
       "      <td>8MP Front Camera</td>\n",
       "      <td>6000 mAh Lithium Ion Battery</td>\n",
       "      <td>https://www.flipkart.com/samsung-galaxy-f13-ni...</td>\n",
       "    </tr>\n",
       "    <tr>\n",
       "      <th>1</th>\n",
       "      <td>SAMSUNG</td>\n",
       "      <td>SAMSUNG Galaxy F13</td>\n",
       "      <td>14,999</td>\n",
       "      <td>4</td>\n",
       "      <td>64</td>\n",
       "      <td>16.76 cm (6.6 inch) Full HD+ Display</td>\n",
       "      <td>50MP + 5MP + 2MP</td>\n",
       "      <td>8MP Front Camera</td>\n",
       "      <td>6000 mAh Lithium Ion Battery</td>\n",
       "      <td>https://www.flipkart.com/samsung-galaxy-f13-wa...</td>\n",
       "    </tr>\n",
       "    <tr>\n",
       "      <th>2</th>\n",
       "      <td>APPLE</td>\n",
       "      <td>APPLE iPhone 11</td>\n",
       "      <td>46,990</td>\n",
       "      <td>-</td>\n",
       "      <td>128</td>\n",
       "      <td>15.49 cm (6.1 inch) Liquid Retina HD Display</td>\n",
       "      <td>12MP + 12MP</td>\n",
       "      <td>12MP Front Camera</td>\n",
       "      <td>-</td>\n",
       "      <td>https://www.flipkart.com/apple-iphone-11-white...</td>\n",
       "    </tr>\n",
       "    <tr>\n",
       "      <th>3</th>\n",
       "      <td>APPLE</td>\n",
       "      <td>APPLE iPhone 11</td>\n",
       "      <td>46,990</td>\n",
       "      <td>-</td>\n",
       "      <td>128</td>\n",
       "      <td>15.49 cm (6.1 inch) Liquid Retina HD Display</td>\n",
       "      <td>12MP + 12MP</td>\n",
       "      <td>12MP Front Camera</td>\n",
       "      <td>-</td>\n",
       "      <td>https://www.flipkart.com/apple-iphone-11-black...</td>\n",
       "    </tr>\n",
       "    <tr>\n",
       "      <th>4</th>\n",
       "      <td>SAMSUNG</td>\n",
       "      <td>SAMSUNG Galaxy F13</td>\n",
       "      <td>14,999</td>\n",
       "      <td>4</td>\n",
       "      <td>64</td>\n",
       "      <td>16.76 cm (6.6 inch) Full HD+ Display</td>\n",
       "      <td>50MP + 5MP + 2MP</td>\n",
       "      <td>8MP Front Camera</td>\n",
       "      <td>6000 mAh Lithium Ion Battery</td>\n",
       "      <td>https://www.flipkart.com/samsung-galaxy-f13-su...</td>\n",
       "    </tr>\n",
       "  </tbody>\n",
       "</table>\n",
       "</div>"
      ],
      "text/plain": [
       "     Brand               Model Price (₹) RAM (GB) ROM (GB)  \\\n",
       "0  SAMSUNG  SAMSUNG Galaxy F13    14,999        4       64   \n",
       "1  SAMSUNG  SAMSUNG Galaxy F13    14,999        4       64   \n",
       "2    APPLE     APPLE iPhone 11    46,990       -       128   \n",
       "3    APPLE     APPLE iPhone 11    46,990       -       128   \n",
       "4  SAMSUNG  SAMSUNG Galaxy F13    14,999        4       64   \n",
       "\n",
       "                                        Display        Primary Cam  \\\n",
       "0          16.76 cm (6.6 inch) Full HD+ Display  50MP + 5MP + 2MP    \n",
       "1          16.76 cm (6.6 inch) Full HD+ Display  50MP + 5MP + 2MP    \n",
       "2  15.49 cm (6.1 inch) Liquid Retina HD Display       12MP + 12MP    \n",
       "3  15.49 cm (6.1 inch) Liquid Retina HD Display       12MP + 12MP    \n",
       "4          16.76 cm (6.6 inch) Full HD+ Display  50MP + 5MP + 2MP    \n",
       "\n",
       "        Secondary Cam                       Battery  \\\n",
       "0    8MP Front Camera  6000 mAh Lithium Ion Battery   \n",
       "1    8MP Front Camera  6000 mAh Lithium Ion Battery   \n",
       "2   12MP Front Camera                             -   \n",
       "3   12MP Front Camera                             -   \n",
       "4    8MP Front Camera  6000 mAh Lithium Ion Battery   \n",
       "\n",
       "                                                 URL  \n",
       "0  https://www.flipkart.com/samsung-galaxy-f13-ni...  \n",
       "1  https://www.flipkart.com/samsung-galaxy-f13-wa...  \n",
       "2  https://www.flipkart.com/apple-iphone-11-white...  \n",
       "3  https://www.flipkart.com/apple-iphone-11-black...  \n",
       "4  https://www.flipkart.com/samsung-galaxy-f13-su...  "
      ]
     },
     "execution_count": 72,
     "metadata": {},
     "output_type": "execute_result"
    }
   ],
   "source": [
    "df3.head()"
   ]
  },
  {
   "cell_type": "code",
   "execution_count": null,
   "id": "d3a75389",
   "metadata": {},
   "outputs": [],
   "source": []
  },
  {
   "cell_type": "markdown",
   "id": "ab785cb6",
   "metadata": {},
   "source": [
    "# 5. Write a program to scrap geospatial coordinates (latitude, longitude) of a city searched on google maps."
   ]
  },
  {
   "cell_type": "code",
   "execution_count": 3,
   "id": "82aa6d56",
   "metadata": {},
   "outputs": [],
   "source": [
    "driver=webdriver.Chrome(r\"C:\\Users\\RedPr\\Downloads\\chromedriver_win32\\chromedriver.exe\")\n",
    "driver.get(\"https://www.google.com/maps\")\n",
    "driver.implicitly_wait(5)"
   ]
  },
  {
   "cell_type": "markdown",
   "id": "943860fe",
   "metadata": {},
   "source": [
    "Accessing the google maps.\n"
   ]
  },
  {
   "cell_type": "code",
   "execution_count": 4,
   "id": "bd3d90a1",
   "metadata": {},
   "outputs": [],
   "source": [
    "searchbox=driver.find_element(By.XPATH,\"/html/body/div[3]/div[9]/div[3]/div[1]/div[1]/div[1]/div[2]/form/div[2]/div[3]/div/input[1]\")\n",
    "searchbox.click()\n",
    "search=driver.find_element(By.XPATH,\"/html/body/div[3]/div[9]/div[3]/div[1]/div[1]/div[1]/div[2]/form/div[2]/div[3]/div/input[1]\")\n",
    "search.send_keys(\"London, UK\")\n",
    "driver.implicitly_wait(5)\n",
    "go=driver.find_element(By.XPATH,\"/html/body/div[3]/div[9]/div[3]/div[1]/div[1]/div[2]/div[2]/div[1]/div/div/div[1]/div/div[2]/div/div/div[1]\")\n",
    "go.click()"
   ]
  },
  {
   "cell_type": "markdown",
   "id": "d3ad5e94",
   "metadata": {},
   "source": [
    "Entering text in search box.\n",
    "Submitting the search."
   ]
  },
  {
   "cell_type": "code",
   "execution_count": 72,
   "id": "0e725d22",
   "metadata": {},
   "outputs": [
    {
     "data": {
      "text/plain": [
       "[['+UK/@51.5287352', '-0.381789']]"
      ]
     },
     "execution_count": 72,
     "metadata": {},
     "output_type": "execute_result"
    }
   ],
   "source": [
    "url=driver.current_url\n",
    "loc=[]\n",
    "u=[]\n",
    "url=url.replace(\",\",\" \")\n",
    "url=url.split()\n",
    "loc.append(url[1:3])\n",
    "loc"
   ]
  },
  {
   "cell_type": "markdown",
   "id": "bf4e1160",
   "metadata": {},
   "source": [
    "Extracting coordinates from URL of searched loaction."
   ]
  },
  {
   "cell_type": "code",
   "execution_count": 73,
   "id": "dc336f92",
   "metadata": {},
   "outputs": [
    {
     "data": {
      "text/plain": [
       "'+UK 51.5287352'"
      ]
     },
     "execution_count": 73,
     "metadata": {},
     "output_type": "execute_result"
    }
   ],
   "source": [
    "loc[0][0]=loc[0][0].replace(\"/@\",\" \")\n",
    "loc[0][0]"
   ]
  },
  {
   "cell_type": "markdown",
   "id": "af32ea3d",
   "metadata": {},
   "source": [
    "Replacing the unnecessary data with space."
   ]
  },
  {
   "cell_type": "code",
   "execution_count": 74,
   "id": "e5f8f5cd",
   "metadata": {},
   "outputs": [
    {
     "data": {
      "text/plain": [
       "['+UK', '51.5287352']"
      ]
     },
     "execution_count": 74,
     "metadata": {},
     "output_type": "execute_result"
    }
   ],
   "source": [
    "loc[0][0]=loc[0][0].split()\n",
    "loc[0][0]"
   ]
  },
  {
   "cell_type": "markdown",
   "id": "b2edda03",
   "metadata": {},
   "source": [
    "Splitting the data to get coordinates"
   ]
  },
  {
   "cell_type": "code",
   "execution_count": 75,
   "id": "ba06d9e2",
   "metadata": {
    "scrolled": true
   },
   "outputs": [
    {
     "data": {
      "text/plain": [
       "[[['51.5287352'], '-0.381789']]"
      ]
     },
     "execution_count": 75,
     "metadata": {},
     "output_type": "execute_result"
    }
   ],
   "source": [
    "del loc[0][0][0]\n",
    "loc"
   ]
  },
  {
   "cell_type": "markdown",
   "id": "63b25bed",
   "metadata": {},
   "source": [
    "Deleting unnecessary element from list."
   ]
  },
  {
   "cell_type": "code",
   "execution_count": 76,
   "id": "2044e22d",
   "metadata": {},
   "outputs": [
    {
     "data": {
      "text/plain": [
       "'51.5287352,-0.381789'"
      ]
     },
     "execution_count": 76,
     "metadata": {},
     "output_type": "execute_result"
    }
   ],
   "source": [
    "long_lat=loc[0][0][0]+\",\"+loc[0][1]\n",
    "long_lat"
   ]
  },
  {
   "cell_type": "code",
   "execution_count": null,
   "id": "e4bba070",
   "metadata": {},
   "outputs": [],
   "source": []
  },
  {
   "cell_type": "markdown",
   "id": "0ee095b8",
   "metadata": {},
   "source": [
    "# 6. Write a program to scrap details of all the funding deals for first quarter (i.e Jan 21 – March 21) from trak.in.\n"
   ]
  },
  {
   "cell_type": "code",
   "execution_count": 4,
   "id": "ff3b67b2",
   "metadata": {},
   "outputs": [],
   "source": [
    "driver=webdriver.Chrome(r\"C:\\Users\\RedPr\\Downloads\\chromedriver_win32\\chromedriver.exe\")\n",
    "driver.get(\"https://trak.in/\")\n",
    "driver.implicitly_wait(5)"
   ]
  },
  {
   "cell_type": "markdown",
   "id": "339006d7",
   "metadata": {},
   "source": [
    "Accessing the trak.in website."
   ]
  },
  {
   "cell_type": "code",
   "execution_count": 5,
   "id": "929e6eb9",
   "metadata": {},
   "outputs": [],
   "source": [
    "search=driver.find_element(By.XPATH,\"/html/body/div[1]/header/div[2]/div/div/div/div/nav/ul/li[9]/a\")\n",
    "search.click()\n",
    "driver.implicitly_wait(5)"
   ]
  },
  {
   "cell_type": "markdown",
   "id": "7547ae45",
   "metadata": {},
   "source": [
    "Accessing the drop down menu under label \"More\" from the navigation bar in the header of the webpage."
   ]
  },
  {
   "cell_type": "code",
   "execution_count": 6,
   "id": "50087c5f",
   "metadata": {},
   "outputs": [],
   "source": [
    "search=driver.find_element(By.XPATH,\"/html/body/div[1]/header/div[2]/div/div/div/div/nav/ul/li[9]/ul/li[1]/a\")\n",
    "search.click()\n",
    "driver.implicitly_wait(5)"
   ]
  },
  {
   "cell_type": "markdown",
   "id": "bf7c299b",
   "metadata": {},
   "source": [
    "Selecting Funding details from drop down of \"More\"."
   ]
  },
  {
   "cell_type": "code",
   "execution_count": 7,
   "id": "edfae5fb",
   "metadata": {},
   "outputs": [],
   "source": [
    "get_url=driver.current_url\n",
    "from bs4 import BeautifulSoup\n",
    "import requests\n",
    "import re\n",
    "inf=[]\n",
    "page = requests.get(get_url)\n",
    "soup = BeautifulSoup(page.content)\n",
    "for i in soup.find_all('td',class_=re.compile(\"column-\")):\n",
    "    inf.append(i.text)\n",
    "\n"
   ]
  },
  {
   "cell_type": "markdown",
   "id": "088af832",
   "metadata": {},
   "source": [
    "- Extracting the current page URL and then \n",
    "- Using Beautiful Soup to find table content using tag."
   ]
  },
  {
   "cell_type": "code",
   "execution_count": 23,
   "id": "f0ec5b30",
   "metadata": {},
   "outputs": [],
   "source": [
    "jan=[]\n",
    "\n",
    "for i in range(len(inf)):\n",
    "    if inf[i][3:]=='01/2021':\n",
    "        jan.append(inf[i-1:i+8])\n",
    "        \n",
    "feb=[]\n",
    "\n",
    "for i in range(len(inf)):\n",
    "    if inf[i][3:]=='02/2021':\n",
    "        feb.append(inf[i-1:i+8])\n",
    "        \n",
    "mar=[]\n",
    "\n",
    "for i in range(len(inf)):\n",
    "    if inf[i][3:]=='03/2021':\n",
    "        mar.append(inf[i-1:i+8])"
   ]
  },
  {
   "cell_type": "markdown",
   "id": "0d341c70",
   "metadata": {},
   "source": [
    "Extracting information for month January, February and March indicating Quarter 1 of 2021 using date from the content extracted using Beautoful Soup."
   ]
  },
  {
   "cell_type": "code",
   "execution_count": 74,
   "id": "b97095e9",
   "metadata": {},
   "outputs": [],
   "source": [
    "date=[]\n",
    "name=[]\n",
    "ind=[]\n",
    "sub=[]\n",
    "city=[]\n",
    "investors=[]\n",
    "invtype=[]\n",
    "amount=[]\n",
    "q1=[jan,feb,mar]"
   ]
  },
  {
   "cell_type": "code",
   "execution_count": 75,
   "id": "86d9cc8e",
   "metadata": {},
   "outputs": [],
   "source": [
    "for i in q1:\n",
    "    for j in range(len(i)):\n",
    "        date.append(i[j][1])\n"
   ]
  },
  {
   "cell_type": "markdown",
   "id": "f31a6a5d",
   "metadata": {},
   "source": [
    "\n",
    "Extracting all the dates of Q1 months into list."
   ]
  },
  {
   "cell_type": "code",
   "execution_count": 76,
   "id": "f42feda6",
   "metadata": {},
   "outputs": [],
   "source": [
    "for i in q1:\n",
    "    for j in range(len(i)):\n",
    "        name.append(i[j][2])"
   ]
  },
  {
   "cell_type": "markdown",
   "id": "9b1302a0",
   "metadata": {},
   "source": [
    "\n",
    "Extracting all the company names of Q1 months into list."
   ]
  },
  {
   "cell_type": "code",
   "execution_count": 77,
   "id": "8ea05412",
   "metadata": {},
   "outputs": [],
   "source": [
    "for i in q1:\n",
    "    for j in range(len(i)):\n",
    "        ind.append(i[j][3])"
   ]
  },
  {
   "cell_type": "markdown",
   "id": "d9207a2a",
   "metadata": {},
   "source": [
    "\n",
    "Extracting all the industry name of Q1 months into list."
   ]
  },
  {
   "cell_type": "code",
   "execution_count": 78,
   "id": "126f57ac",
   "metadata": {},
   "outputs": [],
   "source": [
    "for i in q1:\n",
    "    for j in range(len(i)):\n",
    "        sub.append(i[j][4])"
   ]
  },
  {
   "cell_type": "markdown",
   "id": "e6cf8f87",
   "metadata": {},
   "source": [
    "\n",
    "\n",
    "Extracting all the sub-industry name of Q1 months into list."
   ]
  },
  {
   "cell_type": "code",
   "execution_count": 79,
   "id": "dd5dec97",
   "metadata": {},
   "outputs": [],
   "source": [
    "for i in q1:\n",
    "    for j in range(len(i)):\n",
    "        city.append(i[j][5])"
   ]
  },
  {
   "cell_type": "markdown",
   "id": "540a1fde",
   "metadata": {},
   "source": [
    "\n",
    "\n",
    "Extracting all the city names of Q1 months into list."
   ]
  },
  {
   "cell_type": "code",
   "execution_count": 80,
   "id": "bad3524e",
   "metadata": {},
   "outputs": [],
   "source": [
    "for i in q1:\n",
    "    for j in range(len(i)):\n",
    "        investors.append(i[j][6])"
   ]
  },
  {
   "cell_type": "markdown",
   "id": "85f57b08",
   "metadata": {},
   "source": [
    "\n",
    "\n",
    "Extracting all the investors name of Q1 months into list."
   ]
  },
  {
   "cell_type": "code",
   "execution_count": 81,
   "id": "b53f0935",
   "metadata": {},
   "outputs": [],
   "source": [
    "for i in q1:\n",
    "    for j in range(len(i)):\n",
    "        invtype.append(i[j][7])"
   ]
  },
  {
   "cell_type": "markdown",
   "id": "533e35ad",
   "metadata": {},
   "source": [
    "\n",
    "Extracting all the investor type names of Q1 months into list."
   ]
  },
  {
   "cell_type": "code",
   "execution_count": 82,
   "id": "2b221638",
   "metadata": {},
   "outputs": [],
   "source": [
    "for i in q1:\n",
    "    for j in range(len(i)):\n",
    "        amount.append(i[j][8])"
   ]
  },
  {
   "cell_type": "markdown",
   "id": "7f8b8f2d",
   "metadata": {},
   "source": [
    "\n",
    "\n",
    "Extracting all the invested amount of Q1 months into list."
   ]
  },
  {
   "cell_type": "code",
   "execution_count": 83,
   "id": "6e54989c",
   "metadata": {},
   "outputs": [],
   "source": [
    "df6=pd.DataFrame({\"Date\":date,\"Company\":name,\"Industry\":ind,\"Sub-industry\":sub,\"City\":city,\"Investors\":investors,\"Investment Type\":invtype,\"Amount (USD)\":amount})"
   ]
  },
  {
   "cell_type": "code",
   "execution_count": 84,
   "id": "006f6087",
   "metadata": {},
   "outputs": [
    {
     "data": {
      "text/html": [
       "<div>\n",
       "<style scoped>\n",
       "    .dataframe tbody tr th:only-of-type {\n",
       "        vertical-align: middle;\n",
       "    }\n",
       "\n",
       "    .dataframe tbody tr th {\n",
       "        vertical-align: top;\n",
       "    }\n",
       "\n",
       "    .dataframe thead th {\n",
       "        text-align: right;\n",
       "    }\n",
       "</style>\n",
       "<table border=\"1\" class=\"dataframe\">\n",
       "  <thead>\n",
       "    <tr style=\"text-align: right;\">\n",
       "      <th></th>\n",
       "      <th>Date</th>\n",
       "      <th>Company</th>\n",
       "      <th>Industry</th>\n",
       "      <th>Sub-industry</th>\n",
       "      <th>City</th>\n",
       "      <th>Investors</th>\n",
       "      <th>Investment Type</th>\n",
       "      <th>Amount (USD)</th>\n",
       "    </tr>\n",
       "  </thead>\n",
       "  <tbody>\n",
       "    <tr>\n",
       "      <th>0</th>\n",
       "      <td>15/01/2021</td>\n",
       "      <td>Digit Insurance</td>\n",
       "      <td>Financial Services</td>\n",
       "      <td>Insurance Services</td>\n",
       "      <td>Bengaluru</td>\n",
       "      <td>A91 Partners, Faering Capital, TVS Capital Funds</td>\n",
       "      <td>Venture</td>\n",
       "      <td>1,80,00,000</td>\n",
       "    </tr>\n",
       "    <tr>\n",
       "      <th>1</th>\n",
       "      <td>28/01/2021</td>\n",
       "      <td>Bombay Shaving Company</td>\n",
       "      <td>Consumer Goods Company</td>\n",
       "      <td>Shave care, beard care, and skincare products</td>\n",
       "      <td>New Delhi</td>\n",
       "      <td>Reckitt Benckiser</td>\n",
       "      <td>Venture</td>\n",
       "      <td>6,172,258.50</td>\n",
       "    </tr>\n",
       "    <tr>\n",
       "      <th>2</th>\n",
       "      <td>19/01/2021</td>\n",
       "      <td>DeHaat</td>\n",
       "      <td>AgriTech Startup</td>\n",
       "      <td>online marketplace for farm products and services</td>\n",
       "      <td>Patna</td>\n",
       "      <td>Prosus Ventures</td>\n",
       "      <td>Series C</td>\n",
       "      <td>30,000,000</td>\n",
       "    </tr>\n",
       "    <tr>\n",
       "      <th>3</th>\n",
       "      <td>19/01/2021</td>\n",
       "      <td>Darwinbox</td>\n",
       "      <td>SaaS</td>\n",
       "      <td>HR Tech</td>\n",
       "      <td>Mumbai</td>\n",
       "      <td>Salesforce Ventures</td>\n",
       "      <td>Seed</td>\n",
       "      <td>15,000,000</td>\n",
       "    </tr>\n",
       "    <tr>\n",
       "      <th>4</th>\n",
       "      <td>18/01/2021</td>\n",
       "      <td>mfine</td>\n",
       "      <td>Health Tech Startup</td>\n",
       "      <td>AI-powered telemedicine mobile app</td>\n",
       "      <td>Bengaluru</td>\n",
       "      <td>Heritas Capital Management</td>\n",
       "      <td>Venture Round</td>\n",
       "      <td>16,000,000</td>\n",
       "    </tr>\n",
       "  </tbody>\n",
       "</table>\n",
       "</div>"
      ],
      "text/plain": [
       "         Date                 Company                Industry  \\\n",
       "0  15/01/2021         Digit Insurance      Financial Services   \n",
       "1  28/01/2021  Bombay Shaving Company  Consumer Goods Company   \n",
       "2  19/01/2021                  DeHaat        AgriTech Startup   \n",
       "3  19/01/2021               Darwinbox                    SaaS   \n",
       "4  18/01/2021                   mfine     Health Tech Startup   \n",
       "\n",
       "                                        Sub-industry       City  \\\n",
       "0                                 Insurance Services  Bengaluru   \n",
       "1      Shave care, beard care, and skincare products  New Delhi   \n",
       "2  online marketplace for farm products and services      Patna   \n",
       "3                                            HR Tech     Mumbai   \n",
       "4                 AI-powered telemedicine mobile app  Bengaluru   \n",
       "\n",
       "                                          Investors Investment Type  \\\n",
       "0  A91 Partners, Faering Capital, TVS Capital Funds         Venture   \n",
       "1                                 Reckitt Benckiser         Venture   \n",
       "2                                   Prosus Ventures        Series C   \n",
       "3                               Salesforce Ventures            Seed   \n",
       "4                        Heritas Capital Management   Venture Round   \n",
       "\n",
       "   Amount (USD)  \n",
       "0  1,80,00,000   \n",
       "1  6,172,258.50  \n",
       "2    30,000,000  \n",
       "3    15,000,000  \n",
       "4    16,000,000  "
      ]
     },
     "execution_count": 84,
     "metadata": {},
     "output_type": "execute_result"
    }
   ],
   "source": [
    "df6.head()"
   ]
  },
  {
   "cell_type": "markdown",
   "id": "c84a5acf",
   "metadata": {},
   "source": [
    "# 7. Write a program to scrap all the available details of best gaming laptops from digit.in"
   ]
  },
  {
   "cell_type": "code",
   "execution_count": 38,
   "id": "5b659105",
   "metadata": {},
   "outputs": [],
   "source": [
    "driver=webdriver.Chrome(r\"C:\\Users\\RedPr\\Downloads\\chromedriver_win32\\chromedriver.exe\")\n",
    "driver.get(\"https://www.digit.in/\")\n",
    "driver.implicitly_wait(5)"
   ]
  },
  {
   "cell_type": "markdown",
   "id": "ec251646",
   "metadata": {},
   "source": [
    "Accessing the website."
   ]
  },
  {
   "cell_type": "code",
   "execution_count": 39,
   "id": "41d2dadf",
   "metadata": {},
   "outputs": [],
   "source": [
    "search=driver.find_element(By.XPATH,\"//a[text()='Best Gaming Laptops in India']\")\n",
    "search.click()\n",
    "driver.implicitly_wait(5)"
   ]
  },
  {
   "cell_type": "markdown",
   "id": "b95863cc",
   "metadata": {},
   "source": [
    "Accessing the article from right sidebar of the website."
   ]
  },
  {
   "cell_type": "code",
   "execution_count": 41,
   "id": "65600e7b",
   "metadata": {},
   "outputs": [],
   "source": [
    "get_url=driver.current_url"
   ]
  },
  {
   "cell_type": "markdown",
   "id": "8c6f8aaa",
   "metadata": {},
   "source": [
    "Getting current webpage URL."
   ]
  },
  {
   "cell_type": "code",
   "execution_count": 43,
   "id": "26967260",
   "metadata": {},
   "outputs": [],
   "source": [
    "from bs4 import BeautifulSoup\n",
    "import requests\n",
    "model=[]\n",
    "page = requests.get(get_url)\n",
    "soup = BeautifulSoup(page.content)\n",
    "for i in soup.find_all('h3'):\n",
    "    model.append(i.text)"
   ]
  },
  {
   "cell_type": "markdown",
   "id": "11f68d7b",
   "metadata": {},
   "source": [
    "Extracting all information from the webpage."
   ]
  },
  {
   "cell_type": "code",
   "execution_count": 91,
   "id": "436c52c8",
   "metadata": {},
   "outputs": [],
   "source": [
    "b=[]\n",
    "for i in soup.find_all('td'):\n",
    "    b.append(i.text)\n",
    "\n",
    "processors=[]\n",
    "for i in range(len(b)):\n",
    "    if b[i]=='Processor':\n",
    "        i=i+2\n",
    "        processors.append(b[i])\n"
   ]
  },
  {
   "cell_type": "markdown",
   "id": "cb3294f8",
   "metadata": {},
   "source": [
    "Extracting Processor name."
   ]
  },
  {
   "cell_type": "code",
   "execution_count": 92,
   "id": "af30f4fd",
   "metadata": {},
   "outputs": [],
   "source": [
    "display=[]\n",
    "for i in range(len(b)):\n",
    "    if b[i]=='Display':\n",
    "        i=i+2\n",
    "        display.append(b[i])"
   ]
  },
  {
   "cell_type": "markdown",
   "id": "a14cac47",
   "metadata": {},
   "source": [
    "Extracting the display information.\n"
   ]
  },
  {
   "cell_type": "code",
   "execution_count": 93,
   "id": "88f55e96",
   "metadata": {},
   "outputs": [],
   "source": [
    "OS=[]\n",
    "for i in range(len(b)):\n",
    "    if b[i]==\"OS\":\n",
    "        i=i+2\n",
    "        OS.append(b[i])"
   ]
  },
  {
   "cell_type": "markdown",
   "id": "538d16cc",
   "metadata": {},
   "source": [
    "Extracting Operating System name."
   ]
  },
  {
   "cell_type": "code",
   "execution_count": 94,
   "id": "9b6e3140",
   "metadata": {},
   "outputs": [],
   "source": [
    "memory=[]\n",
    "for i in range(len(b)):\n",
    "    if b[i]==\"Memory\":\n",
    "        i=i+2\n",
    "        memory.append(b[i])"
   ]
  },
  {
   "cell_type": "markdown",
   "id": "080f662c",
   "metadata": {},
   "source": [
    "Extracting memory size of the laptops."
   ]
  },
  {
   "cell_type": "code",
   "execution_count": 95,
   "id": "d6b6b699",
   "metadata": {},
   "outputs": [],
   "source": [
    "gpu=[]\n",
    "for i in range(len(b)):\n",
    "    if b[i]==\"Graphics Processor\":\n",
    "        i=i+2\n",
    "        gpu.append(b[i])"
   ]
  },
  {
   "cell_type": "markdown",
   "id": "290cd7ea",
   "metadata": {},
   "source": [
    "Extracting Graphic card name."
   ]
  },
  {
   "cell_type": "code",
   "execution_count": 96,
   "id": "6bd082ab",
   "metadata": {},
   "outputs": [],
   "source": [
    "body=[]\n",
    "for i in range(len(b)):\n",
    "    if b[i]==\"Body\":\n",
    "        i=i+2\n",
    "        body.append(b[i])"
   ]
  },
  {
   "cell_type": "markdown",
   "id": "b072270c",
   "metadata": {},
   "source": [
    "Extracting information about laptop body."
   ]
  },
  {
   "cell_type": "code",
   "execution_count": 203,
   "id": "e40a72e9",
   "metadata": {},
   "outputs": [],
   "source": [
    "price=[\"-\"]\n",
    "for i in range(len(b)):\n",
    "    if b[i]==\"Price\":\n",
    "        i=i+2      \n",
    "        price.append(b[i][1:])"
   ]
  },
  {
   "cell_type": "markdown",
   "id": "c9a8e5b5",
   "metadata": {},
   "source": [
    "Extracting price of each laptop."
   ]
  },
  {
   "cell_type": "code",
   "execution_count": 185,
   "id": "e53d1c8d",
   "metadata": {},
   "outputs": [],
   "source": [
    "import re\n",
    "url=[]\n",
    "\n",
    "for i in soup.find_all('img', attrs={'src': re.compile(\"^https://\")}):\n",
    "    url.append(i.get('src'))\n",
    "    \n",
    "search=driver.find_elements(By.XPATH,\"//img[@class='lzy_img']\")\n",
    "for i in search:\n",
    "    url.append(i.get_attribute(\"data-src\"))\n",
    "    \n",
    "        "
   ]
  },
  {
   "cell_type": "markdown",
   "id": "1edc2dd4",
   "metadata": {},
   "source": [
    "Extarcting laptop image URL."
   ]
  },
  {
   "cell_type": "code",
   "execution_count": 186,
   "id": "cf3f4334",
   "metadata": {},
   "outputs": [],
   "source": [
    "imgs=[]\n",
    "a=re.compile(\"^https://static.digit.in/product\")\n",
    "for i in url:\n",
    "    if a.search(i):\n",
    "        imgs.append(i)"
   ]
  },
  {
   "cell_type": "code",
   "execution_count": 204,
   "id": "797fac4d",
   "metadata": {},
   "outputs": [],
   "source": [
    "df7=pd.DataFrame({\"Model\":model,\"Processor\":processors,\"Display\":display,\"OS\":OS,\"Memory\":memory,\"Graphics Processor\":gpu,\"Body\":body,\"Price (₹)\":price,\"Image\":imgs})"
   ]
  },
  {
   "cell_type": "code",
   "execution_count": 205,
   "id": "fb07775a",
   "metadata": {
    "scrolled": true
   },
   "outputs": [
    {
     "data": {
      "text/html": [
       "<div>\n",
       "<style scoped>\n",
       "    .dataframe tbody tr th:only-of-type {\n",
       "        vertical-align: middle;\n",
       "    }\n",
       "\n",
       "    .dataframe tbody tr th {\n",
       "        vertical-align: top;\n",
       "    }\n",
       "\n",
       "    .dataframe thead th {\n",
       "        text-align: right;\n",
       "    }\n",
       "</style>\n",
       "<table border=\"1\" class=\"dataframe\">\n",
       "  <thead>\n",
       "    <tr style=\"text-align: right;\">\n",
       "      <th></th>\n",
       "      <th>Model</th>\n",
       "      <th>Processor</th>\n",
       "      <th>Display</th>\n",
       "      <th>OS</th>\n",
       "      <th>Memory</th>\n",
       "      <th>Graphics Processor</th>\n",
       "      <th>Body</th>\n",
       "      <th>Price (₹)</th>\n",
       "      <th>Image</th>\n",
       "    </tr>\n",
       "  </thead>\n",
       "  <tbody>\n",
       "    <tr>\n",
       "      <th>0</th>\n",
       "      <td>MSI Titan GT77-12UHS</td>\n",
       "      <td>12th Gen Intel Core i9-12900HX 16 core processor</td>\n",
       "      <td>17.3″  (3840 x 2160) screen, 120 Hz refresh rate</td>\n",
       "      <td>Windows 11 Home</td>\n",
       "      <td>64 GB DDR5 RAM &amp; 2 TB SSD</td>\n",
       "      <td>16 GB DDR6 NVIDIA GeForce RTX 3080 Ti Graphics...</td>\n",
       "      <td>397 x 330 x 23 mm dimension &amp; 3.3 kg weight</td>\n",
       "      <td>-</td>\n",
       "      <td>https://static.digit.in/product/thumb_287413_p...</td>\n",
       "    </tr>\n",
       "    <tr>\n",
       "      <th>1</th>\n",
       "      <td>Alienware x17 R2</td>\n",
       "      <td>12th Gen Intel Core i9-12900H 14 core processo...</td>\n",
       "      <td>17.3″  (1920 x 1080) screen, 360 Hz refresh rate</td>\n",
       "      <td>Windows 11 Home</td>\n",
       "      <td>32 GB DDR5 RAM &amp; 1 TB SSD</td>\n",
       "      <td>16 GB DDR6 NVIDIA GEFORCE RTX 3080 Ti Graphics...</td>\n",
       "      <td>299 x 359 x 21 mm dimension &amp; 2.96 kg weight</td>\n",
       "      <td>389,990</td>\n",
       "      <td>https://static.digit.in/product/thumb_292027_p...</td>\n",
       "    </tr>\n",
       "    <tr>\n",
       "      <th>2</th>\n",
       "      <td>Acer Predator Triton 500 SE PT516-52s</td>\n",
       "      <td>12th Gen Intel Core i7-12700H 14 core processo...</td>\n",
       "      <td>16″  (2560 x 1600) screen, 240 Hz refresh rate</td>\n",
       "      <td>Windows 11 Home</td>\n",
       "      <td>32 GB DDR5 RAM &amp; 2 TB SSD</td>\n",
       "      <td>8 GB DDR6 NVIDIA GeForce RTXTM 3070 Ti Graphic...</td>\n",
       "      <td>358 x 262 x 19.9 mm dimension &amp; 2.4 kg weight</td>\n",
       "      <td>300,000</td>\n",
       "      <td>https://static.digit.in/product/thumb_288422_p...</td>\n",
       "    </tr>\n",
       "    <tr>\n",
       "      <th>3</th>\n",
       "      <td>Omen by HP (16-B1371TX)</td>\n",
       "      <td>12th Gen Intel Core i7-12700H 14 core processo...</td>\n",
       "      <td>16.1″  (2560 x 1440) screen</td>\n",
       "      <td>Windows 11 Home</td>\n",
       "      <td>8 GB DDR5 RAM &amp; 1 TB SSD</td>\n",
       "      <td>8 GB GDDR6 NVIDIA GeForce RTX 3070 Graphics card</td>\n",
       "      <td>369 x 248 x 23 mm dimension &amp; 2.32 kg weight</td>\n",
       "      <td>176,290</td>\n",
       "      <td>https://static.digit.in/product/thumb_241970_p...</td>\n",
       "    </tr>\n",
       "    <tr>\n",
       "      <th>4</th>\n",
       "      <td>Acer Predator Helios 300 AN515-45 (NH.QBRSI.0</td>\n",
       "      <td>AMD Ryzen 9-5900HX 8 core processor</td>\n",
       "      <td>15.6″  (2560 x 1440) screen, 165 Hz refresh rate</td>\n",
       "      <td>Windows 11 Home</td>\n",
       "      <td>16 GB DDR4 RAM &amp; 512 GB SSD</td>\n",
       "      <td>8 GB DDR6 NVIDIA GeForce RTX 3070 Graphics card</td>\n",
       "      <td>363 x 255 x 23.9 mm dimension &amp; 2.4 kg weight</td>\n",
       "      <td>172,999</td>\n",
       "      <td>https://static.digit.in/product/thumb_288428_p...</td>\n",
       "    </tr>\n",
       "  </tbody>\n",
       "</table>\n",
       "</div>"
      ],
      "text/plain": [
       "                                           Model  \\\n",
       "0                           MSI Titan GT77-12UHS   \n",
       "1                               Alienware x17 R2   \n",
       "2          Acer Predator Triton 500 SE PT516-52s   \n",
       "3                        Omen by HP (16-B1371TX)   \n",
       "4  Acer Predator Helios 300 AN515-45 (NH.QBRSI.0   \n",
       "\n",
       "                                           Processor  \\\n",
       "0   12th Gen Intel Core i9-12900HX 16 core processor   \n",
       "1  12th Gen Intel Core i9-12900H 14 core processo...   \n",
       "2  12th Gen Intel Core i7-12700H 14 core processo...   \n",
       "3  12th Gen Intel Core i7-12700H 14 core processo...   \n",
       "4                AMD Ryzen 9-5900HX 8 core processor   \n",
       "\n",
       "                                            Display               OS  \\\n",
       "0  17.3″  (3840 x 2160) screen, 120 Hz refresh rate  Windows 11 Home   \n",
       "1  17.3″  (1920 x 1080) screen, 360 Hz refresh rate  Windows 11 Home   \n",
       "2    16″  (2560 x 1600) screen, 240 Hz refresh rate  Windows 11 Home   \n",
       "3                       16.1″  (2560 x 1440) screen  Windows 11 Home   \n",
       "4  15.6″  (2560 x 1440) screen, 165 Hz refresh rate  Windows 11 Home   \n",
       "\n",
       "                        Memory  \\\n",
       "0    64 GB DDR5 RAM & 2 TB SSD   \n",
       "1    32 GB DDR5 RAM & 1 TB SSD   \n",
       "2    32 GB DDR5 RAM & 2 TB SSD   \n",
       "3     8 GB DDR5 RAM & 1 TB SSD   \n",
       "4  16 GB DDR4 RAM & 512 GB SSD   \n",
       "\n",
       "                                  Graphics Processor  \\\n",
       "0  16 GB DDR6 NVIDIA GeForce RTX 3080 Ti Graphics...   \n",
       "1  16 GB DDR6 NVIDIA GEFORCE RTX 3080 Ti Graphics...   \n",
       "2  8 GB DDR6 NVIDIA GeForce RTXTM 3070 Ti Graphic...   \n",
       "3   8 GB GDDR6 NVIDIA GeForce RTX 3070 Graphics card   \n",
       "4    8 GB DDR6 NVIDIA GeForce RTX 3070 Graphics card   \n",
       "\n",
       "                                            Body Price (₹)  \\\n",
       "0    397 x 330 x 23 mm dimension & 3.3 kg weight         -   \n",
       "1   299 x 359 x 21 mm dimension & 2.96 kg weight   389,990   \n",
       "2  358 x 262 x 19.9 mm dimension & 2.4 kg weight   300,000   \n",
       "3   369 x 248 x 23 mm dimension & 2.32 kg weight   176,290   \n",
       "4  363 x 255 x 23.9 mm dimension & 2.4 kg weight   172,999   \n",
       "\n",
       "                                               Image  \n",
       "0  https://static.digit.in/product/thumb_287413_p...  \n",
       "1  https://static.digit.in/product/thumb_292027_p...  \n",
       "2  https://static.digit.in/product/thumb_288422_p...  \n",
       "3  https://static.digit.in/product/thumb_241970_p...  \n",
       "4  https://static.digit.in/product/thumb_288428_p...  "
      ]
     },
     "execution_count": 205,
     "metadata": {},
     "output_type": "execute_result"
    }
   ],
   "source": [
    "df7.head()"
   ]
  },
  {
   "cell_type": "code",
   "execution_count": null,
   "id": "1abda737",
   "metadata": {},
   "outputs": [],
   "source": []
  },
  {
   "cell_type": "markdown",
   "id": "ee22ea6e",
   "metadata": {},
   "source": [
    "# 8. Write a python program to scrape the details for all billionaires from www.forbes.com."
   ]
  },
  {
   "cell_type": "code",
   "execution_count": 4,
   "id": "e4ac7578",
   "metadata": {},
   "outputs": [],
   "source": [
    "driver=webdriver.Chrome(r\"C:\\Users\\RedPr\\Downloads\\chromedriver_win32\\chromedriver.exe\")\n",
    "driver.get(\"https://www.forbes.com/\")\n",
    "driver.implicitly_wait(5)"
   ]
  },
  {
   "cell_type": "markdown",
   "id": "5fc0d521",
   "metadata": {},
   "source": [
    "Accessing the website.\n"
   ]
  },
  {
   "cell_type": "code",
   "execution_count": 5,
   "id": "5bfb0a3c",
   "metadata": {},
   "outputs": [],
   "source": [
    "search=driver.find_element(By.XPATH,\"/html/body/div[1]/header/nav/div[1]/div\")\n",
    "search.click()\n",
    "driver.implicitly_wait(5)"
   ]
  },
  {
   "cell_type": "markdown",
   "id": "95d308c2",
   "metadata": {},
   "source": [
    "Accessing the left sidebar of the website.\n"
   ]
  },
  {
   "cell_type": "code",
   "execution_count": 6,
   "id": "136906a8",
   "metadata": {},
   "outputs": [],
   "source": [
    "search=driver.find_element(By.XPATH,\"/html/body/div[1]/header/nav/div[1]/div/div/div[2]/ul/li[1]/div[1]/a\")\n",
    "search.click()\n",
    "driver.implicitly_wait(5)"
   ]
  },
  {
   "cell_type": "markdown",
   "id": "ecd9b5f6",
   "metadata": {},
   "source": [
    "Accessing the \"Billionarie\" label from sidebar."
   ]
  },
  {
   "cell_type": "code",
   "execution_count": 7,
   "id": "ec2595fc",
   "metadata": {},
   "outputs": [],
   "source": [
    "link=[]\n",
    "search=driver.find_elements(By.XPATH,'//a')\n",
    "for i in search:\n",
    "    link.append(i.get_attribute(\"href\"))"
   ]
  },
  {
   "cell_type": "markdown",
   "id": "69d0272d",
   "metadata": {},
   "source": [
    "Extracting link of \"World's Billionarie\" label in \"Billionarie\" sub-menu."
   ]
  },
  {
   "cell_type": "code",
   "execution_count": 8,
   "id": "5e88e99b",
   "metadata": {},
   "outputs": [],
   "source": [
    "driver.get(link[2])\n",
    "driver.implicitly_wait(5)"
   ]
  },
  {
   "cell_type": "markdown",
   "id": "6ea6f0a1",
   "metadata": {},
   "source": [
    "Accessing the \"World's Billionarie\" webpage.\n"
   ]
  },
  {
   "cell_type": "code",
   "execution_count": 9,
   "id": "52b1bd32",
   "metadata": {},
   "outputs": [],
   "source": [
    "rank=[]\n",
    "pos=driver.find_elements(By.XPATH,'//div[@class=\"rank\"]')\n",
    "for i in pos:\n",
    "    rank.append(i.text)"
   ]
  },
  {
   "cell_type": "markdown",
   "id": "5df8ba35",
   "metadata": {},
   "source": [
    "Extracting rank."
   ]
  },
  {
   "cell_type": "code",
   "execution_count": 10,
   "id": "fb06db85",
   "metadata": {},
   "outputs": [],
   "source": [
    "name=[]\n",
    "full=driver.find_elements(By.XPATH,'//div[@class=\"personName\"]')\n",
    "for i in full:\n",
    "    name.append(i.text)"
   ]
  },
  {
   "cell_type": "markdown",
   "id": "da93cb84",
   "metadata": {},
   "source": [
    "Extracting name."
   ]
  },
  {
   "cell_type": "code",
   "execution_count": 11,
   "id": "1a30b822",
   "metadata": {},
   "outputs": [],
   "source": [
    "net=[]\n",
    "search=driver.find_elements(By.XPATH,'//div[@class=\"netWorth\"]')\n",
    "for i in search:\n",
    "    net.append(i.text)"
   ]
  },
  {
   "cell_type": "markdown",
   "id": "6b7758b9",
   "metadata": {},
   "source": [
    "Extracting net worth."
   ]
  },
  {
   "cell_type": "code",
   "execution_count": 12,
   "id": "ecaed0cd",
   "metadata": {},
   "outputs": [],
   "source": [
    "age=[]\n",
    "search=driver.find_elements(By.XPATH,'//div[@class=\"age\"]')\n",
    "for i in search:\n",
    "    age.append(i.text)"
   ]
  },
  {
   "cell_type": "markdown",
   "id": "ded206e4",
   "metadata": {},
   "source": [
    "Extracting age."
   ]
  },
  {
   "cell_type": "code",
   "execution_count": 13,
   "id": "1022998d",
   "metadata": {},
   "outputs": [],
   "source": [
    "citizen=[]\n",
    "search=driver.find_elements(By.XPATH,'//div[@class=\"countryOfCitizenship\"]')\n",
    "for i in search:\n",
    "    citizen.append(i.text)"
   ]
  },
  {
   "cell_type": "markdown",
   "id": "92713506",
   "metadata": {},
   "source": [
    "Extarcting citizenship."
   ]
  },
  {
   "cell_type": "code",
   "execution_count": 14,
   "id": "ecc41abb",
   "metadata": {},
   "outputs": [],
   "source": [
    "source=[]\n",
    "search=driver.find_elements(By.XPATH,'//div[@class=\"source\"]')\n",
    "for i in search:\n",
    "    source.append(i.text)"
   ]
  },
  {
   "cell_type": "markdown",
   "id": "ec4f41d7",
   "metadata": {},
   "source": [
    "Extracting source of income"
   ]
  },
  {
   "cell_type": "code",
   "execution_count": 15,
   "id": "20f2757c",
   "metadata": {},
   "outputs": [],
   "source": [
    "industry=[]\n",
    "search=driver.find_elements(By.XPATH,'//div[@class=\"category\"]')\n",
    "for i in search:\n",
    "    industry.append(i.text)"
   ]
  },
  {
   "cell_type": "markdown",
   "id": "2945a91f",
   "metadata": {},
   "source": [
    "Extracting industry name."
   ]
  },
  {
   "cell_type": "code",
   "execution_count": 24,
   "id": "abd4cd73",
   "metadata": {
    "scrolled": true
   },
   "outputs": [],
   "source": [
    "df8=pd.DataFrame({\"Rank\":rank,\"Name\":name,\"Age\":age,\"Net Worth ($ in Billions)\":net,\"Citizenship\":citizen,\"Source\":source,\"Industry\":industry})"
   ]
  },
  {
   "cell_type": "code",
   "execution_count": 25,
   "id": "8b700c55",
   "metadata": {
    "scrolled": true
   },
   "outputs": [
    {
     "data": {
      "text/html": [
       "<div>\n",
       "<style scoped>\n",
       "    .dataframe tbody tr th:only-of-type {\n",
       "        vertical-align: middle;\n",
       "    }\n",
       "\n",
       "    .dataframe tbody tr th {\n",
       "        vertical-align: top;\n",
       "    }\n",
       "\n",
       "    .dataframe thead th {\n",
       "        text-align: right;\n",
       "    }\n",
       "</style>\n",
       "<table border=\"1\" class=\"dataframe\">\n",
       "  <thead>\n",
       "    <tr style=\"text-align: right;\">\n",
       "      <th></th>\n",
       "      <th>Rank</th>\n",
       "      <th>Name</th>\n",
       "      <th>Age</th>\n",
       "      <th>Net Worth ($ in Billions)</th>\n",
       "      <th>Citizenship</th>\n",
       "      <th>Source</th>\n",
       "      <th>Industry</th>\n",
       "    </tr>\n",
       "  </thead>\n",
       "  <tbody>\n",
       "    <tr>\n",
       "      <th>0</th>\n",
       "      <td>1.</td>\n",
       "      <td>Elon Musk</td>\n",
       "      <td>50</td>\n",
       "      <td>$219 B</td>\n",
       "      <td>United States</td>\n",
       "      <td>Tesla, SpaceX</td>\n",
       "      <td>Automotive</td>\n",
       "    </tr>\n",
       "    <tr>\n",
       "      <th>1</th>\n",
       "      <td>2.</td>\n",
       "      <td>Jeff Bezos</td>\n",
       "      <td>58</td>\n",
       "      <td>$171 B</td>\n",
       "      <td>United States</td>\n",
       "      <td>Amazon</td>\n",
       "      <td>Technology</td>\n",
       "    </tr>\n",
       "    <tr>\n",
       "      <th>2</th>\n",
       "      <td>3.</td>\n",
       "      <td>Bernard Arnault &amp; family</td>\n",
       "      <td>73</td>\n",
       "      <td>$158 B</td>\n",
       "      <td>France</td>\n",
       "      <td>LVMH</td>\n",
       "      <td>Fashion &amp; Retail</td>\n",
       "    </tr>\n",
       "    <tr>\n",
       "      <th>3</th>\n",
       "      <td>4.</td>\n",
       "      <td>Bill Gates</td>\n",
       "      <td>66</td>\n",
       "      <td>$129 B</td>\n",
       "      <td>United States</td>\n",
       "      <td>Microsoft</td>\n",
       "      <td>Technology</td>\n",
       "    </tr>\n",
       "    <tr>\n",
       "      <th>4</th>\n",
       "      <td>5.</td>\n",
       "      <td>Warren Buffett</td>\n",
       "      <td>91</td>\n",
       "      <td>$118 B</td>\n",
       "      <td>United States</td>\n",
       "      <td>Berkshire Hathaway</td>\n",
       "      <td>Finance &amp; Investments</td>\n",
       "    </tr>\n",
       "  </tbody>\n",
       "</table>\n",
       "</div>"
      ],
      "text/plain": [
       "  Rank                      Name Age Net Worth ($ in Billions)    Citizenship  \\\n",
       "0   1.                 Elon Musk  50                    $219 B  United States   \n",
       "1   2.                Jeff Bezos  58                    $171 B  United States   \n",
       "2   3.  Bernard Arnault & family  73                    $158 B         France   \n",
       "3   4.                Bill Gates  66                    $129 B  United States   \n",
       "4   5.            Warren Buffett  91                    $118 B  United States   \n",
       "\n",
       "               Source               Industry  \n",
       "0       Tesla, SpaceX             Automotive  \n",
       "1              Amazon             Technology  \n",
       "2                LVMH       Fashion & Retail  \n",
       "3           Microsoft             Technology  \n",
       "4  Berkshire Hathaway  Finance & Investments  "
      ]
     },
     "execution_count": 25,
     "metadata": {},
     "output_type": "execute_result"
    }
   ],
   "source": [
    "df8.head()"
   ]
  },
  {
   "cell_type": "code",
   "execution_count": 27,
   "id": "36ac2ced",
   "metadata": {},
   "outputs": [],
   "source": [
    "for i in range(len(df8[\"Net Worth ($ in Billions)\"])):\n",
    "      df8[\"Net Worth ($ in Billions)\"][i]=df8[\"Net Worth ($ in Billions)\"][i][1:-1]"
   ]
  },
  {
   "cell_type": "markdown",
   "id": "195e3754",
   "metadata": {},
   "source": [
    "Removing currency symbol."
   ]
  },
  {
   "cell_type": "code",
   "execution_count": 28,
   "id": "c87e01d8",
   "metadata": {},
   "outputs": [
    {
     "data": {
      "text/html": [
       "<div>\n",
       "<style scoped>\n",
       "    .dataframe tbody tr th:only-of-type {\n",
       "        vertical-align: middle;\n",
       "    }\n",
       "\n",
       "    .dataframe tbody tr th {\n",
       "        vertical-align: top;\n",
       "    }\n",
       "\n",
       "    .dataframe thead th {\n",
       "        text-align: right;\n",
       "    }\n",
       "</style>\n",
       "<table border=\"1\" class=\"dataframe\">\n",
       "  <thead>\n",
       "    <tr style=\"text-align: right;\">\n",
       "      <th></th>\n",
       "      <th>Rank</th>\n",
       "      <th>Name</th>\n",
       "      <th>Age</th>\n",
       "      <th>Net Worth ($ in Billions)</th>\n",
       "      <th>Citizenship</th>\n",
       "      <th>Source</th>\n",
       "      <th>Industry</th>\n",
       "    </tr>\n",
       "  </thead>\n",
       "  <tbody>\n",
       "    <tr>\n",
       "      <th>0</th>\n",
       "      <td>1.</td>\n",
       "      <td>Elon Musk</td>\n",
       "      <td>50</td>\n",
       "      <td>219</td>\n",
       "      <td>United States</td>\n",
       "      <td>Tesla, SpaceX</td>\n",
       "      <td>Automotive</td>\n",
       "    </tr>\n",
       "    <tr>\n",
       "      <th>1</th>\n",
       "      <td>2.</td>\n",
       "      <td>Jeff Bezos</td>\n",
       "      <td>58</td>\n",
       "      <td>171</td>\n",
       "      <td>United States</td>\n",
       "      <td>Amazon</td>\n",
       "      <td>Technology</td>\n",
       "    </tr>\n",
       "    <tr>\n",
       "      <th>2</th>\n",
       "      <td>3.</td>\n",
       "      <td>Bernard Arnault &amp; family</td>\n",
       "      <td>73</td>\n",
       "      <td>158</td>\n",
       "      <td>France</td>\n",
       "      <td>LVMH</td>\n",
       "      <td>Fashion &amp; Retail</td>\n",
       "    </tr>\n",
       "    <tr>\n",
       "      <th>3</th>\n",
       "      <td>4.</td>\n",
       "      <td>Bill Gates</td>\n",
       "      <td>66</td>\n",
       "      <td>129</td>\n",
       "      <td>United States</td>\n",
       "      <td>Microsoft</td>\n",
       "      <td>Technology</td>\n",
       "    </tr>\n",
       "    <tr>\n",
       "      <th>4</th>\n",
       "      <td>5.</td>\n",
       "      <td>Warren Buffett</td>\n",
       "      <td>91</td>\n",
       "      <td>118</td>\n",
       "      <td>United States</td>\n",
       "      <td>Berkshire Hathaway</td>\n",
       "      <td>Finance &amp; Investments</td>\n",
       "    </tr>\n",
       "  </tbody>\n",
       "</table>\n",
       "</div>"
      ],
      "text/plain": [
       "  Rank                      Name Age Net Worth ($ in Billions)    Citizenship  \\\n",
       "0   1.                 Elon Musk  50                      219   United States   \n",
       "1   2.                Jeff Bezos  58                      171   United States   \n",
       "2   3.  Bernard Arnault & family  73                      158          France   \n",
       "3   4.                Bill Gates  66                      129   United States   \n",
       "4   5.            Warren Buffett  91                      118   United States   \n",
       "\n",
       "               Source               Industry  \n",
       "0       Tesla, SpaceX             Automotive  \n",
       "1              Amazon             Technology  \n",
       "2                LVMH       Fashion & Retail  \n",
       "3           Microsoft             Technology  \n",
       "4  Berkshire Hathaway  Finance & Investments  "
      ]
     },
     "execution_count": 28,
     "metadata": {},
     "output_type": "execute_result"
    }
   ],
   "source": [
    "df8.head()"
   ]
  },
  {
   "cell_type": "markdown",
   "id": "6739604c",
   "metadata": {},
   "source": [
    "# 9. Write a program to extract at least 500 Comments, Comment upvote and time when comment was posted from any YouTube Video.\n"
   ]
  },
  {
   "cell_type": "code",
   "execution_count": 317,
   "id": "6a3502af",
   "metadata": {},
   "outputs": [],
   "source": [
    "driver=webdriver.Chrome(r\"C:\\Users\\RedPr\\Downloads\\chromedriver_win32\\chromedriver.exe\")\n",
    "driver.get(\"https://www.youtube.com/\")\n",
    "driver.implicitly_wait(5)"
   ]
  },
  {
   "cell_type": "markdown",
   "id": "2ba7b5cf",
   "metadata": {},
   "source": [
    "Accessing the website.\n"
   ]
  },
  {
   "cell_type": "code",
   "execution_count": 318,
   "id": "b6eedd2b",
   "metadata": {},
   "outputs": [],
   "source": [
    "search=driver.find_element(By.XPATH,\"/html/body/ytd-app/div[1]/ytd-page-manager/ytd-browse/ytd-two-column-browse-results-renderer/div[1]/ytd-rich-grid-renderer/div[6]/ytd-rich-grid-row[1]/div/ytd-rich-item-renderer[1]/div/ytd-rich-grid-media/div[1]/ytd-thumbnail\")\n",
    "search.click()\n",
    "driver.implicitly_wait(5)\n",
    "search=driver.find_element(By.XPATH,'//button[@class=\"ytp-play-button ytp-button\"]')\n",
    "search.click()"
   ]
  },
  {
   "cell_type": "markdown",
   "id": "c35f4324",
   "metadata": {},
   "source": [
    "Accessing the first video displayed on the homepage and then pausing the video."
   ]
  },
  {
   "cell_type": "code",
   "execution_count": 360,
   "id": "4d50eab1",
   "metadata": {},
   "outputs": [],
   "source": [
    "for i in range(100000):\n",
    "    driver.execute_script(\"window.scrollBy(0,1000)\",\"\")\n",
    "    driver.implicitly_wait(10)"
   ]
  },
  {
   "cell_type": "markdown",
   "id": "682be361",
   "metadata": {},
   "source": [
    "Scrolling down to load more comments."
   ]
  },
  {
   "cell_type": "code",
   "execution_count": 361,
   "id": "e82ede98",
   "metadata": {},
   "outputs": [],
   "source": [
    "comments=[]\n",
    "search=driver.find_elements(By.XPATH,'//div[@id=\"body\"]')\n",
    "for i in search[0:500]:\n",
    "    comments.append(i.text)"
   ]
  },
  {
   "cell_type": "markdown",
   "id": "f57c002a",
   "metadata": {},
   "source": [
    "Extracting all the information from comments."
   ]
  },
  {
   "cell_type": "code",
   "execution_count": 721,
   "id": "c9fb2b50",
   "metadata": {},
   "outputs": [],
   "source": [
    "com=[]\n",
    "for i in comments:\n",
    "    com.append(i.split())\n",
    "text=[]    \n",
    "for i in com:\n",
    "    if i[-2].isdigit()  or \"K\" in i[-2]:\n",
    "        text.append(i[5:-2])\n",
    "    else:\n",
    "        text.append(i[5:-1])\n",
    "\n"
   ]
  },
  {
   "cell_type": "markdown",
   "id": "bdc5e343",
   "metadata": {},
   "source": [
    "Extracting comments."
   ]
  },
  {
   "cell_type": "code",
   "execution_count": 723,
   "id": "239e8e16",
   "metadata": {},
   "outputs": [],
   "source": [
    "hms=['second','seconds','minute','minutes','hour','hours','day','days','week','weeks','month','months','year','years']\n",
    "e=[]\n",
    "for i in range(len(comments)):\n",
    "    for j in hms:\n",
    "        for k in range(61):\n",
    "            if f\"\\n{k} {j} ago\" in comments[i]:\n",
    "                e.append(f\"\\n{k} {j} ago\" )\n",
    "            "
   ]
  },
  {
   "cell_type": "markdown",
   "id": "ebb5ab5e",
   "metadata": {},
   "source": [
    "Extracting published time of comments."
   ]
  },
  {
   "cell_type": "code",
   "execution_count": 724,
   "id": "b752701e",
   "metadata": {},
   "outputs": [],
   "source": [
    "vote=[]\n",
    "for i in com:\n",
    "     vote.append(i[-2:])\n",
    "            "
   ]
  },
  {
   "cell_type": "markdown",
   "id": "d76161d3",
   "metadata": {},
   "source": [
    "Extracting Upvotes."
   ]
  },
  {
   "cell_type": "code",
   "execution_count": 725,
   "id": "097a84b5",
   "metadata": {},
   "outputs": [],
   "source": [
    "up=[]\n",
    "for i in range(len(vote)):\n",
    "    if vote[i][0]:\n",
    "        if vote[i][0].isdigit() or 'K' in vote[i][0]:\n",
    "            up.append(vote[i][0])\n",
    "        else:\n",
    "            up.append(\"-\")\n",
    "        "
   ]
  },
  {
   "cell_type": "markdown",
   "id": "94f669f1",
   "metadata": {},
   "source": [
    "Replacing \"-\" where Upvotes are not given."
   ]
  },
  {
   "cell_type": "code",
   "execution_count": 726,
   "id": "0c156a73",
   "metadata": {},
   "outputs": [
    {
     "name": "stdout",
     "output_type": "stream",
     "text": [
      "500 500 500\n"
     ]
    }
   ],
   "source": [
    "print(len(up),len(e),len(text))"
   ]
  },
  {
   "cell_type": "code",
   "execution_count": 727,
   "id": "b05958a3",
   "metadata": {},
   "outputs": [
    {
     "data": {
      "text/html": [
       "<div>\n",
       "<style scoped>\n",
       "    .dataframe tbody tr th:only-of-type {\n",
       "        vertical-align: middle;\n",
       "    }\n",
       "\n",
       "    .dataframe tbody tr th {\n",
       "        vertical-align: top;\n",
       "    }\n",
       "\n",
       "    .dataframe thead th {\n",
       "        text-align: right;\n",
       "    }\n",
       "</style>\n",
       "<table border=\"1\" class=\"dataframe\">\n",
       "  <thead>\n",
       "    <tr style=\"text-align: right;\">\n",
       "      <th></th>\n",
       "      <th>Comments</th>\n",
       "      <th>Vote</th>\n",
       "      <th>Time</th>\n",
       "    </tr>\n",
       "  </thead>\n",
       "  <tbody>\n",
       "    <tr>\n",
       "      <th>0</th>\n",
       "      <td>[Omg, What, a, Mind-blowing, Trailer, BIGGEST,...</td>\n",
       "      <td>2.7K</td>\n",
       "      <td>\\n3 hours ago</td>\n",
       "    </tr>\n",
       "    <tr>\n",
       "      <th>1</th>\n",
       "      <td>[Bollywood, should, be, doing, these, types, o...</td>\n",
       "      <td>375</td>\n",
       "      <td>\\n1 hour ago</td>\n",
       "    </tr>\n",
       "    <tr>\n",
       "      <th>2</th>\n",
       "      <td>[ago, The, VFX, ,, the, transformation,, the, ...</td>\n",
       "      <td>201</td>\n",
       "      <td>\\n39 minutes ago</td>\n",
       "    </tr>\n",
       "    <tr>\n",
       "      <th>3</th>\n",
       "      <td>[ago, I, got, a, goosebumps,, Varun, and, all,...</td>\n",
       "      <td>79</td>\n",
       "      <td>\\n31 minutes ago</td>\n",
       "    </tr>\n",
       "    <tr>\n",
       "      <th>4</th>\n",
       "      <td>[(edited), Varun, dawan, is, back, with..., 10...</td>\n",
       "      <td>899</td>\n",
       "      <td>\\n1 hour ago</td>\n",
       "    </tr>\n",
       "  </tbody>\n",
       "</table>\n",
       "</div>"
      ],
      "text/plain": [
       "                                            Comments  Vote              Time\n",
       "0  [Omg, What, a, Mind-blowing, Trailer, BIGGEST,...  2.7K     \\n3 hours ago\n",
       "1  [Bollywood, should, be, doing, these, types, o...   375      \\n1 hour ago\n",
       "2  [ago, The, VFX, ,, the, transformation,, the, ...   201  \\n39 minutes ago\n",
       "3  [ago, I, got, a, goosebumps,, Varun, and, all,...    79  \\n31 minutes ago\n",
       "4  [(edited), Varun, dawan, is, back, with..., 10...   899      \\n1 hour ago"
      ]
     },
     "execution_count": 727,
     "metadata": {},
     "output_type": "execute_result"
    }
   ],
   "source": [
    "df9=pd.DataFrame({\"Comments\":text,\"Vote\":up,\"Time\":e})\n",
    "df9.head()"
   ]
  },
  {
   "cell_type": "code",
   "execution_count": 728,
   "id": "cd04c910",
   "metadata": {},
   "outputs": [],
   "source": [
    "a=[]\n",
    "for i in df9[\"Time\"]:\n",
    "        a.append(i[1:])\n",
    "\n",
    "df9[\"Time\"]=a"
   ]
  },
  {
   "cell_type": "markdown",
   "id": "f218599d",
   "metadata": {},
   "source": [
    "Removing \"\\n\" from Time column."
   ]
  },
  {
   "cell_type": "code",
   "execution_count": 729,
   "id": "d19c2e1b",
   "metadata": {
    "scrolled": true
   },
   "outputs": [],
   "source": [
    "c=[]\n",
    "for i in df9[\"Comments\"]:\n",
    "    c.append(i)"
   ]
  },
  {
   "cell_type": "markdown",
   "id": "4ad2c980",
   "metadata": {},
   "source": [
    "Removing square brackets from Comments column."
   ]
  },
  {
   "cell_type": "code",
   "execution_count": 730,
   "id": "79cda003",
   "metadata": {},
   "outputs": [],
   "source": [
    "d=[]\n",
    "str=\" \"\n",
    "for i in c:\n",
    "        d.append(str.join(i))\n"
   ]
  },
  {
   "cell_type": "markdown",
   "id": "e9079b3d",
   "metadata": {},
   "source": [
    "Combining comments by removing \",\""
   ]
  },
  {
   "cell_type": "code",
   "execution_count": 731,
   "id": "98552099",
   "metadata": {},
   "outputs": [],
   "source": [
    "df9[\"Comments\"]=d"
   ]
  },
  {
   "cell_type": "code",
   "execution_count": 732,
   "id": "8f642d77",
   "metadata": {
    "scrolled": true
   },
   "outputs": [
    {
     "data": {
      "text/html": [
       "<div>\n",
       "<style scoped>\n",
       "    .dataframe tbody tr th:only-of-type {\n",
       "        vertical-align: middle;\n",
       "    }\n",
       "\n",
       "    .dataframe tbody tr th {\n",
       "        vertical-align: top;\n",
       "    }\n",
       "\n",
       "    .dataframe thead th {\n",
       "        text-align: right;\n",
       "    }\n",
       "</style>\n",
       "<table border=\"1\" class=\"dataframe\">\n",
       "  <thead>\n",
       "    <tr style=\"text-align: right;\">\n",
       "      <th></th>\n",
       "      <th>Comments</th>\n",
       "      <th>Vote</th>\n",
       "      <th>Time</th>\n",
       "    </tr>\n",
       "  </thead>\n",
       "  <tbody>\n",
       "    <tr>\n",
       "      <th>0</th>\n",
       "      <td>Omg What a Mind-blowing Trailer BIGGEST BLOCKB...</td>\n",
       "      <td>2.7K</td>\n",
       "      <td>3 hours ago</td>\n",
       "    </tr>\n",
       "    <tr>\n",
       "      <th>1</th>\n",
       "      <td>Bollywood should be doing these types of movie...</td>\n",
       "      <td>375</td>\n",
       "      <td>1 hour ago</td>\n",
       "    </tr>\n",
       "    <tr>\n",
       "      <th>2</th>\n",
       "      <td>ago The VFX , the transformation, the acting, ...</td>\n",
       "      <td>201</td>\n",
       "      <td>39 minutes ago</td>\n",
       "    </tr>\n",
       "    <tr>\n",
       "      <th>3</th>\n",
       "      <td>ago I got a goosebumps, Varun and all cast mem...</td>\n",
       "      <td>79</td>\n",
       "      <td>31 minutes ago</td>\n",
       "    </tr>\n",
       "    <tr>\n",
       "      <th>4</th>\n",
       "      <td>(edited) Varun dawan is back with... 100 % goo...</td>\n",
       "      <td>899</td>\n",
       "      <td>1 hour ago</td>\n",
       "    </tr>\n",
       "  </tbody>\n",
       "</table>\n",
       "</div>"
      ],
      "text/plain": [
       "                                            Comments  Vote            Time\n",
       "0  Omg What a Mind-blowing Trailer BIGGEST BLOCKB...  2.7K     3 hours ago\n",
       "1  Bollywood should be doing these types of movie...   375      1 hour ago\n",
       "2  ago The VFX , the transformation, the acting, ...   201  39 minutes ago\n",
       "3  ago I got a goosebumps, Varun and all cast mem...    79  31 minutes ago\n",
       "4  (edited) Varun dawan is back with... 100 % goo...   899      1 hour ago"
      ]
     },
     "execution_count": 732,
     "metadata": {},
     "output_type": "execute_result"
    }
   ],
   "source": [
    "df9.head()"
   ]
  },
  {
   "cell_type": "code",
   "execution_count": null,
   "id": "7a9b4c09",
   "metadata": {},
   "outputs": [],
   "source": []
  },
  {
   "cell_type": "markdown",
   "id": "ed9ef219",
   "metadata": {},
   "source": [
    "# 10. Write a python program to scrape a data for all available Hostels from https://www.hostelworld.com/ in....."
   ]
  },
  {
   "cell_type": "code",
   "execution_count": 85,
   "id": "e998719a",
   "metadata": {},
   "outputs": [],
   "source": [
    "driver=webdriver.Chrome(r\"C:\\Users\\RedPr\\Downloads\\chromedriver_win32\\chromedriver.exe\")\n",
    "driver.get(\"https://www.hostelworld.com/\")\n",
    "driver.implicitly_wait(5)"
   ]
  },
  {
   "cell_type": "markdown",
   "id": "bfd78541",
   "metadata": {},
   "source": [
    "Accessing the website.\n"
   ]
  },
  {
   "cell_type": "code",
   "execution_count": 103,
   "id": "4b8525e0",
   "metadata": {},
   "outputs": [],
   "source": [
    "search=driver.find_element(By.XPATH,'//input[@class=\"location-text\"]')\n",
    "search.click()\n"
   ]
  },
  {
   "cell_type": "markdown",
   "id": "7008d487",
   "metadata": {},
   "source": [
    "Accessing the searchbox."
   ]
  },
  {
   "cell_type": "code",
   "execution_count": 104,
   "id": "ff9c9deb",
   "metadata": {},
   "outputs": [],
   "source": [
    "search=driver.find_element(By.XPATH,'/html/body/div[3]/div/div/div[2]/div[1]/div/div/div[4]/div/div[2]/div/div[1]/div/div/div/input')\n",
    "search.send_keys(\"London\")"
   ]
  },
  {
   "cell_type": "markdown",
   "id": "d50d6065",
   "metadata": {},
   "source": [
    "Entering text in search box.\n"
   ]
  },
  {
   "cell_type": "code",
   "execution_count": 106,
   "id": "c376295c",
   "metadata": {},
   "outputs": [],
   "source": [
    "search=driver.find_element(By.XPATH,'/html/body/div[3]/div/div/div[2]/div[1]/div/div/div[4]/div/div[2]/div/div[1]/div/div/ul/li[2]')\n",
    "search.click()"
   ]
  },
  {
   "cell_type": "markdown",
   "id": "45b7d23b",
   "metadata": {},
   "source": [
    "\n",
    "Selecting first suggested result from dropdown in searchbox.\n"
   ]
  },
  {
   "cell_type": "code",
   "execution_count": 107,
   "id": "f809d509",
   "metadata": {},
   "outputs": [],
   "source": [
    "search=driver.find_element(By.XPATH,'/html/body/div[3]/div/div/div[2]/div[1]/div/div/div[4]/div/div[2]/div/div[5]/button')\n",
    "search.click()"
   ]
  },
  {
   "cell_type": "markdown",
   "id": "cffc297e",
   "metadata": {},
   "source": [
    "\n",
    "Submitting the search.\n"
   ]
  },
  {
   "cell_type": "code",
   "execution_count": 163,
   "id": "fa72d325",
   "metadata": {},
   "outputs": [],
   "source": [
    "name=[]\n",
    "name_tag=driver.find_elements(By.XPATH,'//h2[@class=\"title title-6\"]')\n",
    "for i in name_tag:\n",
    "    name.append(i.text)\n",
    "    "
   ]
  },
  {
   "cell_type": "markdown",
   "id": "4cc3ba02",
   "metadata": {},
   "source": [
    "Extracting name."
   ]
  },
  {
   "cell_type": "code",
   "execution_count": 164,
   "id": "590f5c7c",
   "metadata": {},
   "outputs": [],
   "source": [
    "dist=[]\n",
    "dist_tag=driver.find_elements(By.XPATH,'//span[@class=\"description\"]')\n",
    "for i in dist_tag:\n",
    "    dist.append(i.text)\n",
    "    "
   ]
  },
  {
   "cell_type": "markdown",
   "id": "2efb5ccf",
   "metadata": {},
   "source": [
    "Extracting distance from city center to location."
   ]
  },
  {
   "cell_type": "code",
   "execution_count": 165,
   "id": "77325465",
   "metadata": {},
   "outputs": [],
   "source": [
    "rate=[]\n",
    "\n",
    "ratings=driver.find_elements(By.XPATH,'//div[@class=\"score orange big\"]')\n",
    "for i in ratings:\n",
    "    rate.append(i.text)\n",
    "    \n",
    "rating=driver.find_elements(By.XPATH,'//div[@class=\"score gray big\"]')\n",
    "for i in rating:\n",
    "    rate.append(i.text) "
   ]
  },
  {
   "cell_type": "markdown",
   "id": "1d7b66b1",
   "metadata": {},
   "source": [
    "Extracting rating."
   ]
  },
  {
   "cell_type": "code",
   "execution_count": 166,
   "id": "8a83d6a5",
   "metadata": {},
   "outputs": [],
   "source": [
    "ov=[]\n",
    "\n",
    "overall_tag=driver.find_elements(By.XPATH,'//div[@class=\"keyword\"]')\n",
    "for i in overall_tag[3:]:\n",
    "    ov.append(i.text)"
   ]
  },
  {
   "cell_type": "markdown",
   "id": "2cae0cf3",
   "metadata": {},
   "source": [
    "Extracting Overall review."
   ]
  },
  {
   "cell_type": "code",
   "execution_count": 167,
   "id": "75e3c3b1",
   "metadata": {},
   "outputs": [],
   "source": [
    "total=[]\n",
    "\n",
    "total_tag=driver.find_elements(By.XPATH,'//div[@class=\"reviews\"]')\n",
    "for i in total_tag:\n",
    "    total.append(i.text)\n",
    "    "
   ]
  },
  {
   "cell_type": "markdown",
   "id": "10d7ef54",
   "metadata": {},
   "source": [
    "Extracting Total number of reviews."
   ]
  },
  {
   "cell_type": "code",
   "execution_count": 168,
   "id": "693e5eff",
   "metadata": {},
   "outputs": [],
   "source": [
    "private=[]\n",
    "\n",
    "p=driver.find_elements(By.XPATH,'//div[@class=\"price-col\"]')\n",
    "for i in p:\n",
    "    private.append(i.text)"
   ]
  },
  {
   "cell_type": "markdown",
   "id": "2d189228",
   "metadata": {},
   "source": [
    "Extracting price for dorm and privates"
   ]
  },
  {
   "cell_type": "code",
   "execution_count": 169,
   "id": "269a87c8",
   "metadata": {},
   "outputs": [],
   "source": [
    "f=[]\n",
    "c=driver.find_elements(By.XPATH,'//div[@class=\"facilities-label facilities\"]')\n",
    "for i in c:\n",
    "    f.append(i.text)\n",
    "    "
   ]
  },
  {
   "cell_type": "markdown",
   "id": "8e07105b",
   "metadata": {},
   "source": [
    "Extracting facility information."
   ]
  },
  {
   "cell_type": "code",
   "execution_count": 170,
   "id": "c4c50935",
   "metadata": {},
   "outputs": [],
   "source": [
    "d=[]\n",
    "desc=driver.find_elements(By.XPATH,'//div[@class=\"rating-factors prop-card-tablet rating-factors small\"]')\n",
    "for i in desc:\n",
    "    d.append(i.text)"
   ]
  },
  {
   "cell_type": "markdown",
   "id": "6cb9a63c",
   "metadata": {},
   "source": [
    "Extracting location description."
   ]
  },
  {
   "cell_type": "code",
   "execution_count": 171,
   "id": "da5833d4",
   "metadata": {},
   "outputs": [],
   "source": [
    "pf=[]\n",
    "df=[]\n",
    "for i in range(len(private)):\n",
    "    if (i%2)==0:\n",
    "        pf.append(private[i])\n",
    "    else:\n",
    "        df.append(private[i])\n",
    "        "
   ]
  },
  {
   "cell_type": "markdown",
   "id": "9225f59a",
   "metadata": {},
   "source": [
    "Separating dorm price from privates."
   ]
  },
  {
   "cell_type": "code",
   "execution_count": 172,
   "id": "f9bc9d99",
   "metadata": {},
   "outputs": [],
   "source": [
    "dm=[]\n",
    "pv=[]\n",
    "for i in df:\n",
    "    dm.append(i.split())\n",
    "    \n",
    "for i in pf:\n",
    "    pv.append(i.split())"
   ]
  },
  {
   "cell_type": "markdown",
   "id": "ede7f896",
   "metadata": {},
   "source": [
    "Splitting the string in dorm and privates list."
   ]
  },
  {
   "cell_type": "code",
   "execution_count": 173,
   "id": "8024fefb",
   "metadata": {},
   "outputs": [],
   "source": [
    "newdorm=[]\n",
    "for i in range(len(dm)):\n",
    "    if \"Rs\" in dm[i][-1]:\n",
    "        newdorm.append(dm[i][-1][2:])\n",
    "    else:\n",
    "        newdorm.append(dm[i])"
   ]
  },
  {
   "cell_type": "markdown",
   "id": "901db37e",
   "metadata": {},
   "source": [
    "Separating available dorm from not available."
   ]
  },
  {
   "cell_type": "code",
   "execution_count": 179,
   "id": "c5445ac5",
   "metadata": {},
   "outputs": [],
   "source": [
    "newprivate=[]\n",
    "for i in range(len(pv)):\n",
    "    if \"Rs\" in pv[i][-1]:\n",
    "        newprivate.append(pv[i][-1][2:])\n",
    "    else:\n",
    "        newprivate.append(pv[i])"
   ]
  },
  {
   "cell_type": "markdown",
   "id": "6d113744",
   "metadata": {},
   "source": [
    "Separating available privates from not available."
   ]
  },
  {
   "cell_type": "code",
   "execution_count": 181,
   "id": "bb3599a2",
   "metadata": {},
   "outputs": [],
   "source": [
    "df10=pd.DataFrame({\"Name\":name,\"Distance from city center\":dist,\"Rating\":rate,\"Private Price (₹)\":newprivate,\"Dorm Price (₹)\":newdorm,\"Overall Review\":ov,\"Total Reviews\":total,\"Facilities\":f,\"Description\":d})"
   ]
  },
  {
   "cell_type": "code",
   "execution_count": 182,
   "id": "7d3c62f1",
   "metadata": {},
   "outputs": [
    {
     "data": {
      "text/html": [
       "<div>\n",
       "<style scoped>\n",
       "    .dataframe tbody tr th:only-of-type {\n",
       "        vertical-align: middle;\n",
       "    }\n",
       "\n",
       "    .dataframe tbody tr th {\n",
       "        vertical-align: top;\n",
       "    }\n",
       "\n",
       "    .dataframe thead th {\n",
       "        text-align: right;\n",
       "    }\n",
       "</style>\n",
       "<table border=\"1\" class=\"dataframe\">\n",
       "  <thead>\n",
       "    <tr style=\"text-align: right;\">\n",
       "      <th></th>\n",
       "      <th>Name</th>\n",
       "      <th>Distance from city center</th>\n",
       "      <th>Rating</th>\n",
       "      <th>Private Price (₹)</th>\n",
       "      <th>Dorm Price (₹)</th>\n",
       "      <th>Overall Review</th>\n",
       "      <th>Total Reviews</th>\n",
       "      <th>Facilities</th>\n",
       "      <th>Description</th>\n",
       "    </tr>\n",
       "  </thead>\n",
       "  <tbody>\n",
       "    <tr>\n",
       "      <th>0</th>\n",
       "      <td>Wombat's City Hostel London</td>\n",
       "      <td>Hostel - 3.6km from city centre</td>\n",
       "      <td>9.0</td>\n",
       "      <td>15826</td>\n",
       "      <td>4200</td>\n",
       "      <td>Superb</td>\n",
       "      <td>14195 Total Reviews</td>\n",
       "      <td>Free WiFi\\nFollows Covid-19 sanitation guidance</td>\n",
       "      <td>Perfect Location\\nSuperb Staff\\nFantastic Clea...</td>\n",
       "    </tr>\n",
       "    <tr>\n",
       "      <th>1</th>\n",
       "      <td>St Christopher's Village</td>\n",
       "      <td>Hostel - 1.8km from city centre</td>\n",
       "      <td>8.3</td>\n",
       "      <td>[No, Privates, Available]</td>\n",
       "      <td>2847</td>\n",
       "      <td>Fabulous</td>\n",
       "      <td>11590 Total Reviews</td>\n",
       "      <td>Free WiFi\\nFollows Covid-19 sanitation guidance</td>\n",
       "      <td>Perfect Location\\nSuperb Staff\\nExcellent Clea...</td>\n",
       "    </tr>\n",
       "    <tr>\n",
       "      <th>2</th>\n",
       "      <td>Urbany Hostel London</td>\n",
       "      <td>Hostel - 5.4km from city centre</td>\n",
       "      <td>9.2</td>\n",
       "      <td>15799</td>\n",
       "      <td>[No, Dorms, Available]</td>\n",
       "      <td>Superb</td>\n",
       "      <td>500 Total Reviews</td>\n",
       "      <td>Free WiFi\\nFollows Covid-19 sanitation guidance</td>\n",
       "      <td>Perfect Location\\nSuperb Staff\\nFantastic Clea...</td>\n",
       "    </tr>\n",
       "    <tr>\n",
       "      <th>3</th>\n",
       "      <td>Generator London</td>\n",
       "      <td>Hostel - 3km from city centre</td>\n",
       "      <td>7.8</td>\n",
       "      <td>18651</td>\n",
       "      <td>5963</td>\n",
       "      <td>Very Good</td>\n",
       "      <td>7210 Total Reviews</td>\n",
       "      <td>Free WiFi\\nFollows Covid-19 sanitation guidance</td>\n",
       "      <td>Perfect Location\\nMarvellous Staff\\nExcellent ...</td>\n",
       "    </tr>\n",
       "    <tr>\n",
       "      <th>4</th>\n",
       "      <td>Safestay London Elephant &amp; Castle</td>\n",
       "      <td>Hostel - 1.7km from city centre</td>\n",
       "      <td>7.0</td>\n",
       "      <td>30204</td>\n",
       "      <td>5062</td>\n",
       "      <td>Very Good</td>\n",
       "      <td>4589 Total Reviews</td>\n",
       "      <td>Free WiFi\\nFollows Covid-19 sanitation guidance</td>\n",
       "      <td>Wonderful Location\\nBrilliant Staff\\nAwesome C...</td>\n",
       "    </tr>\n",
       "  </tbody>\n",
       "</table>\n",
       "</div>"
      ],
      "text/plain": [
       "                                Name        Distance from city center Rating  \\\n",
       "0        Wombat's City Hostel London  Hostel - 3.6km from city centre    9.0   \n",
       "1           St Christopher's Village  Hostel - 1.8km from city centre    8.3   \n",
       "2               Urbany Hostel London  Hostel - 5.4km from city centre    9.2   \n",
       "3                   Generator London    Hostel - 3km from city centre    7.8   \n",
       "4  Safestay London Elephant & Castle  Hostel - 1.7km from city centre    7.0   \n",
       "\n",
       "           Private Price (₹)          Dorm Price (₹) Overall Review  \\\n",
       "0                      15826                    4200         Superb   \n",
       "1  [No, Privates, Available]                    2847       Fabulous   \n",
       "2                      15799  [No, Dorms, Available]         Superb   \n",
       "3                      18651                    5963      Very Good   \n",
       "4                      30204                    5062      Very Good   \n",
       "\n",
       "         Total Reviews                                       Facilities  \\\n",
       "0  14195 Total Reviews  Free WiFi\\nFollows Covid-19 sanitation guidance   \n",
       "1  11590 Total Reviews  Free WiFi\\nFollows Covid-19 sanitation guidance   \n",
       "2    500 Total Reviews  Free WiFi\\nFollows Covid-19 sanitation guidance   \n",
       "3   7210 Total Reviews  Free WiFi\\nFollows Covid-19 sanitation guidance   \n",
       "4   4589 Total Reviews  Free WiFi\\nFollows Covid-19 sanitation guidance   \n",
       "\n",
       "                                         Description  \n",
       "0  Perfect Location\\nSuperb Staff\\nFantastic Clea...  \n",
       "1  Perfect Location\\nSuperb Staff\\nExcellent Clea...  \n",
       "2  Perfect Location\\nSuperb Staff\\nFantastic Clea...  \n",
       "3  Perfect Location\\nMarvellous Staff\\nExcellent ...  \n",
       "4  Wonderful Location\\nBrilliant Staff\\nAwesome C...  "
      ]
     },
     "execution_count": 182,
     "metadata": {},
     "output_type": "execute_result"
    }
   ],
   "source": [
    "df10.head()"
   ]
  },
  {
   "cell_type": "code",
   "execution_count": null,
   "id": "76679814",
   "metadata": {},
   "outputs": [],
   "source": []
  }
 ],
 "metadata": {
  "kernelspec": {
   "display_name": "Python 3 (ipykernel)",
   "language": "python",
   "name": "python3"
  },
  "language_info": {
   "codemirror_mode": {
    "name": "ipython",
    "version": 3
   },
   "file_extension": ".py",
   "mimetype": "text/x-python",
   "name": "python",
   "nbconvert_exporter": "python",
   "pygments_lexer": "ipython3",
   "version": "3.9.7"
  }
 },
 "nbformat": 4,
 "nbformat_minor": 5
}
