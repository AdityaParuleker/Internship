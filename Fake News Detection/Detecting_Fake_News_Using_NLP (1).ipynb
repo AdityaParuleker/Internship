{
  "cells": [
    {
      "cell_type": "code",
      "execution_count": 51,
      "metadata": {
        "id": "zIeEHdjKiABS"
      },
      "outputs": [],
      "source": [
        "import warnings\n",
        "warnings.filterwarnings('ignore')\n",
        "import pandas as pd\n",
        "import re\n",
        "import numpy as np\n",
        "import matplotlib.pyplot as plt \n",
        "import seaborn as sns\n",
        "import nltk\n",
        "import glob\n",
        "from google.colab import drive\n",
        "from nltk.tokenize import word_tokenize\n",
        "from nltk.stem import PorterStemmer\n",
        "from nltk.stem import WordNetLemmatizer\n",
        "from bs4 import BeautifulSoup"
      ]
    },
    {
      "cell_type": "markdown",
      "source": [
        "#Importing"
      ],
      "metadata": {
        "id": "8ja9YwDGjEWM"
      }
    },
    {
      "cell_type": "code",
      "execution_count": 30,
      "metadata": {
        "colab": {
          "base_uri": "https://localhost:8080/"
        },
        "id": "2wClCX76GCyy",
        "outputId": "edc3d298-8659-4b9c-b8c5-628cd69d4b4a"
      },
      "outputs": [
        {
          "output_type": "stream",
          "name": "stderr",
          "text": [
            "[nltk_data] Downloading package stopwords to /root/nltk_data...\n",
            "[nltk_data]   Package stopwords is already up-to-date!\n",
            "[nltk_data] Downloading package wordnet to /root/nltk_data...\n",
            "[nltk_data]   Package wordnet is already up-to-date!\n",
            "[nltk_data] Downloading package omw-1.4 to /root/nltk_data...\n",
            "[nltk_data]   Package omw-1.4 is already up-to-date!\n"
          ]
        },
        {
          "output_type": "execute_result",
          "data": {
            "text/plain": [
              "True"
            ]
          },
          "metadata": {},
          "execution_count": 30
        }
      ],
      "source": [
        "import nltk\n",
        "nltk.download('stopwords')\n",
        "nltk.download('wordnet')\n",
        "nltk.download('omw-1.4')"
      ]
    },
    {
      "cell_type": "code",
      "source": [
        "df2=pd.read_csv(\"C:\\\\Users\\\\RedPr\\\\Downloads\\\\Fake News Project\\\\Fake.csv\")\n",
        "df2.shape"
      ],
      "metadata": {
        "colab": {
          "base_uri": "https://localhost:8080/"
        },
        "id": "sEVcpkmwtji6",
        "outputId": "1a4de992-54d3-4c97-e64a-4e18e156be8f"
      },
      "execution_count": 32,
      "outputs": [
        {
          "output_type": "execute_result",
          "data": {
            "text/plain": [
              "(23481, 4)"
            ]
          },
          "metadata": {},
          "execution_count": 32
        }
      ]
    },
    {
      "cell_type": "code",
      "source": [
        "df3=pd.read_csv(\"C:\\\\Users\\\\RedPr\\\\Downloads\\\\Fake News Project\\\\True.csv\")\n",
        "df3.shape"
      ],
      "metadata": {
        "colab": {
          "base_uri": "https://localhost:8080/"
        },
        "id": "BSOMYbkQthOk",
        "outputId": "c181fa16-f6d6-43f3-e545-584fa4b7e6ca"
      },
      "execution_count": 33,
      "outputs": [
        {
          "output_type": "execute_result",
          "data": {
            "text/plain": [
              "(21417, 4)"
            ]
          },
          "metadata": {},
          "execution_count": 33
        }
      ]
    },
    {
      "cell_type": "code",
      "execution_count": 34,
      "metadata": {
        "colab": {
          "base_uri": "https://localhost:8080/",
          "height": 206
        },
        "id": "I80WcuExiH1g",
        "outputId": "7b0b6eda-0438-482f-88dc-ee94890b0da6"
      },
      "outputs": [
        {
          "output_type": "execute_result",
          "data": {
            "text/plain": [
              "                                               title  \\\n",
              "0   Donald Trump Sends Out Embarrassing New Year’...   \n",
              "1   Drunk Bragging Trump Staffer Started Russian ...   \n",
              "2   Sheriff David Clarke Becomes An Internet Joke...   \n",
              "3   Trump Is So Obsessed He Even Has Obama’s Name...   \n",
              "4   Pope Francis Just Called Out Donald Trump Dur...   \n",
              "\n",
              "                                                text subject  \\\n",
              "0  Donald Trump just couldn t wish all Americans ...    News   \n",
              "1  House Intelligence Committee Chairman Devin Nu...    News   \n",
              "2  On Friday, it was revealed that former Milwauk...    News   \n",
              "3  On Christmas day, Donald Trump announced that ...    News   \n",
              "4  Pope Francis used his annual Christmas Day mes...    News   \n",
              "\n",
              "                date  report  \n",
              "0  December 31, 2017       0  \n",
              "1  December 31, 2017       0  \n",
              "2  December 30, 2017       0  \n",
              "3  December 29, 2017       0  \n",
              "4  December 25, 2017       0  "
            ],
            "text/html": [
              "\n",
              "  <div id=\"df-22b80298-17ef-45ee-ab36-44d27461191f\">\n",
              "    <div class=\"colab-df-container\">\n",
              "      <div>\n",
              "<style scoped>\n",
              "    .dataframe tbody tr th:only-of-type {\n",
              "        vertical-align: middle;\n",
              "    }\n",
              "\n",
              "    .dataframe tbody tr th {\n",
              "        vertical-align: top;\n",
              "    }\n",
              "\n",
              "    .dataframe thead th {\n",
              "        text-align: right;\n",
              "    }\n",
              "</style>\n",
              "<table border=\"1\" class=\"dataframe\">\n",
              "  <thead>\n",
              "    <tr style=\"text-align: right;\">\n",
              "      <th></th>\n",
              "      <th>title</th>\n",
              "      <th>text</th>\n",
              "      <th>subject</th>\n",
              "      <th>date</th>\n",
              "      <th>report</th>\n",
              "    </tr>\n",
              "  </thead>\n",
              "  <tbody>\n",
              "    <tr>\n",
              "      <th>0</th>\n",
              "      <td>Donald Trump Sends Out Embarrassing New Year’...</td>\n",
              "      <td>Donald Trump just couldn t wish all Americans ...</td>\n",
              "      <td>News</td>\n",
              "      <td>December 31, 2017</td>\n",
              "      <td>0</td>\n",
              "    </tr>\n",
              "    <tr>\n",
              "      <th>1</th>\n",
              "      <td>Drunk Bragging Trump Staffer Started Russian ...</td>\n",
              "      <td>House Intelligence Committee Chairman Devin Nu...</td>\n",
              "      <td>News</td>\n",
              "      <td>December 31, 2017</td>\n",
              "      <td>0</td>\n",
              "    </tr>\n",
              "    <tr>\n",
              "      <th>2</th>\n",
              "      <td>Sheriff David Clarke Becomes An Internet Joke...</td>\n",
              "      <td>On Friday, it was revealed that former Milwauk...</td>\n",
              "      <td>News</td>\n",
              "      <td>December 30, 2017</td>\n",
              "      <td>0</td>\n",
              "    </tr>\n",
              "    <tr>\n",
              "      <th>3</th>\n",
              "      <td>Trump Is So Obsessed He Even Has Obama’s Name...</td>\n",
              "      <td>On Christmas day, Donald Trump announced that ...</td>\n",
              "      <td>News</td>\n",
              "      <td>December 29, 2017</td>\n",
              "      <td>0</td>\n",
              "    </tr>\n",
              "    <tr>\n",
              "      <th>4</th>\n",
              "      <td>Pope Francis Just Called Out Donald Trump Dur...</td>\n",
              "      <td>Pope Francis used his annual Christmas Day mes...</td>\n",
              "      <td>News</td>\n",
              "      <td>December 25, 2017</td>\n",
              "      <td>0</td>\n",
              "    </tr>\n",
              "  </tbody>\n",
              "</table>\n",
              "</div>\n",
              "      <button class=\"colab-df-convert\" onclick=\"convertToInteractive('df-22b80298-17ef-45ee-ab36-44d27461191f')\"\n",
              "              title=\"Convert this dataframe to an interactive table.\"\n",
              "              style=\"display:none;\">\n",
              "        \n",
              "  <svg xmlns=\"http://www.w3.org/2000/svg\" height=\"24px\"viewBox=\"0 0 24 24\"\n",
              "       width=\"24px\">\n",
              "    <path d=\"M0 0h24v24H0V0z\" fill=\"none\"/>\n",
              "    <path d=\"M18.56 5.44l.94 2.06.94-2.06 2.06-.94-2.06-.94-.94-2.06-.94 2.06-2.06.94zm-11 1L8.5 8.5l.94-2.06 2.06-.94-2.06-.94L8.5 2.5l-.94 2.06-2.06.94zm10 10l.94 2.06.94-2.06 2.06-.94-2.06-.94-.94-2.06-.94 2.06-2.06.94z\"/><path d=\"M17.41 7.96l-1.37-1.37c-.4-.4-.92-.59-1.43-.59-.52 0-1.04.2-1.43.59L10.3 9.45l-7.72 7.72c-.78.78-.78 2.05 0 2.83L4 21.41c.39.39.9.59 1.41.59.51 0 1.02-.2 1.41-.59l7.78-7.78 2.81-2.81c.8-.78.8-2.07 0-2.86zM5.41 20L4 18.59l7.72-7.72 1.47 1.35L5.41 20z\"/>\n",
              "  </svg>\n",
              "      </button>\n",
              "      \n",
              "  <style>\n",
              "    .colab-df-container {\n",
              "      display:flex;\n",
              "      flex-wrap:wrap;\n",
              "      gap: 12px;\n",
              "    }\n",
              "\n",
              "    .colab-df-convert {\n",
              "      background-color: #E8F0FE;\n",
              "      border: none;\n",
              "      border-radius: 50%;\n",
              "      cursor: pointer;\n",
              "      display: none;\n",
              "      fill: #1967D2;\n",
              "      height: 32px;\n",
              "      padding: 0 0 0 0;\n",
              "      width: 32px;\n",
              "    }\n",
              "\n",
              "    .colab-df-convert:hover {\n",
              "      background-color: #E2EBFA;\n",
              "      box-shadow: 0px 1px 2px rgba(60, 64, 67, 0.3), 0px 1px 3px 1px rgba(60, 64, 67, 0.15);\n",
              "      fill: #174EA6;\n",
              "    }\n",
              "\n",
              "    [theme=dark] .colab-df-convert {\n",
              "      background-color: #3B4455;\n",
              "      fill: #D2E3FC;\n",
              "    }\n",
              "\n",
              "    [theme=dark] .colab-df-convert:hover {\n",
              "      background-color: #434B5C;\n",
              "      box-shadow: 0px 1px 3px 1px rgba(0, 0, 0, 0.15);\n",
              "      filter: drop-shadow(0px 1px 2px rgba(0, 0, 0, 0.3));\n",
              "      fill: #FFFFFF;\n",
              "    }\n",
              "  </style>\n",
              "\n",
              "      <script>\n",
              "        const buttonEl =\n",
              "          document.querySelector('#df-22b80298-17ef-45ee-ab36-44d27461191f button.colab-df-convert');\n",
              "        buttonEl.style.display =\n",
              "          google.colab.kernel.accessAllowed ? 'block' : 'none';\n",
              "\n",
              "        async function convertToInteractive(key) {\n",
              "          const element = document.querySelector('#df-22b80298-17ef-45ee-ab36-44d27461191f');\n",
              "          const dataTable =\n",
              "            await google.colab.kernel.invokeFunction('convertToInteractive',\n",
              "                                                     [key], {});\n",
              "          if (!dataTable) return;\n",
              "\n",
              "          const docLinkHtml = 'Like what you see? Visit the ' +\n",
              "            '<a target=\"_blank\" href=https://colab.research.google.com/notebooks/data_table.ipynb>data table notebook</a>'\n",
              "            + ' to learn more about interactive tables.';\n",
              "          element.innerHTML = '';\n",
              "          dataTable['output_type'] = 'display_data';\n",
              "          await google.colab.output.renderOutput(dataTable, element);\n",
              "          const docLink = document.createElement('div');\n",
              "          docLink.innerHTML = docLinkHtml;\n",
              "          element.appendChild(docLink);\n",
              "        }\n",
              "      </script>\n",
              "    </div>\n",
              "  </div>\n",
              "  "
            ]
          },
          "metadata": {},
          "execution_count": 34
        }
      ],
      "source": [
        "f=[]\n",
        "t=[]\n",
        "for i in range(df2.shape[0]):\n",
        "  f.append(0)\n",
        "\n",
        "for i in range(df3.shape[0]):\n",
        "  t.append(1)\n",
        "\n",
        "df2[\"report\"]=f\n",
        "df3[\"report\"]=t\n",
        "\n",
        "df2.head()"
      ]
    },
    {
      "cell_type": "code",
      "execution_count": 35,
      "metadata": {
        "colab": {
          "base_uri": "https://localhost:8080/",
          "height": 206
        },
        "id": "8SCTBLDjiKit",
        "outputId": "e52f703e-21fc-4716-82fa-415fa8a7ead8"
      },
      "outputs": [
        {
          "output_type": "execute_result",
          "data": {
            "text/plain": [
              "                                               title  \\\n",
              "0  As U.S. budget fight looms, Republicans flip t...   \n",
              "1  U.S. military to accept transgender recruits o...   \n",
              "2  Senior U.S. Republican senator: 'Let Mr. Muell...   \n",
              "3  FBI Russia probe helped by Australian diplomat...   \n",
              "4  Trump wants Postal Service to charge 'much mor...   \n",
              "\n",
              "                                                text       subject  \\\n",
              "0  WASHINGTON (Reuters) - The head of a conservat...  politicsNews   \n",
              "1  WASHINGTON (Reuters) - Transgender people will...  politicsNews   \n",
              "2  WASHINGTON (Reuters) - The special counsel inv...  politicsNews   \n",
              "3  WASHINGTON (Reuters) - Trump campaign adviser ...  politicsNews   \n",
              "4  SEATTLE/WASHINGTON (Reuters) - President Donal...  politicsNews   \n",
              "\n",
              "                 date  report  \n",
              "0  December 31, 2017        1  \n",
              "1  December 29, 2017        1  \n",
              "2  December 31, 2017        1  \n",
              "3  December 30, 2017        1  \n",
              "4  December 29, 2017        1  "
            ],
            "text/html": [
              "\n",
              "  <div id=\"df-44428ce7-a595-4997-8904-1835003a8c97\">\n",
              "    <div class=\"colab-df-container\">\n",
              "      <div>\n",
              "<style scoped>\n",
              "    .dataframe tbody tr th:only-of-type {\n",
              "        vertical-align: middle;\n",
              "    }\n",
              "\n",
              "    .dataframe tbody tr th {\n",
              "        vertical-align: top;\n",
              "    }\n",
              "\n",
              "    .dataframe thead th {\n",
              "        text-align: right;\n",
              "    }\n",
              "</style>\n",
              "<table border=\"1\" class=\"dataframe\">\n",
              "  <thead>\n",
              "    <tr style=\"text-align: right;\">\n",
              "      <th></th>\n",
              "      <th>title</th>\n",
              "      <th>text</th>\n",
              "      <th>subject</th>\n",
              "      <th>date</th>\n",
              "      <th>report</th>\n",
              "    </tr>\n",
              "  </thead>\n",
              "  <tbody>\n",
              "    <tr>\n",
              "      <th>0</th>\n",
              "      <td>As U.S. budget fight looms, Republicans flip t...</td>\n",
              "      <td>WASHINGTON (Reuters) - The head of a conservat...</td>\n",
              "      <td>politicsNews</td>\n",
              "      <td>December 31, 2017</td>\n",
              "      <td>1</td>\n",
              "    </tr>\n",
              "    <tr>\n",
              "      <th>1</th>\n",
              "      <td>U.S. military to accept transgender recruits o...</td>\n",
              "      <td>WASHINGTON (Reuters) - Transgender people will...</td>\n",
              "      <td>politicsNews</td>\n",
              "      <td>December 29, 2017</td>\n",
              "      <td>1</td>\n",
              "    </tr>\n",
              "    <tr>\n",
              "      <th>2</th>\n",
              "      <td>Senior U.S. Republican senator: 'Let Mr. Muell...</td>\n",
              "      <td>WASHINGTON (Reuters) - The special counsel inv...</td>\n",
              "      <td>politicsNews</td>\n",
              "      <td>December 31, 2017</td>\n",
              "      <td>1</td>\n",
              "    </tr>\n",
              "    <tr>\n",
              "      <th>3</th>\n",
              "      <td>FBI Russia probe helped by Australian diplomat...</td>\n",
              "      <td>WASHINGTON (Reuters) - Trump campaign adviser ...</td>\n",
              "      <td>politicsNews</td>\n",
              "      <td>December 30, 2017</td>\n",
              "      <td>1</td>\n",
              "    </tr>\n",
              "    <tr>\n",
              "      <th>4</th>\n",
              "      <td>Trump wants Postal Service to charge 'much mor...</td>\n",
              "      <td>SEATTLE/WASHINGTON (Reuters) - President Donal...</td>\n",
              "      <td>politicsNews</td>\n",
              "      <td>December 29, 2017</td>\n",
              "      <td>1</td>\n",
              "    </tr>\n",
              "  </tbody>\n",
              "</table>\n",
              "</div>\n",
              "      <button class=\"colab-df-convert\" onclick=\"convertToInteractive('df-44428ce7-a595-4997-8904-1835003a8c97')\"\n",
              "              title=\"Convert this dataframe to an interactive table.\"\n",
              "              style=\"display:none;\">\n",
              "        \n",
              "  <svg xmlns=\"http://www.w3.org/2000/svg\" height=\"24px\"viewBox=\"0 0 24 24\"\n",
              "       width=\"24px\">\n",
              "    <path d=\"M0 0h24v24H0V0z\" fill=\"none\"/>\n",
              "    <path d=\"M18.56 5.44l.94 2.06.94-2.06 2.06-.94-2.06-.94-.94-2.06-.94 2.06-2.06.94zm-11 1L8.5 8.5l.94-2.06 2.06-.94-2.06-.94L8.5 2.5l-.94 2.06-2.06.94zm10 10l.94 2.06.94-2.06 2.06-.94-2.06-.94-.94-2.06-.94 2.06-2.06.94z\"/><path d=\"M17.41 7.96l-1.37-1.37c-.4-.4-.92-.59-1.43-.59-.52 0-1.04.2-1.43.59L10.3 9.45l-7.72 7.72c-.78.78-.78 2.05 0 2.83L4 21.41c.39.39.9.59 1.41.59.51 0 1.02-.2 1.41-.59l7.78-7.78 2.81-2.81c.8-.78.8-2.07 0-2.86zM5.41 20L4 18.59l7.72-7.72 1.47 1.35L5.41 20z\"/>\n",
              "  </svg>\n",
              "      </button>\n",
              "      \n",
              "  <style>\n",
              "    .colab-df-container {\n",
              "      display:flex;\n",
              "      flex-wrap:wrap;\n",
              "      gap: 12px;\n",
              "    }\n",
              "\n",
              "    .colab-df-convert {\n",
              "      background-color: #E8F0FE;\n",
              "      border: none;\n",
              "      border-radius: 50%;\n",
              "      cursor: pointer;\n",
              "      display: none;\n",
              "      fill: #1967D2;\n",
              "      height: 32px;\n",
              "      padding: 0 0 0 0;\n",
              "      width: 32px;\n",
              "    }\n",
              "\n",
              "    .colab-df-convert:hover {\n",
              "      background-color: #E2EBFA;\n",
              "      box-shadow: 0px 1px 2px rgba(60, 64, 67, 0.3), 0px 1px 3px 1px rgba(60, 64, 67, 0.15);\n",
              "      fill: #174EA6;\n",
              "    }\n",
              "\n",
              "    [theme=dark] .colab-df-convert {\n",
              "      background-color: #3B4455;\n",
              "      fill: #D2E3FC;\n",
              "    }\n",
              "\n",
              "    [theme=dark] .colab-df-convert:hover {\n",
              "      background-color: #434B5C;\n",
              "      box-shadow: 0px 1px 3px 1px rgba(0, 0, 0, 0.15);\n",
              "      filter: drop-shadow(0px 1px 2px rgba(0, 0, 0, 0.3));\n",
              "      fill: #FFFFFF;\n",
              "    }\n",
              "  </style>\n",
              "\n",
              "      <script>\n",
              "        const buttonEl =\n",
              "          document.querySelector('#df-44428ce7-a595-4997-8904-1835003a8c97 button.colab-df-convert');\n",
              "        buttonEl.style.display =\n",
              "          google.colab.kernel.accessAllowed ? 'block' : 'none';\n",
              "\n",
              "        async function convertToInteractive(key) {\n",
              "          const element = document.querySelector('#df-44428ce7-a595-4997-8904-1835003a8c97');\n",
              "          const dataTable =\n",
              "            await google.colab.kernel.invokeFunction('convertToInteractive',\n",
              "                                                     [key], {});\n",
              "          if (!dataTable) return;\n",
              "\n",
              "          const docLinkHtml = 'Like what you see? Visit the ' +\n",
              "            '<a target=\"_blank\" href=https://colab.research.google.com/notebooks/data_table.ipynb>data table notebook</a>'\n",
              "            + ' to learn more about interactive tables.';\n",
              "          element.innerHTML = '';\n",
              "          dataTable['output_type'] = 'display_data';\n",
              "          await google.colab.output.renderOutput(dataTable, element);\n",
              "          const docLink = document.createElement('div');\n",
              "          docLink.innerHTML = docLinkHtml;\n",
              "          element.appendChild(docLink);\n",
              "        }\n",
              "      </script>\n",
              "    </div>\n",
              "  </div>\n",
              "  "
            ]
          },
          "metadata": {},
          "execution_count": 35
        }
      ],
      "source": [
        "df3.head()"
      ]
    },
    {
      "cell_type": "code",
      "execution_count": 36,
      "metadata": {
        "colab": {
          "base_uri": "https://localhost:8080/",
          "height": 206
        },
        "id": "Lw3oqGwGiL07",
        "outputId": "767ad9fe-dd42-44dc-a8b6-87d0db3f3e3b"
      },
      "outputs": [
        {
          "output_type": "execute_result",
          "data": {
            "text/plain": [
              "                                               title  \\\n",
              "0   Donald Trump Sends Out Embarrassing New Year’...   \n",
              "1   Drunk Bragging Trump Staffer Started Russian ...   \n",
              "2   Sheriff David Clarke Becomes An Internet Joke...   \n",
              "3   Trump Is So Obsessed He Even Has Obama’s Name...   \n",
              "4   Pope Francis Just Called Out Donald Trump Dur...   \n",
              "\n",
              "                                                text subject  \\\n",
              "0  Donald Trump just couldn t wish all Americans ...    News   \n",
              "1  House Intelligence Committee Chairman Devin Nu...    News   \n",
              "2  On Friday, it was revealed that former Milwauk...    News   \n",
              "3  On Christmas day, Donald Trump announced that ...    News   \n",
              "4  Pope Francis used his annual Christmas Day mes...    News   \n",
              "\n",
              "                date  report  \n",
              "0  December 31, 2017       0  \n",
              "1  December 31, 2017       0  \n",
              "2  December 30, 2017       0  \n",
              "3  December 29, 2017       0  \n",
              "4  December 25, 2017       0  "
            ],
            "text/html": [
              "\n",
              "  <div id=\"df-0bb5a065-1211-4f3c-9599-81a652730730\">\n",
              "    <div class=\"colab-df-container\">\n",
              "      <div>\n",
              "<style scoped>\n",
              "    .dataframe tbody tr th:only-of-type {\n",
              "        vertical-align: middle;\n",
              "    }\n",
              "\n",
              "    .dataframe tbody tr th {\n",
              "        vertical-align: top;\n",
              "    }\n",
              "\n",
              "    .dataframe thead th {\n",
              "        text-align: right;\n",
              "    }\n",
              "</style>\n",
              "<table border=\"1\" class=\"dataframe\">\n",
              "  <thead>\n",
              "    <tr style=\"text-align: right;\">\n",
              "      <th></th>\n",
              "      <th>title</th>\n",
              "      <th>text</th>\n",
              "      <th>subject</th>\n",
              "      <th>date</th>\n",
              "      <th>report</th>\n",
              "    </tr>\n",
              "  </thead>\n",
              "  <tbody>\n",
              "    <tr>\n",
              "      <th>0</th>\n",
              "      <td>Donald Trump Sends Out Embarrassing New Year’...</td>\n",
              "      <td>Donald Trump just couldn t wish all Americans ...</td>\n",
              "      <td>News</td>\n",
              "      <td>December 31, 2017</td>\n",
              "      <td>0</td>\n",
              "    </tr>\n",
              "    <tr>\n",
              "      <th>1</th>\n",
              "      <td>Drunk Bragging Trump Staffer Started Russian ...</td>\n",
              "      <td>House Intelligence Committee Chairman Devin Nu...</td>\n",
              "      <td>News</td>\n",
              "      <td>December 31, 2017</td>\n",
              "      <td>0</td>\n",
              "    </tr>\n",
              "    <tr>\n",
              "      <th>2</th>\n",
              "      <td>Sheriff David Clarke Becomes An Internet Joke...</td>\n",
              "      <td>On Friday, it was revealed that former Milwauk...</td>\n",
              "      <td>News</td>\n",
              "      <td>December 30, 2017</td>\n",
              "      <td>0</td>\n",
              "    </tr>\n",
              "    <tr>\n",
              "      <th>3</th>\n",
              "      <td>Trump Is So Obsessed He Even Has Obama’s Name...</td>\n",
              "      <td>On Christmas day, Donald Trump announced that ...</td>\n",
              "      <td>News</td>\n",
              "      <td>December 29, 2017</td>\n",
              "      <td>0</td>\n",
              "    </tr>\n",
              "    <tr>\n",
              "      <th>4</th>\n",
              "      <td>Pope Francis Just Called Out Donald Trump Dur...</td>\n",
              "      <td>Pope Francis used his annual Christmas Day mes...</td>\n",
              "      <td>News</td>\n",
              "      <td>December 25, 2017</td>\n",
              "      <td>0</td>\n",
              "    </tr>\n",
              "  </tbody>\n",
              "</table>\n",
              "</div>\n",
              "      <button class=\"colab-df-convert\" onclick=\"convertToInteractive('df-0bb5a065-1211-4f3c-9599-81a652730730')\"\n",
              "              title=\"Convert this dataframe to an interactive table.\"\n",
              "              style=\"display:none;\">\n",
              "        \n",
              "  <svg xmlns=\"http://www.w3.org/2000/svg\" height=\"24px\"viewBox=\"0 0 24 24\"\n",
              "       width=\"24px\">\n",
              "    <path d=\"M0 0h24v24H0V0z\" fill=\"none\"/>\n",
              "    <path d=\"M18.56 5.44l.94 2.06.94-2.06 2.06-.94-2.06-.94-.94-2.06-.94 2.06-2.06.94zm-11 1L8.5 8.5l.94-2.06 2.06-.94-2.06-.94L8.5 2.5l-.94 2.06-2.06.94zm10 10l.94 2.06.94-2.06 2.06-.94-2.06-.94-.94-2.06-.94 2.06-2.06.94z\"/><path d=\"M17.41 7.96l-1.37-1.37c-.4-.4-.92-.59-1.43-.59-.52 0-1.04.2-1.43.59L10.3 9.45l-7.72 7.72c-.78.78-.78 2.05 0 2.83L4 21.41c.39.39.9.59 1.41.59.51 0 1.02-.2 1.41-.59l7.78-7.78 2.81-2.81c.8-.78.8-2.07 0-2.86zM5.41 20L4 18.59l7.72-7.72 1.47 1.35L5.41 20z\"/>\n",
              "  </svg>\n",
              "      </button>\n",
              "      \n",
              "  <style>\n",
              "    .colab-df-container {\n",
              "      display:flex;\n",
              "      flex-wrap:wrap;\n",
              "      gap: 12px;\n",
              "    }\n",
              "\n",
              "    .colab-df-convert {\n",
              "      background-color: #E8F0FE;\n",
              "      border: none;\n",
              "      border-radius: 50%;\n",
              "      cursor: pointer;\n",
              "      display: none;\n",
              "      fill: #1967D2;\n",
              "      height: 32px;\n",
              "      padding: 0 0 0 0;\n",
              "      width: 32px;\n",
              "    }\n",
              "\n",
              "    .colab-df-convert:hover {\n",
              "      background-color: #E2EBFA;\n",
              "      box-shadow: 0px 1px 2px rgba(60, 64, 67, 0.3), 0px 1px 3px 1px rgba(60, 64, 67, 0.15);\n",
              "      fill: #174EA6;\n",
              "    }\n",
              "\n",
              "    [theme=dark] .colab-df-convert {\n",
              "      background-color: #3B4455;\n",
              "      fill: #D2E3FC;\n",
              "    }\n",
              "\n",
              "    [theme=dark] .colab-df-convert:hover {\n",
              "      background-color: #434B5C;\n",
              "      box-shadow: 0px 1px 3px 1px rgba(0, 0, 0, 0.15);\n",
              "      filter: drop-shadow(0px 1px 2px rgba(0, 0, 0, 0.3));\n",
              "      fill: #FFFFFF;\n",
              "    }\n",
              "  </style>\n",
              "\n",
              "      <script>\n",
              "        const buttonEl =\n",
              "          document.querySelector('#df-0bb5a065-1211-4f3c-9599-81a652730730 button.colab-df-convert');\n",
              "        buttonEl.style.display =\n",
              "          google.colab.kernel.accessAllowed ? 'block' : 'none';\n",
              "\n",
              "        async function convertToInteractive(key) {\n",
              "          const element = document.querySelector('#df-0bb5a065-1211-4f3c-9599-81a652730730');\n",
              "          const dataTable =\n",
              "            await google.colab.kernel.invokeFunction('convertToInteractive',\n",
              "                                                     [key], {});\n",
              "          if (!dataTable) return;\n",
              "\n",
              "          const docLinkHtml = 'Like what you see? Visit the ' +\n",
              "            '<a target=\"_blank\" href=https://colab.research.google.com/notebooks/data_table.ipynb>data table notebook</a>'\n",
              "            + ' to learn more about interactive tables.';\n",
              "          element.innerHTML = '';\n",
              "          dataTable['output_type'] = 'display_data';\n",
              "          await google.colab.output.renderOutput(dataTable, element);\n",
              "          const docLink = document.createElement('div');\n",
              "          docLink.innerHTML = docLinkHtml;\n",
              "          element.appendChild(docLink);\n",
              "        }\n",
              "      </script>\n",
              "    </div>\n",
              "  </div>\n",
              "  "
            ]
          },
          "metadata": {},
          "execution_count": 36
        }
      ],
      "source": [
        "df=pd.concat([df2,df3],ignore_index = True)\n",
        "df.head()"
      ]
    },
    {
      "cell_type": "code",
      "execution_count": 37,
      "metadata": {
        "colab": {
          "base_uri": "https://localhost:8080/"
        },
        "id": "NaCOcUUziSDH",
        "outputId": "60dc5435-dd25-4cbe-e40a-62f8b90fb122"
      },
      "outputs": [
        {
          "output_type": "execute_result",
          "data": {
            "text/plain": [
              "(44898, 5)"
            ]
          },
          "metadata": {},
          "execution_count": 37
        }
      ],
      "source": [
        "df.shape"
      ]
    },
    {
      "cell_type": "code",
      "execution_count": 38,
      "metadata": {
        "colab": {
          "base_uri": "https://localhost:8080/"
        },
        "id": "9blhGNAjiSyI",
        "outputId": "5e3b8cc2-2bf7-48a1-950f-163dc6334991"
      },
      "outputs": [
        {
          "output_type": "execute_result",
          "data": {
            "text/plain": [
              "Index(['title', 'text', 'subject', 'date', 'report'], dtype='object')"
            ]
          },
          "metadata": {},
          "execution_count": 38
        }
      ],
      "source": [
        "df.columns"
      ]
    },
    {
      "cell_type": "code",
      "execution_count": 39,
      "metadata": {
        "colab": {
          "base_uri": "https://localhost:8080/"
        },
        "id": "hVYmi__oiXHX",
        "outputId": "e62645c9-1c66-4b5a-d6d3-6c79d68c14a0"
      },
      "outputs": [
        {
          "output_type": "execute_result",
          "data": {
            "text/plain": [
              "title      object\n",
              "text       object\n",
              "subject    object\n",
              "date       object\n",
              "report      int64\n",
              "dtype: object"
            ]
          },
          "metadata": {},
          "execution_count": 39
        }
      ],
      "source": [
        "df.dtypes"
      ]
    },
    {
      "cell_type": "markdown",
      "metadata": {
        "id": "u_cN2C8-iZc3"
      },
      "source": [
        "#Checking Null Values"
      ]
    },
    {
      "cell_type": "code",
      "execution_count": 40,
      "metadata": {
        "colab": {
          "base_uri": "https://localhost:8080/"
        },
        "id": "QxKfZP75ijpf",
        "outputId": "4118d28b-07fe-46f5-8c37-b4b6aceb469b"
      },
      "outputs": [
        {
          "output_type": "execute_result",
          "data": {
            "text/plain": [
              "title      0\n",
              "text       0\n",
              "subject    0\n",
              "date       0\n",
              "report     0\n",
              "dtype: int64"
            ]
          },
          "metadata": {},
          "execution_count": 40
        }
      ],
      "source": [
        "df.isnull().sum()"
      ]
    },
    {
      "cell_type": "code",
      "execution_count": 41,
      "metadata": {
        "colab": {
          "base_uri": "https://localhost:8080/"
        },
        "id": "eat1zN_2icAJ",
        "outputId": "005d0134-b265-4419-f962-ea352b96a5ba"
      },
      "outputs": [
        {
          "output_type": "execute_result",
          "data": {
            "text/plain": [
              "array(['News', 'politics', 'Government News', 'left-news', 'US_News',\n",
              "       'Middle-east', 'politicsNews', 'worldnews'], dtype=object)"
            ]
          },
          "metadata": {},
          "execution_count": 41
        }
      ],
      "source": [
        "df[\"subject\"].unique()"
      ]
    },
    {
      "cell_type": "code",
      "execution_count": 42,
      "metadata": {
        "id": "hhIXil8zidtu"
      },
      "outputs": [],
      "source": [
        "df[\"subject\"]=df[\"subject\"].replace(\"politics\",\"politicsNews\")"
      ]
    },
    {
      "cell_type": "code",
      "execution_count": 43,
      "metadata": {
        "colab": {
          "base_uri": "https://localhost:8080/"
        },
        "id": "lth52_z3ifIJ",
        "outputId": "f9b4326a-5099-4a73-d46f-dfd39701fd7e"
      },
      "outputs": [
        {
          "output_type": "execute_result",
          "data": {
            "text/plain": [
              "array(['News', 'politicsNews', 'Government News', 'left-news', 'US_News',\n",
              "       'Middle-east', 'worldnews'], dtype=object)"
            ]
          },
          "metadata": {},
          "execution_count": 43
        }
      ],
      "source": [
        "df[\"subject\"].unique()"
      ]
    },
    {
      "cell_type": "code",
      "execution_count": 44,
      "metadata": {
        "colab": {
          "base_uri": "https://localhost:8080/"
        },
        "id": "W7a_LF3Ailo5",
        "outputId": "b6c37503-f14f-4ef0-d5f0-9c19df8a6827"
      },
      "outputs": [
        {
          "output_type": "stream",
          "name": "stdout",
          "text": [
            "<class 'pandas.core.frame.DataFrame'>\n",
            "RangeIndex: 44898 entries, 0 to 44897\n",
            "Data columns (total 5 columns):\n",
            " #   Column   Non-Null Count  Dtype \n",
            "---  ------   --------------  ----- \n",
            " 0   title    44898 non-null  object\n",
            " 1   text     44898 non-null  object\n",
            " 2   subject  44898 non-null  object\n",
            " 3   date     44898 non-null  object\n",
            " 4   report   44898 non-null  int64 \n",
            "dtypes: int64(1), object(4)\n",
            "memory usage: 1.7+ MB\n"
          ]
        }
      ],
      "source": [
        "df.info()"
      ]
    },
    {
      "cell_type": "markdown",
      "metadata": {
        "id": "3HyMFzXLLggl"
      },
      "source": [
        "#Visualization"
      ]
    },
    {
      "cell_type": "code",
      "execution_count": null,
      "metadata": {
        "colab": {
          "base_uri": "https://localhost:8080/",
          "height": 372
        },
        "id": "bl1W1wFMT0Bt",
        "outputId": "882f7742-f943-4361-fea8-5e3f5e4810b3"
      },
      "outputs": [
        {
          "name": "stdout",
          "output_type": "stream",
          "text": [
            "Number of fake and true news\n",
            "0    23481\n",
            "1    21417\n",
            "Name: report, dtype: int64\n"
          ]
        },
        {
          "data": {
            "image/png": "[encoded data removed]",
            "text/plain": [
              "<Figure size 864x360 with 1 Axes>"
            ]
          },
          "metadata": {},
          "output_type": "display_data"
        }
      ],
      "source": [
        "plt.figure(figsize=(12,5))\n",
        "month_sold=pd.DataFrame(df[\"report\"].value_counts())\n",
        "palette_color = sns.color_palette('pastel')\n",
        "l=[\"Fake News (0)\",\"True News (1)\"]\n",
        "plt.pie(month_sold,labels=l,colors=palette_color, autopct='%.0f%%')\n",
        "print(\"Number of fake and true news\")\n",
        "print(df[\"report\"].value_counts())\n",
        "plt.show()"
      ]
    },
    {
      "cell_type": "code",
      "execution_count": null,
      "metadata": {
        "colab": {
          "base_uri": "https://localhost:8080/",
          "height": 567
        },
        "id": "-YFBG25GVd1h",
        "outputId": "61b5864e-7290-4afa-93d6-be7876ca1e81"
      },
      "outputs": [
        {
          "name": "stdout",
          "output_type": "stream",
          "text": [
            "Number of news in each subject\n",
            "politicsNews       18113\n",
            "worldnews          10145\n",
            "News                9050\n",
            "left-news           4459\n",
            "Government News     1570\n",
            "US_News              783\n",
            "Middle-east          778\n",
            "Name: subject, dtype: int64\n"
          ]
        },
        {
          "data": {
            "image/png": "[encoded data removed]",
            "text/plain": [
              "<Figure size 864x504 with 1 Axes>"
            ]
          },
          "metadata": {},
          "output_type": "display_data"
        }
      ],
      "source": [
        "plt.figure(figsize=(12,7))\n",
        "a=pd.DataFrame(df[\"subject\"].value_counts())\n",
        "palette_color = sns.color_palette('pastel')\n",
        "plt.pie(a,labels=a.index,colors=palette_color, autopct='%.0f%%')\n",
        "print(\"Number of news in each subject\")\n",
        "print(df[\"subject\"].value_counts())\n",
        "plt.show()"
      ]
    },
    {
      "cell_type": "code",
      "execution_count": null,
      "metadata": {
        "id": "BNyL2hkMNAJH"
      },
      "outputs": [],
      "source": [
        "from dateutil import parser\n",
        "d=[]\n",
        "for i in df[\"date\"]:\n",
        "  try:\n",
        "    date = parser.parse(i, fuzzy=True)\n",
        "    if str(date)[:4] not in d:\n",
        "      d.append(str(date)[:4])\n",
        "  except ValueError:\n",
        "    continue"
      ]
    },
    {
      "cell_type": "code",
      "execution_count": null,
      "metadata": {
        "colab": {
          "base_uri": "https://localhost:8080/"
        },
        "id": "JjMExwfNOb9H",
        "outputId": "4448707f-b85f-479f-b7cc-63465913b9e6"
      },
      "outputs": [
        {
          "data": {
            "text/plain": [
              "['2017', '2016', '2018', '2015']"
            ]
          },
          "execution_count": 19,
          "metadata": {},
          "output_type": "execute_result"
        }
      ],
      "source": [
        "d"
      ]
    },
    {
      "cell_type": "code",
      "execution_count": null,
      "metadata": {
        "id": "4cSOv0_GS-hI"
      },
      "outputs": [],
      "source": [
        "y=[]\n",
        "for i in df[\"date\"]:\n",
        "  for j in d:\n",
        "    if j in i:\n",
        "      y.append(j)\n",
        "      \n",
        "yr=pd.DataFrame(y)"
      ]
    },
    {
      "cell_type": "code",
      "execution_count": null,
      "metadata": {
        "colab": {
          "base_uri": "https://localhost:8080/",
          "height": 421
        },
        "id": "MDNQPkDKP7rp",
        "outputId": "fd6fc755-abbb-482f-e808-c73adfbfd463"
      },
      "outputs": [
        {
          "name": "stdout",
          "output_type": "stream",
          "text": [
            "Number of news in each year\n",
            "2017    25904\n",
            "2016    16470\n",
            "2015     2485\n",
            "Name: 0, dtype: int64\n"
          ]
        },
        {
          "data": {
            "image/png": "[encoded data removed]",
            "text/plain": [
              "<Figure size 864x360 with 1 Axes>"
            ]
          },
          "metadata": {},
          "output_type": "display_data"
        }
      ],
      "source": [
        "plt.figure(figsize=(12,5))\n",
        "sns.countplot(yr.iloc[:,0])\n",
        "plt.xlabel(\"Year\",fontsize=11)\n",
        "print(\"Number of news in each year\")\n",
        "print(yr.iloc[:,0].value_counts())"
      ]
    },
    {
      "cell_type": "markdown",
      "metadata": {
        "id": "FMJH1iLsiuln"
      },
      "source": [
        "#Data Cleaning"
      ]
    },
    {
      "cell_type": "code",
      "execution_count": 45,
      "metadata": {
        "colab": {
          "base_uri": "https://localhost:8080/",
          "height": 206
        },
        "id": "hKJCHLEsitwC",
        "outputId": "fb829812-6adf-4eeb-880c-a039f3f62fa0"
      },
      "outputs": [
        {
          "output_type": "execute_result",
          "data": {
            "text/plain": [
              "                                                text  report\n",
              "0  Donald Trump just couldn t wish all Americans ...       0\n",
              "1  House Intelligence Committee Chairman Devin Nu...       0\n",
              "2  On Friday, it was revealed that former Milwauk...       0\n",
              "3  On Christmas day, Donald Trump announced that ...       0\n",
              "4  Pope Francis used his annual Christmas Day mes...       0"
            ],
            "text/html": [
              "\n",
              "  <div id=\"df-7881df43-f416-4c25-a1d6-43f568fe3306\">\n",
              "    <div class=\"colab-df-container\">\n",
              "      <div>\n",
              "<style scoped>\n",
              "    .dataframe tbody tr th:only-of-type {\n",
              "        vertical-align: middle;\n",
              "    }\n",
              "\n",
              "    .dataframe tbody tr th {\n",
              "        vertical-align: top;\n",
              "    }\n",
              "\n",
              "    .dataframe thead th {\n",
              "        text-align: right;\n",
              "    }\n",
              "</style>\n",
              "<table border=\"1\" class=\"dataframe\">\n",
              "  <thead>\n",
              "    <tr style=\"text-align: right;\">\n",
              "      <th></th>\n",
              "      <th>text</th>\n",
              "      <th>report</th>\n",
              "    </tr>\n",
              "  </thead>\n",
              "  <tbody>\n",
              "    <tr>\n",
              "      <th>0</th>\n",
              "      <td>Donald Trump just couldn t wish all Americans ...</td>\n",
              "      <td>0</td>\n",
              "    </tr>\n",
              "    <tr>\n",
              "      <th>1</th>\n",
              "      <td>House Intelligence Committee Chairman Devin Nu...</td>\n",
              "      <td>0</td>\n",
              "    </tr>\n",
              "    <tr>\n",
              "      <th>2</th>\n",
              "      <td>On Friday, it was revealed that former Milwauk...</td>\n",
              "      <td>0</td>\n",
              "    </tr>\n",
              "    <tr>\n",
              "      <th>3</th>\n",
              "      <td>On Christmas day, Donald Trump announced that ...</td>\n",
              "      <td>0</td>\n",
              "    </tr>\n",
              "    <tr>\n",
              "      <th>4</th>\n",
              "      <td>Pope Francis used his annual Christmas Day mes...</td>\n",
              "      <td>0</td>\n",
              "    </tr>\n",
              "  </tbody>\n",
              "</table>\n",
              "</div>\n",
              "      <button class=\"colab-df-convert\" onclick=\"convertToInteractive('df-7881df43-f416-4c25-a1d6-43f568fe3306')\"\n",
              "              title=\"Convert this dataframe to an interactive table.\"\n",
              "              style=\"display:none;\">\n",
              "        \n",
              "  <svg xmlns=\"http://www.w3.org/2000/svg\" height=\"24px\"viewBox=\"0 0 24 24\"\n",
              "       width=\"24px\">\n",
              "    <path d=\"M0 0h24v24H0V0z\" fill=\"none\"/>\n",
              "    <path d=\"M18.56 5.44l.94 2.06.94-2.06 2.06-.94-2.06-.94-.94-2.06-.94 2.06-2.06.94zm-11 1L8.5 8.5l.94-2.06 2.06-.94-2.06-.94L8.5 2.5l-.94 2.06-2.06.94zm10 10l.94 2.06.94-2.06 2.06-.94-2.06-.94-.94-2.06-.94 2.06-2.06.94z\"/><path d=\"M17.41 7.96l-1.37-1.37c-.4-.4-.92-.59-1.43-.59-.52 0-1.04.2-1.43.59L10.3 9.45l-7.72 7.72c-.78.78-.78 2.05 0 2.83L4 21.41c.39.39.9.59 1.41.59.51 0 1.02-.2 1.41-.59l7.78-7.78 2.81-2.81c.8-.78.8-2.07 0-2.86zM5.41 20L4 18.59l7.72-7.72 1.47 1.35L5.41 20z\"/>\n",
              "  </svg>\n",
              "      </button>\n",
              "      \n",
              "  <style>\n",
              "    .colab-df-container {\n",
              "      display:flex;\n",
              "      flex-wrap:wrap;\n",
              "      gap: 12px;\n",
              "    }\n",
              "\n",
              "    .colab-df-convert {\n",
              "      background-color: #E8F0FE;\n",
              "      border: none;\n",
              "      border-radius: 50%;\n",
              "      cursor: pointer;\n",
              "      display: none;\n",
              "      fill: #1967D2;\n",
              "      height: 32px;\n",
              "      padding: 0 0 0 0;\n",
              "      width: 32px;\n",
              "    }\n",
              "\n",
              "    .colab-df-convert:hover {\n",
              "      background-color: #E2EBFA;\n",
              "      box-shadow: 0px 1px 2px rgba(60, 64, 67, 0.3), 0px 1px 3px 1px rgba(60, 64, 67, 0.15);\n",
              "      fill: #174EA6;\n",
              "    }\n",
              "\n",
              "    [theme=dark] .colab-df-convert {\n",
              "      background-color: #3B4455;\n",
              "      fill: #D2E3FC;\n",
              "    }\n",
              "\n",
              "    [theme=dark] .colab-df-convert:hover {\n",
              "      background-color: #434B5C;\n",
              "      box-shadow: 0px 1px 3px 1px rgba(0, 0, 0, 0.15);\n",
              "      filter: drop-shadow(0px 1px 2px rgba(0, 0, 0, 0.3));\n",
              "      fill: #FFFFFF;\n",
              "    }\n",
              "  </style>\n",
              "\n",
              "      <script>\n",
              "        const buttonEl =\n",
              "          document.querySelector('#df-7881df43-f416-4c25-a1d6-43f568fe3306 button.colab-df-convert');\n",
              "        buttonEl.style.display =\n",
              "          google.colab.kernel.accessAllowed ? 'block' : 'none';\n",
              "\n",
              "        async function convertToInteractive(key) {\n",
              "          const element = document.querySelector('#df-7881df43-f416-4c25-a1d6-43f568fe3306');\n",
              "          const dataTable =\n",
              "            await google.colab.kernel.invokeFunction('convertToInteractive',\n",
              "                                                     [key], {});\n",
              "          if (!dataTable) return;\n",
              "\n",
              "          const docLinkHtml = 'Like what you see? Visit the ' +\n",
              "            '<a target=\"_blank\" href=https://colab.research.google.com/notebooks/data_table.ipynb>data table notebook</a>'\n",
              "            + ' to learn more about interactive tables.';\n",
              "          element.innerHTML = '';\n",
              "          dataTable['output_type'] = 'display_data';\n",
              "          await google.colab.output.renderOutput(dataTable, element);\n",
              "          const docLink = document.createElement('div');\n",
              "          docLink.innerHTML = docLinkHtml;\n",
              "          element.appendChild(docLink);\n",
              "        }\n",
              "      </script>\n",
              "    </div>\n",
              "  </div>\n",
              "  "
            ]
          },
          "metadata": {},
          "execution_count": 45
        }
      ],
      "source": [
        "dff=pd.DataFrame()\n",
        "dff['text'] = df['text'] + \" \" + df['title']\n",
        "dff['report'] = df['report']\n",
        "dff.head()"
      ]
    },
    {
      "cell_type": "code",
      "execution_count": 46,
      "metadata": {
        "id": "g0HrZsas2yir"
      },
      "outputs": [],
      "source": [
        "def strip_html(text):\n",
        "    soup = BeautifulSoup(text, \"html.parser\")\n",
        "    return soup.get_text()\n",
        "def remove_http(text):\n",
        "    return re.sub(r'http\\S+', '', text)"
      ]
    },
    {
      "cell_type": "code",
      "source": [
        "dff['text']=dff['text'].apply(strip_html)"
      ],
      "metadata": {
        "id": "mbEqMMTNjqNx"
      },
      "execution_count": 47,
      "outputs": []
    },
    {
      "cell_type": "markdown",
      "source": [
        "- Extract text between html tags."
      ],
      "metadata": {
        "id": "-INgT-LbmU5j"
      }
    },
    {
      "cell_type": "code",
      "source": [
        "df['text'][1153]"
      ],
      "metadata": {
        "colab": {
          "base_uri": "https://localhost:8080/",
          "height": 140
        },
        "id": "6glyw_e_kKFA",
        "outputId": "6f62fb8c-1b15-4513-c302-8ac81548a47a"
      },
      "execution_count": 48,
      "outputs": [
        {
          "output_type": "execute_result",
          "data": {
            "text/plain": [
              "'Donald Trump went on a whining rant about the media on Tuesday morning and got totally humiliated.As he usually does, Trump woke up and immediately took to Twitter to attack Democrats, the courts, and the media.He accused Democrats of being obstructionists and once again declared that the Affordable Care Act is in a  death spiral,  a spiral he himself caused by attacking the law through executive orders.Trump also bitched about the 9th Circuit Court blocking his Muslim ban.But he saved most of his vitriol for the media.The Fake News Media has never been so wrong or so dirty. Purposely incorrect stories and phony sources to meet their agenda of hate. Sad!  Donald J. Trump (@realDonaldTrump) June 13, 2017Fake News is at an all time high. Where is their apology to me for all of the incorrect stories???  Donald J. Trump (@realDonaldTrump) June 13, 2017< /script></p> <blockquote class=\"twitter-tweet\" data-lang=\"en\"> <p lang=\"en\" dir=\"ltr\">Heading to the Great State of Wisconsin to talk about JOBS, JOBS, JOBS! Big progress being made as the Real News is reporting.</p> <p>&mdash; Donald J. Trump (@realDonaldTrump) <a href=\"https://twitter.com/realDonaldTrump/status/874619861019840512\">June 13, 2017</a></p> </blockquote> <p>Yep, Trump literally demanded an apology from the media for doing their jobs, which drew a belly laugh from Twitter users, who proceeded to mock Trump for being a snowflake.Like the time where they said Ms Universe had a sex tape and everyone should watch it even though it didn t exist?  Evan Dashevsky (@haldash) June 13, 2017Or the time the Fake News said your birth certificate was a fraud they STILL haven t apologized to you for that one! What gives?  Evan Dashevsky (@haldash) June 13, 2017Also, remember when the Fake News said your dad assassinated JFK. Still waiting for them to apologize on that one.  Evan Dashevsky (@haldash) June 13, 2017Where is your apology for trying to ban muslims, taking billions away from healthcare, destroying the environment, and betraying the USA?  Jules Suzdaltsev (@jules_su) June 13, 2017Translation:  Why won t the media worship me properly?  kim (@kim) June 13, 2017Where is your apology to the voters for claiming you won the popular vote?  Morten  verbye (@morten) June 13, 2017Where is your apology to Muslims in New Jersey for claiming they celebrated on 9 11?  Morten  verbye (@morten) June 13, 2017Where is your apology to John McCain for saying he is not a war hero?  Morten  verbye (@morten) June 13, 2017We ve officially stepped through the looking glass   Man who has never apologized for anything in his life is Whining about wanting apology.  Dana Smith (@Brady5thOrBust) June 13, 2017#Trump claimed Obama was born in Kenya and he complains about fake news.  Jeffrey Guterman (@JeffreyGuterman) June 13, 2017And that Obama put a  tapp  on his lines at trump tower.  Angela Jackson (@butterbeangabs) June 13, 2017Don t forget Microwave Spying!  Jamie (@xochewie) June 13, 2017And the  proof  of 3-5 million illegal votes!  Dana Smith (@Brady5thOrBust) June 13, 2017And the largest Inauguration crowd since Obama  D backl (@DanBackl) June 13, 2017It sounds like Donald Trump is the one who better start apologizing. He can do it all at once by resigning and turning himself in to federal authorities.Featured Image: Mario Tama/Getty Images'"
            ],
            "application/vnd.google.colaboratory.intrinsic+json": {
              "type": "string"
            }
          },
          "metadata": {},
          "execution_count": 48
        }
      ]
    },
    {
      "cell_type": "markdown",
      "source": [
        "**- Above is the text before html parsing.**\n",
        "\n",
        " **- Below text is after html parsing.**"
      ],
      "metadata": {
        "id": "M4ZAy81wmaE-"
      }
    },
    {
      "cell_type": "code",
      "source": [
        "dff['text'][1153]"
      ],
      "metadata": {
        "colab": {
          "base_uri": "https://localhost:8080/",
          "height": 140
        },
        "id": "eHO9yOpHkD_e",
        "outputId": "c63519f1-e4aa-4ced-b070-8310b32c36b4"
      },
      "execution_count": 49,
      "outputs": [
        {
          "output_type": "execute_result",
          "data": {
            "text/plain": [
              "'Donald Trump went on a whining rant about the media on Tuesday morning and got totally humiliated.As he usually does, Trump woke up and immediately took to Twitter to attack Democrats, the courts, and the media.He accused Democrats of being obstructionists and once again declared that the Affordable Care Act is in a  death spiral,  a spiral he himself caused by attacking the law through executive orders.Trump also bitched about the 9th Circuit Court blocking his Muslim ban.But he saved most of his vitriol for the media.The Fake News Media has never been so wrong or so dirty. Purposely incorrect stories and phony sources to meet their agenda of hate. Sad!  Donald J. Trump (@realDonaldTrump) June 13, 2017Fake News is at an all time high. Where is their apology to me for all of the incorrect stories???  Donald J. Trump (@realDonaldTrump) June 13, 2017< /script>  Heading to the Great State of Wisconsin to talk about JOBS, JOBS, JOBS! Big progress being made as the Real News is reporting. — Donald J. Trump (@realDonaldTrump) June 13, 2017  Yep, Trump literally demanded an apology from the media for doing their jobs, which drew a belly laugh from Twitter users, who proceeded to mock Trump for being a snowflake.Like the time where they said Ms Universe had a sex tape and everyone should watch it even though it didn t exist?  Evan Dashevsky (@haldash) June 13, 2017Or the time the Fake News said your birth certificate was a fraud they STILL haven t apologized to you for that one! What gives?  Evan Dashevsky (@haldash) June 13, 2017Also, remember when the Fake News said your dad assassinated JFK. Still waiting for them to apologize on that one.  Evan Dashevsky (@haldash) June 13, 2017Where is your apology for trying to ban muslims, taking billions away from healthcare, destroying the environment, and betraying the USA?  Jules Suzdaltsev (@jules_su) June 13, 2017Translation:  Why won t the media worship me properly?  kim (@kim) June 13, 2017Where is your apology to the voters for claiming you won the popular vote?  Morten  verbye (@morten) June 13, 2017Where is your apology to Muslims in New Jersey for claiming they celebrated on 9 11?  Morten  verbye (@morten) June 13, 2017Where is your apology to John McCain for saying he is not a war hero?  Morten  verbye (@morten) June 13, 2017We ve officially stepped through the looking glass   Man who has never apologized for anything in his life is Whining about wanting apology.  Dana Smith (@Brady5thOrBust) June 13, 2017#Trump claimed Obama was born in Kenya and he complains about fake news.  Jeffrey Guterman (@JeffreyGuterman) June 13, 2017And that Obama put a  tapp  on his lines at trump tower.  Angela Jackson (@butterbeangabs) June 13, 2017Don t forget Microwave Spying!  Jamie (@xochewie) June 13, 2017And the  proof  of 3-5 million illegal votes!  Dana Smith (@Brady5thOrBust) June 13, 2017And the largest Inauguration crowd since Obama  D backl (@DanBackl) June 13, 2017It sounds like Donald Trump is the one who better start apologizing. He can do it all at once by resigning and turning himself in to federal authorities.Featured Image: Mario Tama/Getty Images  Snowflake Trump Demands An Apology From The Media And The Internet Laughs At Him'"
            ],
            "application/vnd.google.colaboratory.intrinsic+json": {
              "type": "string"
            }
          },
          "metadata": {},
          "execution_count": 49
        }
      ]
    },
    {
      "cell_type": "code",
      "execution_count": 52,
      "metadata": {
        "id": "z77dHNRA25uP"
      },
      "outputs": [],
      "source": [
        "dff['text']=dff['text'].apply(remove_http)\n",
        "dff[\"text\"] = dff[\"text\"].apply(lambda x: \" \".join(x for x in x.split() if '.com' not in x))\n",
        "dff[\"text\"] = dff[\"text\"].apply(lambda x: \" \".join(x.lower() for x in x.split()))"
      ]
    },
    {
      "cell_type": "markdown",
      "source": [
        "- Strip https links from the text.\n",
        "- Remove link that ends with .com (like pic.twitter.com)\n",
        "- Convert to lowercase"
      ],
      "metadata": {
        "id": "Qb4OhBrH816G"
      }
    },
    {
      "cell_type": "code",
      "execution_count": 53,
      "metadata": {
        "colab": {
          "base_uri": "https://localhost:8080/",
          "height": 140
        },
        "id": "bn94EqFvmlgW",
        "outputId": "79f2e494-05e4-48d6-b972-4763958cf0ec"
      },
      "outputs": [
        {
          "output_type": "execute_result",
          "data": {
            "text/plain": [
              "'donald trump went on a whining rant about the media on tuesday morning and got totally humiliated.as he usually does, trump woke up and immediately took to twitter to attack democrats, the courts, and the media.he accused democrats of being obstructionists and once again declared that the affordable care act is in a death spiral, a spiral he himself caused by attacking the law through executive orders.trump also bitched about the 9th circuit court blocking his muslim ban.but he saved most of his vitriol for the media.the fake news media has never been so wrong or so dirty. purposely incorrect stories and phony sources to meet their agenda of hate. sad! donald j. trump (@realdonaldtrump) june 13, 2017fake news is at an all time high. where is their apology to me for all of the incorrect stories??? donald j. trump (@realdonaldtrump) june 13, 2017< /script> heading to the great state of wisconsin to talk about jobs, jobs, jobs! big progress being made as the real news is reporting. — donald j. trump (@realdonaldtrump) june 13, 2017 yep, trump literally demanded an apology from the media for doing their jobs, which drew a belly laugh from twitter users, who proceeded to mock trump for being a snowflake.like the time where they said ms universe had a sex tape and everyone should watch it even though it didn t exist? evan dashevsky (@haldash) june 13, 2017or the time the fake news said your birth certificate was a fraud they still haven t apologized to you for that one! what gives? evan dashevsky (@haldash) june 13, 2017also, remember when the fake news said your dad assassinated jfk. still waiting for them to apologize on that one. evan dashevsky (@haldash) june 13, 2017where is your apology for trying to ban muslims, taking billions away from healthcare, destroying the environment, and betraying the usa? jules suzdaltsev (@jules_su) june 13, 2017translation: why won t the media worship me properly? kim (@kim) june 13, 2017where is your apology to the voters for claiming you won the popular vote? morten verbye (@morten) june 13, 2017where is your apology to muslims in new jersey for claiming they celebrated on 9 11? morten verbye (@morten) june 13, 2017where is your apology to john mccain for saying he is not a war hero? morten verbye (@morten) june 13, 2017we ve officially stepped through the looking glass man who has never apologized for anything in his life is whining about wanting apology. dana smith (@brady5thorbust) june 13, 2017#trump claimed obama was born in kenya and he complains about fake news. jeffrey guterman (@jeffreyguterman) june 13, 2017and that obama put a tapp on his lines at trump tower. angela jackson (@butterbeangabs) june 13, 2017don t forget microwave spying! jamie (@xochewie) june 13, 2017and the proof of 3-5 million illegal votes! dana smith (@brady5thorbust) june 13, 2017and the largest inauguration crowd since obama d backl (@danbackl) june 13, 2017it sounds like donald trump is the one who better start apologizing. he can do it all at once by resigning and turning himself in to federal authorities.featured image: mario tama/getty images snowflake trump demands an apology from the media and the internet laughs at him'"
            ],
            "application/vnd.google.colaboratory.intrinsic+json": {
              "type": "string"
            }
          },
          "metadata": {},
          "execution_count": 53
        }
      ],
      "source": [
        "dff[\"text\"][1153]"
      ]
    },
    {
      "cell_type": "code",
      "execution_count": 54,
      "metadata": {
        "id": "lAChCES8mr2v"
      },
      "outputs": [],
      "source": [
        "dff[\"text\"] = dff[\"text\"].str.replace('\\d','')\n",
        "dff[\"text\"] = dff[\"text\"].str.replace('[^\\w\\s]','')"
      ]
    },
    {
      "cell_type": "markdown",
      "metadata": {
        "id": "14ThPTG4m7hk"
      },
      "source": [
        "- Remove numbers\n",
        "- Remove a character i.e. not a word or whitespace"
      ]
    },
    {
      "cell_type": "code",
      "execution_count": 55,
      "metadata": {
        "colab": {
          "base_uri": "https://localhost:8080/",
          "height": 140
        },
        "id": "qZDrDCxX3_SH",
        "outputId": "b35d65b6-951d-4242-b16f-d5b78b6a44cf"
      },
      "outputs": [
        {
          "output_type": "execute_result",
          "data": {
            "text/plain": [
              "'donald trump went on a whining rant about the media on tuesday morning and got totally humiliatedas he usually does trump woke up and immediately took to twitter to attack democrats the courts and the mediahe accused democrats of being obstructionists and once again declared that the affordable care act is in a death spiral a spiral he himself caused by attacking the law through executive orderstrump also bitched about the th circuit court blocking his muslim banbut he saved most of his vitriol for the mediathe fake news media has never been so wrong or so dirty purposely incorrect stories and phony sources to meet their agenda of hate sad donald j trump realdonaldtrump june  fake news is at an all time high where is their apology to me for all of the incorrect stories donald j trump realdonaldtrump june   script heading to the great state of wisconsin to talk about jobs jobs jobs big progress being made as the real news is reporting  donald j trump realdonaldtrump june   yep trump literally demanded an apology from the media for doing their jobs which drew a belly laugh from twitter users who proceeded to mock trump for being a snowflakelike the time where they said ms universe had a sex tape and everyone should watch it even though it didn t exist evan dashevsky haldash june  or the time the fake news said your birth certificate was a fraud they still haven t apologized to you for that one what gives evan dashevsky haldash june  also remember when the fake news said your dad assassinated jfk still waiting for them to apologize on that one evan dashevsky haldash june  where is your apology for trying to ban muslims taking billions away from healthcare destroying the environment and betraying the usa jules suzdaltsev jules_su june  translation why won t the media worship me properly kim kim june  where is your apology to the voters for claiming you won the popular vote morten verbye morten june  where is your apology to muslims in new jersey for claiming they celebrated on   morten verbye morten june  where is your apology to john mccain for saying he is not a war hero morten verbye morten june  we ve officially stepped through the looking glass man who has never apologized for anything in his life is whining about wanting apology dana smith bradythorbust june  trump claimed obama was born in kenya and he complains about fake news jeffrey guterman jeffreyguterman june  and that obama put a tapp on his lines at trump tower angela jackson butterbeangabs june  don t forget microwave spying jamie xochewie june  and the proof of  million illegal votes dana smith bradythorbust june  and the largest inauguration crowd since obama d backl danbackl june  it sounds like donald trump is the one who better start apologizing he can do it all at once by resigning and turning himself in to federal authoritiesfeatured image mario tamagetty images snowflake trump demands an apology from the media and the internet laughs at him'"
            ],
            "application/vnd.google.colaboratory.intrinsic+json": {
              "type": "string"
            }
          },
          "metadata": {},
          "execution_count": 55
        }
      ],
      "source": [
        "dff[\"text\"][1153]"
      ]
    },
    {
      "cell_type": "code",
      "execution_count": 56,
      "metadata": {
        "id": "gZmmwN-qrI7N"
      },
      "outputs": [],
      "source": [
        "from nltk.corpus import stopwords\n",
        "import re,string\n",
        "s = set(stopwords.words(\"english\"))\n",
        "p = list(string.punctuation)\n",
        "s.update(p)\n",
        "\n",
        "dff[\"text\"] = dff[\"text\"].apply(lambda x: \" \".join(x for x in x.split() if x not in s))"
      ]
    },
    {
      "cell_type": "markdown",
      "metadata": {
        "id": "xQWbFIIV_7G2"
      },
      "source": [
        "- Remove stop words and punctuation"
      ]
    },
    {
      "cell_type": "code",
      "execution_count": 57,
      "metadata": {
        "id": "dxE_wjWf4PRA"
      },
      "outputs": [],
      "source": [
        "from textblob import Word\n",
        "dff[\"text\"] = dff[\"text\"].apply(lambda x: \" \".join([Word(word).lemmatize() for word in x.split()]))"
      ]
    },
    {
      "cell_type": "markdown",
      "metadata": {
        "id": "5Z-X_jaMAB4s"
      },
      "source": [
        "- Lemmatize"
      ]
    },
    {
      "cell_type": "code",
      "source": [
        "dff[\"text\"] = dff[\"text\"].apply(lambda x: ' '.join( [x for x in x.split() if len(x)>1] ))"
      ],
      "metadata": {
        "id": "km_9SOgSypv9"
      },
      "execution_count": 58,
      "outputs": []
    },
    {
      "cell_type": "markdown",
      "source": [
        "- Remove any single character if remaining."
      ],
      "metadata": {
        "id": "fDVcxqWj9eYw"
      }
    },
    {
      "cell_type": "code",
      "source": [
        "df['text'][375]"
      ],
      "metadata": {
        "colab": {
          "base_uri": "https://localhost:8080/",
          "height": 140
        },
        "id": "qDTgZlMf04N8",
        "outputId": "dddb54fd-06d4-4759-db30-51156d37b2db"
      },
      "execution_count": 59,
      "outputs": [
        {
          "output_type": "execute_result",
          "data": {
            "text/plain": [
              "'Trump made a bad decision, or so his ardent followers seem to think. His attempts to work something out with Congressional Democrats on the Deferred Action for Childhood Arrivals (DACA) program, and also his remarks that current construction on his stupid border wall involves mostly existing fencing, have set off their ire. Big-time and small-time MAGAsh*ts alike are crying today, because their rigid, purist minds suffer from severe tunnel vision that doesn t include Trump doing, well, what he s done. They want Trump to do what he promised and damn the consequences to millions who aren t like them.Take Joe Walsh, for example. Walsh is a former U.S. Representative from Illinois  8th district, but his big claim to fame is being a deadbeat dad. All he wants is for Trump to cut his taxes and build the wall. With Trump s latest tweets on DACA and the wall, though, he s ready to abandon Trump and throw his support to probably someone worse:Trump:  We re close to a deal on amnesty. The wall will come later. That s not why we voted for you. https://t.co/0eFMR9jvxT  Joe Walsh (@WalshFreedom) September 14, 2017This is  the art of the deal  right? Can someone remind the president why he was elected?  Joe Walsh (@WalshFreedom) September 14, 2017If true, Trump is done.  Joe Walsh (@WalshFreedom) September 14, 2017We voted for #MAGA, not #DACA.Pull your head out Mr President.  Joe Walsh (@WalshFreedom) September 14, 2017He ran on:  BUILD THE WALL! He didn t run on:  FIX UP SOME OF THE EXISTING FENCING! Not surprising. Just very disappointing.  Joe Walsh (@WalshFreedom) September 14, 2017I m tired of @fox news saying:  It s not the Donald s fault. Big, bad GOP made him do it. Bullshit. Trump is responsible for what he does.  Joe Walsh (@WalshFreedom) September 14, 2017NONE of this is a surprise. I voted 4 Trump knowing he wasn t a Conservative & knowing he had no core.I voted 4 the wall & against amnesty  Joe Walsh (@WalshFreedom) September 14, 2017Then we have Ann Coulter, who seems to have developed some serious regret about writing a book called In Trump We Trust. If Walsh is crying, Coulter is raging: Put a fork in Trump, he s dead.  https://t.co/xEu5lwhmqO  Ann Coulter (@AnnCoulter) September 14, 2017At this point, who DOESN T want Trump impeached? https://t.co/g1mMhmm8ng  Ann Coulter (@AnnCoulter) September 14, 2017If we re not getting a wall, I d prefer President Pence. https://t.co/g1mMhmm8ng  Ann Coulter (@AnnCoulter) September 14, 2017Let s play Jeopardy. ANSWER: An Easter egg. QUESTION: What s the only thing easier to roll than Donald J. Trump?  Ann Coulter (@AnnCoulter) September 14, 2017Let s just tell @realDonaldTrump there was a hurricane at the border. Maybe he ll rush down there with FEMA and build a wall.  Ann Coulter (@AnnCoulter) September 14, 2017What s the only difference between @realDonald Trump & Carrot Top? Carrot Top might actually build the wall.  Ann Coulter (@AnnCoulter) September 14, 2017There are others who are sobbing over Trump s about-face on these issues, too. They were conned, they know it, but they were too dumb and blinded by the racist who said anything they wanted to hear to think this might happen prior to the election.Found this by the side of the road   #amnestydon #burnmyMAGAhat pic.twitter.com/QivQ81xClG  Mickey Kaus (@kausmickey) September 14, 2017Trump s going to have to PAY people to attend his rallies now .and to chant  Build that NEW RENOVATION OF OLD FENCES! Wait, what?? https://t.co/ouSYdSByjJ  Mensans for USA (@Mensans4USA) September 14, 2017Disgusted I ever supported you. My family went through a lot supporting u. Cruz should have been nominee. Despise u & the other GOP traitors  Patriotic Mama  (@BluegillRises) September 14, 2017Live in apartment, can t burn. #AmnestyDon you broke my heart. @realDonaldTrump better look forward to retirement in 2020. #GoGetHimMueller pic.twitter.com/jdO5edLwqo  Impeach Him (@GregPrill) September 14, 2017Trump used the grieving parents of those killed by illegal aliens as props then betrays them like this.#AmnestyDon  mediacritic (@mediacritik) September 14, 2017Do you really want to be remembered as #AmnestyDon, the biggest traitor in US history since Benedict Arnold, and be a one term POTUS?  Adorable Deplorable (@OliMauritania) September 14, 2017Do you really want to turn Florida blue and make our country look like a 3rd world hell hole? Tell us #AmnestyDon?  Adorable Deplorable (@OliMauritania) September 14, 2017#AmnestyDon going to make himself a one term President just so he can get a week s worth of good headlines from the Liberal media. SAD!  Craig ?? Norwalk (@LosGoyers) September 14, 2017I donated, volunteered, & trolled to help pull off the political miracle of the century, & all I got was a guy pushing amnesty. #AmnestyDon  Coach Finstock (@RisenCoach) September 14, 2017Did ivanka cry again or something? #AmnestyDon  Cassandra Fairbanks (@CassandraRules) September 14, 2017.@CassandraRules is speaking for million upon millions of Trump supporters. #NoDACA #AmnestyDon pic.twitter.com/fz3rrzEyRm  Ryan James Girdusky (@RyanGirdusky) September 14, 2017Dear @realDonaldTrump, We didn t elect you to give Dems whatever they want!! We elected you to do what you promised! ?#AmnestyDon #DACADeal  CJ Schafer (@RaisedRightWI) September 14, 2017people aren t gettingJUST HOW F*CKING MADMAGA IS RIGHT NOW There will be no Amnesty - DT Arizona 8-31-16#AmnestyDon  David Alvord (@davealvord164) September 14, 2017Poor Donald can t catch a break, but we can t feel sorry for him or his delusional MAGAs here.Featured image via Justin Merriman/Getty Images'"
            ],
            "application/vnd.google.colaboratory.intrinsic+json": {
              "type": "string"
            }
          },
          "metadata": {},
          "execution_count": 59
        }
      ]
    },
    {
      "cell_type": "markdown",
      "source": [
        "**- Above text is before data cleaning**\n",
        "\n",
        "**- Below is the same text after data cleaning.**"
      ],
      "metadata": {
        "id": "EWZUIub47_QN"
      }
    },
    {
      "cell_type": "code",
      "source": [
        "dff['text'][375]"
      ],
      "metadata": {
        "colab": {
          "base_uri": "https://localhost:8080/",
          "height": 140
        },
        "id": "Eg4V5DOtyviR",
        "outputId": "d22d20da-bfc8-4ad7-db6e-68bfc0c903e3"
      },
      "execution_count": 60,
      "outputs": [
        {
          "output_type": "execute_result",
          "data": {
            "text/plain": [
              "'trump made bad decision ardent follower seem think attempt work something congressional democrat deferred action childhood arrival daca program also remark current construction stupid border wall involves mostly existing fencing set ire bigtime smalltime magashts alike cry today rigid purist mind suffer severe tunnel vision include trump well done want trump promised damn consequence million like themtake joe walsh example walsh former representative illinois th district big claim fame deadbeat dad want trump cut tax build wall trump latest tweet daca wall though ready abandon trump throw support probably someone worsetrump close deal amnesty wall come later voted joe walsh walshfreedom september art deal right someone remind president elected joe walsh walshfreedom september true trump done joe walsh walshfreedom september voted maga dacapull head mr president joe walsh walshfreedom september ran build wall run fix existing fencing surprising disappointing joe walsh walshfreedom september tired fox news saying donald fault big bad gop made bullshit trump responsible joe walsh walshfreedom september none surprise voted trump knowing conservative knowing corei voted wall amnesty joe walsh walshfreedom september ann coulter seems developed serious regret writing book called trump trust walsh cry coulter raging put fork trump dead ann coulter anncoulter september point want trump impeached ann coulter anncoulter september getting wall prefer president penny ann coulter anncoulter september let play jeopardy answer easter egg question thing easier roll donald trump ann coulter anncoulter september let tell realdonaldtrump hurricane border maybe rush fema build wall ann coulter anncoulter september difference realdonald trump carrot top carrot top might actually build wall ann coulter anncoulter september others sobbing trump aboutface issue conned know dumb blinded racist said anything wanted hear think might happen prior electionfound side road amnestydon burnmymagahat mickey kaus kausmickey september trump going pay people attend rally chant build new renovation old fence wait mensans usa mensansusa september disgusted ever supported family went lot supporting cruz nominee despise gop traitor patriotic mama bluegillrises september live apartment burn amnestydon broke heart realdonaldtrump better look forward retirement gogethimmueller impeach gregprill september trump used grieving parent killed illegal alien prop betrays like thisamnestydon mediacritic mediacritik september really want remembered amnestydon biggest traitor history since benedict arnold one term potus adorable deplorable olimauritania september really want turn florida blue make country look like rd world hell hole tell amnestydon adorable deplorable olimauritania september amnestydon going make one term president get week worth good headline liberal medium sad craig norwalk losgoyers september donated volunteered trolled help pull political miracle century got guy pushing amnesty amnestydon coach finstock risencoach september ivanka cry something amnestydon cassandra fairbanks cassandrarules september cassandrarules speaking million upon million trump supporter nodaca amnestydon ryan james girdusky ryangirdusky september dear realdonaldtrump elect give dems whatever want elected promised amnestydon dacadeal cj schafer raisedrightwi september people gettingjust fcking madmaga right amnesty dt arizona amnestydon david alvord davealvord september poor donald catch break feel sorry delusional magas herefeatured image via justin merrimangetty image trump fan cry milk hero break yet another promise tweet'"
            ],
            "application/vnd.google.colaboratory.intrinsic+json": {
              "type": "string"
            }
          },
          "metadata": {},
          "execution_count": 60
        }
      ]
    },
    {
      "cell_type": "markdown",
      "metadata": {
        "id": "fcyKVq-LBTwV"
      },
      "source": [
        "# Post Cleaning Visualization"
      ]
    },
    {
      "cell_type": "code",
      "execution_count": null,
      "metadata": {
        "colab": {
          "base_uri": "https://localhost:8080/",
          "height": 554
        },
        "outputId": "cede9f1b-f4a8-4f6f-eb5c-818d8bf935ff",
        "id": "3JYi8Tu0arIX"
      },
      "outputs": [
        {
          "output_type": "display_data",
          "data": {
            "text/plain": [
              "<Figure size 864x576 with 2 Axes>"
            ],
            "image/png": "[encoded data removed]"
          },
          "metadata": {
            "needs_background": "light"
          }
        }
      ],
      "source": [
        "fig,(ax1,ax2)=plt.subplots(1,2,figsize=(12,8))\n",
        "text_len=dff[dff['report']==1]['text'].str.len()\n",
        "ax1.set_ylabel(\"Count\")\n",
        "ax1.set_xlabel(\"No. of characters\")\n",
        "ax1.hist(text_len,color='green')\n",
        "ax1.set_title('Original text')\n",
        "text_len=dff[dff['report']==0]['text'].str.len()\n",
        "ax2.set_xlabel(\"No. of characters\")\n",
        "ax2.set_ylabel(\"Count\")\n",
        "ax2.hist(text_len,color='red')\n",
        "ax2.set_title('Fake text')\n",
        "fig.suptitle('Characters in texts')\n",
        "plt.show()"
      ]
    },
    {
      "cell_type": "code",
      "execution_count": null,
      "metadata": {
        "colab": {
          "base_uri": "https://localhost:8080/",
          "height": 554
        },
        "outputId": "d7a7f746-b47b-4541-9bc5-c33d97367a32",
        "id": "qsrPfTdoawuY"
      },
      "outputs": [
        {
          "output_type": "display_data",
          "data": {
            "text/plain": [
              "<Figure size 864x576 with 2 Axes>"
            ],
            "image/png": "[encoded data removed]"
          },
          "metadata": {
            "needs_background": "light"
          }
        }
      ],
      "source": [
        "fig,(ax1,ax2)=plt.subplots(1,2,figsize=(12,8))\n",
        "text_len=dff[dff['report']==1]['text'].str.split().map(lambda x: len(x))\n",
        "ax1.set_ylabel(\"Count\")\n",
        "ax1.set_xlabel(\"No. of words\")\n",
        "ax1.hist(text_len,color='green')\n",
        "ax1.set_title('Original text')\n",
        "text_len=dff[dff['report']==0]['text'].str.split().map(lambda x: len(x))\n",
        "ax2.set_ylabel(\"Count\")\n",
        "ax2.set_xlabel(\"No. of words\")\n",
        "ax2.hist(text_len,color='red')\n",
        "ax2.set_title('Fake text')\n",
        "fig.suptitle('Words in texts')\n",
        "plt.show()"
      ]
    },
    {
      "cell_type": "code",
      "execution_count": null,
      "metadata": {
        "colab": {
          "base_uri": "https://localhost:8080/",
          "height": 694
        },
        "outputId": "75eef0c1-94bc-4456-f6b4-1791ed042e8a",
        "id": "zaDWWBlVa1VG"
      },
      "outputs": [
        {
          "output_type": "execute_result",
          "data": {
            "text/plain": [
              "Text(0.5, 0.98, 'Average word length in each text')"
            ]
          },
          "metadata": {},
          "execution_count": 76
        },
        {
          "output_type": "display_data",
          "data": {
            "text/plain": [
              "<Figure size 1440x720 with 2 Axes>"
            ],
            "image/png": "[encoded data removed]"
          },
          "metadata": {
            "needs_background": "light"
          }
        }
      ],
      "source": [
        "fig,(ax1,ax2)=plt.subplots(1,2,figsize=(20,10))\n",
        "word=dff[dff['report']==1]['text'].str.split().apply(lambda x : [len(i) for i in x])\n",
        "sns.distplot(word.map(lambda x: np.mean(x)),ax=ax1,color='green')\n",
        "ax1.set_title('Original text')\n",
        "word=dff[dff['report']==0]['text'].str.split().apply(lambda x : [len(i) for i in x])\n",
        "sns.distplot(word.map(lambda x: np.mean(x)),ax=ax2,color='red')\n",
        "ax2.set_title('Fake text')\n",
        "fig.suptitle('Average word length in each text')"
      ]
    },
    {
      "cell_type": "code",
      "execution_count": null,
      "metadata": {
        "colab": {
          "base_uri": "https://localhost:8080/"
        },
        "id": "Ixu1ILBlqgJw",
        "outputId": "f336d069-8108-4b67-af60-377dd51dcd72"
      },
      "outputs": [
        {
          "output_type": "execute_result",
          "data": {
            "text/plain": [
              "{'trump': 142724,\n",
              " 'said': 130261,\n",
              " 'state': 59775,\n",
              " 'would': 55429,\n",
              " 'president': 54772,\n",
              " 'people': 41987,\n",
              " 'republican': 39984,\n",
              " 'one': 37507,\n",
              " 'year': 35053,\n",
              " 'new': 32710}"
            ]
          },
          "metadata": {},
          "execution_count": 223
        }
      ],
      "source": [
        "from collections import Counter\n",
        "corpus = []\n",
        "for i in dff.text:\n",
        "    for j in i.split():\n",
        "        corpus.append(j.strip())\n",
        "\n",
        "counter = Counter(corpus)\n",
        "common_words = counter.most_common(10)\n",
        "dict(common_words)"
      ]
    },
    {
      "cell_type": "code",
      "source": [
        "unigram=(pd.Series(nltk.ngrams(corpus, 1)).value_counts())\n",
        "unigram"
      ],
      "metadata": {
        "colab": {
          "base_uri": "https://localhost:8080/"
        },
        "id": "hFgee0Mza873",
        "outputId": "58120c6e-4c93-4f32-cd12-999663b8af78"
      },
      "execution_count": null,
      "outputs": [
        {
          "output_type": "execute_result",
          "data": {
            "text/plain": [
              "(trump,)           142724\n",
              "(said,)            130261\n",
              "(state,)            59775\n",
              "(would,)            55429\n",
              "(president,)        54772\n",
              "                    ...  \n",
              "(lawlogan,)             1\n",
              "(antisex,)              1\n",
              "(prisonstate,)          1\n",
              "(sexin,)                1\n",
              "(perdangangan,)         1\n",
              "Length: 197702, dtype: int64"
            ]
          },
          "metadata": {},
          "execution_count": 224
        }
      ]
    },
    {
      "cell_type": "code",
      "source": [
        "bigram=(pd.Series(nltk.ngrams(corpus, 2)).value_counts())\n",
        "bigram"
      ],
      "metadata": {
        "colab": {
          "base_uri": "https://localhost:8080/"
        },
        "id": "5sxKqXk0bIjc",
        "outputId": "08e3d9a1-7938-4035-f41d-d8102cd82f19"
      },
      "execution_count": null,
      "outputs": [
        {
          "output_type": "execute_result",
          "data": {
            "text/plain": [
              "(donald, trump)             26330\n",
              "(united, state)             18446\n",
              "(white, house)              15812\n",
              "(hillary, clinton)           9659\n",
              "(new, york)                  8865\n",
              "                            ...  \n",
              "(might, compromised)            1\n",
              "(ambassador, might)             1\n",
              "(year, yates)                   1\n",
              "(conversation, reported)        1\n",
              "(worth, russian)                1\n",
              "Length: 3749602, dtype: int64"
            ]
          },
          "metadata": {},
          "execution_count": 226
        }
      ]
    },
    {
      "cell_type": "code",
      "execution_count": null,
      "metadata": {
        "id": "Fn6D4nhRBdxT"
      },
      "outputs": [],
      "source": [
        "from sklearn.feature_extraction.text import CountVectorizer\n",
        "def get_top_text_ngrams(corpus, n, g):\n",
        "    vec = CountVectorizer(ngram_range=(g, g)).fit(corpus)\n",
        "    bag_of_words = vec.transform(corpus)\n",
        "    sum_words = bag_of_words.sum(axis=0) \n",
        "    words_freq = [(word, sum_words[0, idx]) for word, idx in vec.vocabulary_.items()]\n",
        "    print(vec.vocabulary_)\n",
        "    words_freq =sorted(words_freq, key = lambda x: x[1], reverse=True)\n",
        "    return words_freq[:n]"
      ]
    },
    {
      "cell_type": "code",
      "execution_count": null,
      "metadata": {
        "colab": {
          "base_uri": "https://localhost:8080/",
          "height": 554
        },
        "id": "Byd1mULxBfGB",
        "outputId": "7044f825-469e-4f91-da7d-fe4a979ec21c"
      },
      "outputs": [
        {
          "data": {
            "text/plain": [
              "<matplotlib.axes._subplots.AxesSubplot at 0x7f01eca1b910>"
            ]
          },
          "execution_count": 38,
          "metadata": {},
          "output_type": "execute_result"
        },
        {
          "data": {
            "image/png": "[encoded data removed]",
            "text/plain": [
              "<Figure size 1152x648 with 1 Axes>"
            ]
          },
          "metadata": {},
          "output_type": "display_data"
        }
      ],
      "source": [
        "plt.figure(figsize = (16,9))\n",
        "most_common_uni = get_top_text_ngrams(dff.text,10,1)\n",
        "most_common_uni = dict(most_common_uni)\n",
        "sns.barplot(x=list(most_common_uni.values()),y=list(most_common_uni.keys()))"
      ]
    },
    {
      "cell_type": "code",
      "execution_count": null,
      "metadata": {
        "colab": {
          "base_uri": "https://localhost:8080/",
          "height": 554
        },
        "id": "DZIQ8e6NFWU0",
        "outputId": "5dea0271-9584-48b1-dfe9-bdc063f9f5a2"
      },
      "outputs": [
        {
          "data": {
            "text/plain": [
              "<matplotlib.axes._subplots.AxesSubplot at 0x7f01f155c490>"
            ]
          },
          "execution_count": 39,
          "metadata": {},
          "output_type": "execute_result"
        },
        {
          "data": {
            "image/png": "[encoded data removed]",
            "text/plain": [
              "<Figure size 1152x648 with 1 Axes>"
            ]
          },
          "metadata": {},
          "output_type": "display_data"
        }
      ],
      "source": [
        "plt.figure(figsize = (16,9))\n",
        "most_common_bi = get_top_text_ngrams(dff.text,10,2)\n",
        "most_common_bi = dict(most_common_bi)\n",
        "sns.barplot(x=list(most_common_bi.values()),y=list(most_common_bi.keys()))"
      ]
    },
    {
      "cell_type": "code",
      "source": [
        "plt.figure(figsize = (16,9))\n",
        "most_common_tri = get_top_text_ngrams(df.text,10,3)\n",
        "most_common_tri = dict(most_common_tri)\n",
        "sns.barplot(x=list(most_common_tri.values()),y=list(most_common_tri.keys()))"
      ],
      "metadata": {
        "colab": {
          "base_uri": "https://localhost:8080/",
          "height": 728
        },
        "id": "xhJVe13MbiYM",
        "outputId": "d8481e58-fca7-4f64-ab70-bd4dfd5ea873"
      },
      "execution_count": null,
      "outputs": [
        {
          "output_type": "stream",
          "name": "stderr",
          "text": [
            "IOPub data rate exceeded.\n",
            "The notebook server will temporarily stop sending output\n",
            "to the client in order to avoid crashing it.\n",
            "To change this limit, set the config variable\n",
            "`--NotebookApp.iopub_data_rate_limit`.\n",
            "\n",
            "Current values:\n",
            "NotebookApp.iopub_data_rate_limit=1000000.0 (bytes/sec)\n",
            "NotebookApp.rate_limit_window=3.0 (secs)\n",
            "\n"
          ]
        },
        {
          "output_type": "execute_result",
          "data": {
            "text/plain": [
              "<matplotlib.axes._subplots.AxesSubplot at 0x7fb1678fa700>"
            ]
          },
          "metadata": {},
          "execution_count": 200
        },
        {
          "output_type": "display_data",
          "data": {
            "text/plain": [
              "<Figure size 1152x648 with 1 Axes>"
            ],
            "image/png": "[encoded data removed]"
          },
          "metadata": {
            "needs_background": "light"
          }
        }
      ]
    },
    {
      "cell_type": "markdown",
      "source": [],
      "metadata": {
        "id": "gCmmw26tn92I"
      }
    },
    {
      "cell_type": "markdown",
      "metadata": {
        "id": "KfW3h3r-4us7"
      },
      "source": [
        "#Separating Input and target features"
      ]
    },
    {
      "cell_type": "code",
      "execution_count": 61,
      "metadata": {
        "colab": {
          "base_uri": "https://localhost:8080/"
        },
        "id": "2oiIVaX34ths",
        "outputId": "2d600bdf-00d5-4028-bef4-9dc1614d3335"
      },
      "outputs": [
        {
          "output_type": "execute_result",
          "data": {
            "text/plain": [
              "0    donald trump wish american happy new year leav...\n",
              "1    house intelligence committee chairman devin nu...\n",
              "2    friday revealed former milwaukee sheriff david...\n",
              "3    christmas day donald trump announced would bac...\n",
              "4    pope francis used annual christmas day message...\n",
              "Name: text, dtype: object"
            ]
          },
          "metadata": {},
          "execution_count": 61
        }
      ],
      "source": [
        "x=dff[\"text\"]\n",
        "x.head()"
      ]
    },
    {
      "cell_type": "code",
      "execution_count": 62,
      "metadata": {
        "colab": {
          "base_uri": "https://localhost:8080/"
        },
        "id": "48kiC4KF42Uf",
        "outputId": "225f9a26-307f-45f9-d6a7-ef57d94bc3cc"
      },
      "outputs": [
        {
          "output_type": "execute_result",
          "data": {
            "text/plain": [
              "0    0\n",
              "1    0\n",
              "2    0\n",
              "3    0\n",
              "4    0\n",
              "Name: report, dtype: int64"
            ]
          },
          "metadata": {},
          "execution_count": 62
        }
      ],
      "source": [
        "y=dff[\"report\"]\n",
        "y.head()"
      ]
    },
    {
      "cell_type": "markdown",
      "metadata": {
        "id": "lyhuJVRG_EC4"
      },
      "source": [
        "#Vectorize"
      ]
    },
    {
      "cell_type": "code",
      "source": [
        "from sklearn.feature_extraction.text import CountVectorizer\n",
        "from sklearn.feature_extraction.text import TfidfTransformer\n",
        "from sklearn.feature_extraction.text import TfidfVectorizer\n",
        "\n",
        "vect = CountVectorizer()\n",
        "vect.fit_transform(x)\n",
        "\n",
        "freq_term_matrix = vect.transform(x)\n",
        "tfidf = TfidfTransformer(norm = \"l2\")\n",
        "tfidf.fit(freq_term_matrix)\n",
        "tf_idf_matrix = tfidf.fit_transform(freq_term_matrix)"
      ],
      "metadata": {
        "id": "vWel_lvH4wAe"
      },
      "execution_count": 87,
      "outputs": []
    },
    {
      "cell_type": "markdown",
      "metadata": {
        "id": "43R5biixy6AH"
      },
      "source": [
        "# Training and Testing"
      ]
    },
    {
      "cell_type": "code",
      "execution_count": 64,
      "metadata": {
        "id": "uN9h51vMy6AI"
      },
      "outputs": [],
      "source": [
        "from sklearn.linear_model import LogisticRegression\n",
        "from sklearn.metrics import r2_score,accuracy_score,classification_report,auc,roc_curve\n",
        "from sklearn.model_selection import train_test_split,cross_val_score\n",
        "lg = LogisticRegression()"
      ]
    },
    {
      "cell_type": "code",
      "execution_count": 88,
      "metadata": {
        "colab": {
          "base_uri": "https://localhost:8080/"
        },
        "outputId": "7b1d2ff0-2846-4a0a-b2c3-752d80cc7a16",
        "id": "pHkErz6qy6AI"
      },
      "outputs": [
        {
          "output_type": "stream",
          "name": "stdout",
          "text": [
            "Train Accuracy :  99.35\n",
            "Test Accuracy :  99.29\n",
            "cv score :  99.35\n"
          ]
        }
      ],
      "source": [
        "x_train,x_test,y_train,y_test=train_test_split(tf_idf_matrix,y,test_size=0.2,random_state=42)\n",
        "lg.fit(tf_idf_matrix,y)\n",
        "pred_train=lg.predict(x_train)\n",
        "pred_test=lg.predict(x_test)\n",
        "print(\"Train Accuracy : \",round(accuracy_score(y_train,pred_train)*100,2))\n",
        "print(\"Test Accuracy : \",round(accuracy_score(y_test,pred_test)*100,2))\n",
        "cv_score=cross_val_score(lg,X,y,cv=5)\n",
        "print(\"cv score : \", round(cv_score.mean()*100,2))"
      ]
    },
    {
      "cell_type": "code",
      "execution_count": 89,
      "metadata": {
        "colab": {
          "base_uri": "https://localhost:8080/"
        },
        "outputId": "ac213c50-f8a9-4d95-99d8-f1448133ddfd",
        "id": "caRKhLewy6AJ"
      },
      "outputs": [
        {
          "output_type": "stream",
          "name": "stdout",
          "text": [
            "Classification Report:\n",
            "               precision    recall  f1-score   support\n",
            "\n",
            "           0       0.99      0.99      0.99      4733\n",
            "           1       0.99      0.99      0.99      4247\n",
            "\n",
            "    accuracy                           0.99      8980\n",
            "   macro avg       0.99      0.99      0.99      8980\n",
            "weighted avg       0.99      0.99      0.99      8980\n",
            "\n"
          ]
        }
      ],
      "source": [
        "print(\"Classification Report:\\n\",classification_report(y_test,pred_test))"
      ]
    },
    {
      "cell_type": "code",
      "execution_count": 90,
      "metadata": {
        "colab": {
          "base_uri": "https://localhost:8080/"
        },
        "outputId": "805e4ad1-ba34-4fef-c978-4b83b8690387",
        "id": "3pgCrW-My6AJ"
      },
      "outputs": [
        {
          "output_type": "stream",
          "name": "stdout",
          "text": [
            "Confusion Matrix\n",
            " [[4698   35]\n",
            " [  29 4218]]\n"
          ]
        }
      ],
      "source": [
        "from sklearn.metrics import confusion_matrix\n",
        "print(\"Confusion Matrix\\n\",confusion_matrix(y_test,pred_test))"
      ]
    },
    {
      "cell_type": "code",
      "execution_count": 91,
      "metadata": {
        "colab": {
          "base_uri": "https://localhost:8080/",
          "height": 295
        },
        "id": "kCvyx-qi9FvW",
        "outputId": "fd1e27ec-71af-41bd-a9b5-e0f99a3b79c1"
      },
      "outputs": [
        {
          "output_type": "display_data",
          "data": {
            "text/plain": [
              "<Figure size 432x288 with 1 Axes>"
            ],
            "image/png": "[encoded data removed]"
          },
          "metadata": {
            "needs_background": "light"
          }
        }
      ],
      "source": [
        "from sklearn.metrics import roc_curve,auc\n",
        "fpr, tpr, thresholds = roc_curve(pred_test,y_test)\n",
        "roc_auc= auc(fpr,tpr)\n",
        "plt.figure()\n",
        "plt.plot(fpr,tpr,color='darkorange',lw=10,label='ROC curve (area = %0.2f)' % roc_auc)\n",
        "plt.plot([0,1],[0,1],color='navy',lw=10,linestyle='--')\n",
        "plt.xlim([0.0, 1.0])\n",
        "plt.ylim([0.0,1.05])\n",
        "plt.xlabel(\"False POsitive Rate\")\n",
        "plt.ylabel(\"True Positive Rate\")\n",
        "plt.title(\"Receiver operating characteristic\")\n",
        "plt.legend(loc='lower right')\n",
        "plt.show()\n",
        "    "
      ]
    },
    {
      "cell_type": "markdown",
      "metadata": {
        "id": "tscawZtTWa-u"
      },
      "source": [
        "#Model Selection"
      ]
    },
    {
      "cell_type": "code",
      "execution_count": 96,
      "metadata": {
        "id": "aoAKR-qpWXiO"
      },
      "outputs": [],
      "source": [
        "import matplotlib.pyplot as plt\n",
        "from sklearn.metrics import roc_curve,auc\n",
        "\n",
        "def model_selection(algorithm_instance,x_train,y_train,x_test,y_test):\n",
        "    algorithm_instance.fit(x_train,y_train)\n",
        "    model_pred_train=algorithm_instance.predict(x_train)\n",
        "    model_pred_test=algorithm_instance.predict(x_test)\n",
        "    print(\"Accuracy of training model :\",round(accuracy_score(y_train,model_pred_train)*100,2))\n",
        "    print(\"Accuracy of test data :\",round(accuracy_score(y_test,model_pred_test)*100,2))\n",
        "    cv_score=cross_val_score(algorithm_instance,X,y,cv=5)\n",
        "    print(\"cv score : \", round(cv_score.mean()*100,2))\n",
        "    print(\"\\nClassification report for test data\\n\",classification_report(y_test,model_pred_test))\n",
        "    print(\"Classification report for training data\\n\",classification_report(y_train,model_pred_train))\n",
        "    print(\"Confusion Matrix\\n\",confusion_matrix(y_test,model_pred_test))\n",
        "    print(\"\\n\")\n",
        "   \n",
        "    fpr, tpr, thresholds = roc_curve(model_pred_test,y_test)\n",
        "    roc_auc= auc(fpr,tpr)\n",
        "    plt.figure()\n",
        "    plt.plot(fpr,tpr,color='darkorange',lw=10,label='ROC curve (area = %0.2f)' % roc_auc)\n",
        "    plt.plot([0,1],[0,1],color='navy',lw=10,linestyle='--')\n",
        "    plt.xlim([0.0, 1.0])\n",
        "    plt.ylim([0.0,1.05])\n",
        "    plt.xlabel(\"False POsitive Rate\")\n",
        "    plt.ylabel(\"True Positive Rate\")\n",
        "    plt.title(\"Receiver operating characteristic\")\n",
        "    plt.legend(loc='lower right')\n",
        "    plt.show()\n"
      ]
    },
    {
      "cell_type": "markdown",
      "metadata": {
        "id": "FyFr8BSSWrWa"
      },
      "source": [
        "#KNeighbors Classifier"
      ]
    },
    {
      "cell_type": "code",
      "execution_count": null,
      "metadata": {
        "id": "QobFaNHJWuLe",
        "colab": {
          "base_uri": "https://localhost:8080/",
          "height": 798
        },
        "outputId": "1d69828b-d06e-4ee8-aa33-cdee28ae7d7d"
      },
      "outputs": [
        {
          "output_type": "stream",
          "name": "stdout",
          "text": [
            "Accuracy of training model : 84.42\n",
            "Accuracy of test data : 79.21\n",
            "cv score :  74.24\n",
            "\n",
            "Classification report for test data\n",
            "               precision    recall  f1-score   support\n",
            "\n",
            "           0       0.79      0.82      0.81      4733\n",
            "           1       0.79      0.76      0.78      4247\n",
            "\n",
            "    accuracy                           0.79      8980\n",
            "   macro avg       0.79      0.79      0.79      8980\n",
            "weighted avg       0.79      0.79      0.79      8980\n",
            "\n",
            "Classification report for training data\n",
            "               precision    recall  f1-score   support\n",
            "\n",
            "           0       0.84      0.87      0.85     18748\n",
            "           1       0.85      0.82      0.83     17170\n",
            "\n",
            "    accuracy                           0.84     35918\n",
            "   macro avg       0.84      0.84      0.84     35918\n",
            "weighted avg       0.84      0.84      0.84     35918\n",
            "\n",
            "Confusion Matrix\n",
            " [[3889  844]\n",
            " [1023 3224]]\n",
            "\n",
            "\n"
          ]
        },
        {
          "output_type": "display_data",
          "data": {
            "text/plain": [
              "<Figure size 432x288 with 1 Axes>"
            ],
            "image/png": "[encoded data removed]"
          },
          "metadata": {
            "needs_background": "light"
          }
        }
      ],
      "source": [
        "from sklearn.neighbors import KNeighborsClassifier\n",
        "\n",
        "k=KNeighborsClassifier()\n",
        "model_selection(k,x_train,y_train,x_test,y_test)"
      ]
    },
    {
      "cell_type": "markdown",
      "metadata": {
        "id": "9gEdwb8246rz"
      },
      "source": [
        "# SVC Model"
      ]
    },
    {
      "cell_type": "code",
      "execution_count": null,
      "metadata": {
        "colab": {
          "base_uri": "https://localhost:8080/",
          "height": 798
        },
        "id": "pwfZp2aE4wxO",
        "outputId": "1ea595d6-442e-4134-865c-305982c27743"
      },
      "outputs": [
        {
          "output_type": "stream",
          "name": "stdout",
          "text": [
            "Accuracy of training model : 99.88\n",
            "Accuracy of test data : 99.41\n",
            "cv score :  99.04\n",
            "\n",
            "Classification report for test data\n",
            "               precision    recall  f1-score   support\n",
            "\n",
            "           0       0.99      0.99      0.99      4733\n",
            "           1       0.99      0.99      0.99      4247\n",
            "\n",
            "    accuracy                           0.99      8980\n",
            "   macro avg       0.99      0.99      0.99      8980\n",
            "weighted avg       0.99      0.99      0.99      8980\n",
            "\n",
            "Classification report for training data\n",
            "               precision    recall  f1-score   support\n",
            "\n",
            "           0       1.00      1.00      1.00     18748\n",
            "           1       1.00      1.00      1.00     17170\n",
            "\n",
            "    accuracy                           1.00     35918\n",
            "   macro avg       1.00      1.00      1.00     35918\n",
            "weighted avg       1.00      1.00      1.00     35918\n",
            "\n",
            "Confusion Matrix\n",
            " [[4709   24]\n",
            " [  29 4218]]\n",
            "\n",
            "\n"
          ]
        },
        {
          "output_type": "display_data",
          "data": {
            "text/plain": [
              "<Figure size 432x288 with 1 Axes>"
            ],
            "image/png": "[encoded data removed]"
          },
          "metadata": {
            "needs_background": "light"
          }
        }
      ],
      "source": [
        "from sklearn import svm\n",
        "s=svm.SVC()\n",
        "model_selection(s,x_train,y_train,x_test,y_test)"
      ]
    },
    {
      "cell_type": "markdown",
      "metadata": {
        "id": "3g9FAsWQ4z4I"
      },
      "source": [
        "# DecisionTressClassifier Model"
      ]
    },
    {
      "cell_type": "code",
      "execution_count": null,
      "metadata": {
        "colab": {
          "base_uri": "https://localhost:8080/",
          "height": 798
        },
        "id": "uCF7YCqO15-e",
        "outputId": "eda9a108-d741-46e4-9438-497411983e4d"
      },
      "outputs": [
        {
          "output_type": "stream",
          "name": "stdout",
          "text": [
            "Accuracy of training model : 100.0\n",
            "Accuracy of test data : 99.77\n",
            "cv score :  99.48\n",
            "\n",
            "Classification report for test data\n",
            "               precision    recall  f1-score   support\n",
            "\n",
            "           0       1.00      1.00      1.00      4733\n",
            "           1       1.00      1.00      1.00      4247\n",
            "\n",
            "    accuracy                           1.00      8980\n",
            "   macro avg       1.00      1.00      1.00      8980\n",
            "weighted avg       1.00      1.00      1.00      8980\n",
            "\n",
            "Classification report for training data\n",
            "               precision    recall  f1-score   support\n",
            "\n",
            "           0       1.00      1.00      1.00     18748\n",
            "           1       1.00      1.00      1.00     17170\n",
            "\n",
            "    accuracy                           1.00     35918\n",
            "   macro avg       1.00      1.00      1.00     35918\n",
            "weighted avg       1.00      1.00      1.00     35918\n",
            "\n",
            "Confusion Matrix\n",
            " [[4720   13]\n",
            " [   8 4239]]\n",
            "\n",
            "\n"
          ]
        },
        {
          "output_type": "display_data",
          "data": {
            "text/plain": [
              "<Figure size 432x288 with 1 Axes>"
            ],
            "image/png": "[encoded data removed]"
          },
          "metadata": {
            "needs_background": "light"
          }
        }
      ],
      "source": [
        "from sklearn.tree import DecisionTreeClassifier\n",
        "dtc = DecisionTreeClassifier()\n",
        "model_selection(dtc,x_train,y_train,x_test,y_test)"
      ]
    },
    {
      "cell_type": "markdown",
      "metadata": {
        "id": "vzn1120LM5je"
      },
      "source": [
        "# RandomForestClassifier"
      ]
    },
    {
      "cell_type": "code",
      "execution_count": null,
      "metadata": {
        "id": "jHyZEzOz6RBG",
        "colab": {
          "base_uri": "https://localhost:8080/"
        },
        "outputId": "9a2f78c6-d489-45d0-9f02-bfed41f0ce88"
      },
      "outputs": [
        {
          "output_type": "stream",
          "name": "stdout",
          "text": [
            "{'class_weight': 'balanced', 'criterion': 'entropy', 'max_features': None, 'n_estimators': 50}\n"
          ]
        }
      ],
      "source": [
        "from sklearn.model_selection import GridSearchCV\n",
        "from sklearn.ensemble import RandomForestClassifier\n",
        "\n",
        "parameter={'criterion':['gini', 'entropy', 'log_loss'],\n",
        "          'max_features' : [None,\"sqrt\",\"log2\"],\n",
        "           'class_weight':['balanced',' balanced_subsample'],\n",
        "           'n_estimators':range(0,100,50)}\n",
        "\n",
        "rf=RandomForestClassifier()\n",
        "clf=GridSearchCV(rf,parameter)\n",
        "clf.fit(x_train,y_train)\n",
        "\n",
        "print(clf.best_params_)"
      ]
    },
    {
      "cell_type": "code",
      "source": [
        "from sklearn.ensemble import RandomForestClassifier\n",
        "rf=RandomForestClassifier(n_estimators=50, class_weight= 'balanced',criterion='entropy', max_features= None)\n",
        "model_selection(rf,x_train,y_train,x_test,y_test)"
      ],
      "metadata": {
        "colab": {
          "base_uri": "https://localhost:8080/",
          "height": 798
        },
        "id": "Qdj9XMPnGntu",
        "outputId": "573e677e-7e76-4595-9bb6-e266f302b425"
      },
      "execution_count": null,
      "outputs": [
        {
          "output_type": "stream",
          "name": "stdout",
          "text": [
            "Accuracy of training model : 99.99\n",
            "Accuracy of test data : 99.79\n",
            "cv score :  99.59\n",
            "\n",
            "Classification report for test data\n",
            "               precision    recall  f1-score   support\n",
            "\n",
            "           0       1.00      1.00      1.00      4733\n",
            "           1       1.00      1.00      1.00      4247\n",
            "\n",
            "    accuracy                           1.00      8980\n",
            "   macro avg       1.00      1.00      1.00      8980\n",
            "weighted avg       1.00      1.00      1.00      8980\n",
            "\n",
            "Classification report for training data\n",
            "               precision    recall  f1-score   support\n",
            "\n",
            "           0       1.00      1.00      1.00     18748\n",
            "           1       1.00      1.00      1.00     17170\n",
            "\n",
            "    accuracy                           1.00     35918\n",
            "   macro avg       1.00      1.00      1.00     35918\n",
            "weighted avg       1.00      1.00      1.00     35918\n",
            "\n",
            "Confusion Matrix\n",
            " [[4719   14]\n",
            " [   5 4242]]\n",
            "\n",
            "\n"
          ]
        },
        {
          "output_type": "display_data",
          "data": {
            "text/plain": [
              "<Figure size 432x288 with 1 Axes>"
            ],
            "image/png": "[encoded data removed]"
          },
          "metadata": {
            "needs_background": "light"
          }
        }
      ]
    },
    {
      "cell_type": "markdown",
      "metadata": {
        "id": "ucbecisQblJz"
      },
      "source": [
        "# GradientBoostingClassifier\n",
        "\n"
      ]
    },
    {
      "cell_type": "code",
      "execution_count": null,
      "metadata": {
        "id": "SevdWGuPbtd1",
        "colab": {
          "base_uri": "https://localhost:8080/"
        },
        "outputId": "a6c2c0ee-596c-4232-dc8d-da492243dc80"
      },
      "outputs": [
        {
          "output_type": "stream",
          "name": "stdout",
          "text": [
            "{'criterion': 'friedman_mse', 'loss': 'deviance', 'max_features': 'auto', 'n_estimators': 50}\n"
          ]
        }
      ],
      "source": [
        "from sklearn.model_selection import GridSearchCV\n",
        "from sklearn.ensemble import GradientBoostingClassifier\n",
        "\n",
        "parameter={'loss':['log_loss', 'deviance', 'exponential'],\n",
        "           'criterion':['friedman_mse', 'squared_error', 'mse'],\n",
        "           'max_features':['auto', 'sqrt', 'log2'],\n",
        "           'n_estimators':range(0,100,50)}\n",
        "\n",
        "rf3=GradientBoostingClassifier()\n",
        "clf=GridSearchCV(rf3,parameter)\n",
        "clf.fit(x_train,y_train)\n",
        "\n",
        "print(clf.best_params_)"
      ]
    },
    {
      "cell_type": "code",
      "execution_count": null,
      "metadata": {
        "id": "SThl8rqdbtv5",
        "colab": {
          "base_uri": "https://localhost:8080/",
          "height": 798
        },
        "outputId": "e7e6be42-4262-43fb-a2c8-ac140301c7cd"
      },
      "outputs": [
        {
          "output_type": "stream",
          "name": "stdout",
          "text": [
            "Accuracy of training model : 99.53\n",
            "Accuracy of test data : 99.53\n",
            "cv score :  99.35\n",
            "\n",
            "Classification report for test data\n",
            "               precision    recall  f1-score   support\n",
            "\n",
            "           0       1.00      0.99      1.00      4733\n",
            "           1       0.99      1.00      1.00      4247\n",
            "\n",
            "    accuracy                           1.00      8980\n",
            "   macro avg       1.00      1.00      1.00      8980\n",
            "weighted avg       1.00      1.00      1.00      8980\n",
            "\n",
            "Classification report for training data\n",
            "               precision    recall  f1-score   support\n",
            "\n",
            "           0       1.00      0.99      1.00     18748\n",
            "           1       0.99      1.00      1.00     17170\n",
            "\n",
            "    accuracy                           1.00     35918\n",
            "   macro avg       1.00      1.00      1.00     35918\n",
            "weighted avg       1.00      1.00      1.00     35918\n",
            "\n",
            "Confusion Matrix\n",
            " [[4694   39]\n",
            " [   3 4244]]\n",
            "\n",
            "\n"
          ]
        },
        {
          "output_type": "display_data",
          "data": {
            "text/plain": [
              "<Figure size 432x288 with 1 Axes>"
            ],
            "image/png": "[encoded data removed]"
          },
          "metadata": {
            "needs_background": "light"
          }
        }
      ],
      "source": [
        "rf3=GradientBoostingClassifier(criterion='friedman_mse', loss='deviance', max_features= 'auto', n_estimators= 50)\n",
        "model_selection(rf3,x_train,y_train,x_test,y_test)"
      ]
    },
    {
      "cell_type": "markdown",
      "metadata": {
        "id": "6UBuOjbmS7oM"
      },
      "source": [
        "# Model Saving"
      ]
    },
    {
      "cell_type": "code",
      "execution_count": 77,
      "metadata": {
        "id": "4pb6CzM8S6Zy"
      },
      "outputs": [],
      "source": [
        "import pickle\n",
        "filename='rfz.pk1'\n",
        "pickle.dump(lg,open(filename,'wb'))"
      ]
    },
    {
      "cell_type": "markdown",
      "source": [
        "We selected Logistic Regression model since\n",
        "- it has best cross validation score among all the model and high accuracy.\n",
        "- it has highest auc score of 1.0"
      ],
      "metadata": {
        "id": "q9SmqaJC_pPd"
      }
    },
    {
      "cell_type": "markdown",
      "metadata": {
        "id": "srbw8dbmTedY"
      },
      "source": [
        "# Loading Model"
      ]
    },
    {
      "cell_type": "code",
      "execution_count": null,
      "metadata": {
        "colab": {
          "base_uri": "https://localhost:8080/"
        },
        "id": "wW4JCnbsTUVP",
        "outputId": "c5515e3c-4248-4a7c-8b3b-fae7c2b29126"
      },
      "outputs": [
        {
          "output_type": "stream",
          "name": "stdout",
          "text": [
            "Model Accuracy:  99.78841870824053\n"
          ]
        }
      ],
      "source": [
        "loaded_model=pickle.load(open('rfz.pk1','rb'))\n",
        "result=loaded_model.score(x_test,y_test)\n",
        "print(\"Model Accuracy: \",result*100)"
      ]
    },
    {
      "cell_type": "markdown",
      "source": [
        "#Conclusion"
      ],
      "metadata": {
        "id": "NuT53r-JAQd_"
      }
    },
    {
      "cell_type": "markdown",
      "source": [
        "-\tIn this study we found that randomforest classifier performs slightly better than logistic regression and rest of the algorithm tested."
      ],
      "metadata": {
        "id": "E0ULEhzfAETW"
      }
    }
  ],
  "metadata": {
    "colab": {
      "collapsed_sections": [
        "u_cN2C8-iZc3",
        "3HyMFzXLLggl",
        "fcyKVq-LBTwV",
        "KfW3h3r-4us7",
        "tscawZtTWa-u"
      ],
      "provenance": []
    },
    "kernelspec": {
      "display_name": "Python 3",
      "name": "python3"
    },
    "language_info": {
      "name": "python"
    }
  },
  "nbformat": 4,
  "nbformat_minor": 0
}