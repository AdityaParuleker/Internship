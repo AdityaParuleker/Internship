{
 "cells": [
  {
   "cell_type": "markdown",
   "id": "6f2f5ea6",
   "metadata": {},
   "source": [
    "# Q1: Write a python program to scrape data for “Data Analyst” Job position in “Bangalore” location. "
   ]
  },
  {
   "cell_type": "markdown",
   "id": "6e355609",
   "metadata": {},
   "source": [
    "Import the required libraries"
   ]
  },
  {
   "cell_type": "code",
   "execution_count": 263,
   "id": "6618cf95",
   "metadata": {},
   "outputs": [],
   "source": [
    "import selenium\n",
    "import pandas as pd\n",
    "from selenium import webdriver\n",
    "import warnings\n",
    "warnings.filterwarnings(\"ignore\")\n",
    "from selenium.common.exceptions import StaleElementReferenceException, NoSuchElementException\n",
    "from selenium.webdriver.common.by import By\n",
    "import time"
   ]
  },
  {
   "cell_type": "markdown",
   "id": "31d35ecd",
   "metadata": {},
   "source": [
    "Access the chrome driver using download location."
   ]
  },
  {
   "cell_type": "code",
   "execution_count": 264,
   "id": "b9bcb36e",
   "metadata": {},
   "outputs": [],
   "source": [
    "driver=webdriver.Chrome(r\"C:\\Users\\RedPr\\Downloads\\chromedriver_win32\\chromedriver.exe\")"
   ]
  },
  {
   "cell_type": "markdown",
   "id": "c268b784",
   "metadata": {},
   "source": [
    "Get the url of website"
   ]
  },
  {
   "cell_type": "code",
   "execution_count": 265,
   "id": "7957312d",
   "metadata": {},
   "outputs": [],
   "source": [
    "driver.get(\"https://www.naukri.com/\")"
   ]
  },
  {
   "cell_type": "markdown",
   "id": "7a165755",
   "metadata": {},
   "source": [
    "Send \"Data Analyst\" text to search."
   ]
  },
  {
   "cell_type": "code",
   "execution_count": 266,
   "id": "7f839494",
   "metadata": {},
   "outputs": [],
   "source": [
    "designation=driver.find_element(By.CLASS_NAME,\"suggestor-input\")\n",
    "designation.send_keys(\"Data Analyst\")"
   ]
  },
  {
   "cell_type": "markdown",
   "id": "4618541f",
   "metadata": {},
   "source": [
    "Choose Location \"Bangalore\""
   ]
  },
  {
   "cell_type": "code",
   "execution_count": 267,
   "id": "3ce11404",
   "metadata": {},
   "outputs": [],
   "source": [
    "location=driver.find_element(By.XPATH,\"/html/body/div[1]/div[6]/div/div/div[5]/div/div/div/input\")\n",
    "location.send_keys(\"Bangalore\")"
   ]
  },
  {
   "cell_type": "markdown",
   "id": "6aae08ee",
   "metadata": {},
   "source": [
    "Use the Search button to get results."
   ]
  },
  {
   "cell_type": "code",
   "execution_count": 268,
   "id": "613635f3",
   "metadata": {},
   "outputs": [],
   "source": [
    "search=driver.find_element(By.CLASS_NAME,\"qsbSubmit\")\n",
    "search.click()"
   ]
  },
  {
   "cell_type": "markdown",
   "id": "cfe2befd",
   "metadata": {},
   "source": [
    "First create set[] to store the extracted data and then use loops to extract the required information from the webpage. The number of set = number of columns required in dataframe."
   ]
  },
  {
   "cell_type": "code",
   "execution_count": 269,
   "id": "cbcfe404",
   "metadata": {},
   "outputs": [],
   "source": [
    "job_title=[]\n",
    "job_location=[]\n",
    "company_name=[]\n",
    "experience_required=[]\n"
   ]
  },
  {
   "cell_type": "code",
   "execution_count": 270,
   "id": "1245e614",
   "metadata": {},
   "outputs": [],
   "source": [
    "title_tags=driver.find_elements(By.XPATH,'//a[@class=\"title fw500 ellipsis\"]')\n",
    "for i in title_tags[0:10]:\n",
    "    title=i.text\n",
    "    job_title.append(title)\n",
    "    \n",
    "location_tags=driver.find_elements(By.XPATH,'//li[@class=\"fleft grey-text br2 placeHolderLi location\"]')\n",
    "for i in location_tags[0:10]:\n",
    "    location=i.text\n",
    "    job_location.append(location)\n",
    "    \n",
    "company_tags=driver.find_elements(By.XPATH,'//a[@class=\"subTitle ellipsis fleft\"]')\n",
    "for i in company_tags[0:10]:\n",
    "    company=i.text\n",
    "    company_name.append(company)\n",
    "    \n",
    "experience_tags=driver.find_elements(By.XPATH,'//li[@class=\"fleft grey-text br2 placeHolderLi experience\"]')\n",
    "for i in experience_tags[0:10]:\n",
    "    exp=i.text\n",
    "    experience_required.append(exp)\n",
    "    "
   ]
  },
  {
   "cell_type": "code",
   "execution_count": 271,
   "id": "8607ad9c",
   "metadata": {},
   "outputs": [],
   "source": [
    "del job_title[10:]\n",
    "del job_location[10:]\n",
    "del company_name[10:]"
   ]
  },
  {
   "cell_type": "markdown",
   "id": "b7b12d0f",
   "metadata": {},
   "source": [
    "Remove additional string from experience_required list"
   ]
  },
  {
   "cell_type": "code",
   "execution_count": 275,
   "id": "2a336e30",
   "metadata": {},
   "outputs": [
    {
     "data": {
      "text/plain": [
       "['3-6', '4-8', '2-5', '1-6', '0-4', '3-8', '6-9', '5-10', '3-7', '6-8']"
      ]
     },
     "execution_count": 275,
     "metadata": {},
     "output_type": "execute_result"
    }
   ],
   "source": [
    "exp=[]\n",
    "for i in experience_required:\n",
    "    exp.append(i[:-4])\n",
    "exp"
   ]
  },
  {
   "cell_type": "markdown",
   "id": "a5eb0e45",
   "metadata": {},
   "source": [
    "Save the result in Dataframe."
   ]
  },
  {
   "cell_type": "code",
   "execution_count": 276,
   "id": "0b6a0db6",
   "metadata": {},
   "outputs": [
    {
     "data": {
      "text/html": [
       "<div>\n",
       "<style scoped>\n",
       "    .dataframe tbody tr th:only-of-type {\n",
       "        vertical-align: middle;\n",
       "    }\n",
       "\n",
       "    .dataframe tbody tr th {\n",
       "        vertical-align: top;\n",
       "    }\n",
       "\n",
       "    .dataframe thead th {\n",
       "        text-align: right;\n",
       "    }\n",
       "</style>\n",
       "<table border=\"1\" class=\"dataframe\">\n",
       "  <thead>\n",
       "    <tr style=\"text-align: right;\">\n",
       "      <th></th>\n",
       "      <th>Title</th>\n",
       "      <th>Location</th>\n",
       "      <th>Company</th>\n",
       "      <th>Experience</th>\n",
       "    </tr>\n",
       "  </thead>\n",
       "  <tbody>\n",
       "    <tr>\n",
       "      <th>0</th>\n",
       "      <td>Senior Data Analyst</td>\n",
       "      <td>Bangalore/Bengaluru, Chennai</td>\n",
       "      <td>Latentview</td>\n",
       "      <td>3-6</td>\n",
       "    </tr>\n",
       "    <tr>\n",
       "      <th>1</th>\n",
       "      <td>Data Analyst</td>\n",
       "      <td>Bangalore/Bengaluru, Mangaluru/Mangalore, Pune...</td>\n",
       "      <td>Coresight Research, Inc.</td>\n",
       "      <td>4-8</td>\n",
       "    </tr>\n",
       "    <tr>\n",
       "      <th>2</th>\n",
       "      <td>Data Analyst</td>\n",
       "      <td>Bangalore/Bengaluru</td>\n",
       "      <td>Varite</td>\n",
       "      <td>2-5</td>\n",
       "    </tr>\n",
       "    <tr>\n",
       "      <th>3</th>\n",
       "      <td>Data Analyst - CRM Platform</td>\n",
       "      <td>Bangalore/Bengaluru, Mumbai, Hyderabad/Secunde...</td>\n",
       "      <td>Artech infosystem</td>\n",
       "      <td>1-6</td>\n",
       "    </tr>\n",
       "    <tr>\n",
       "      <th>4</th>\n",
       "      <td>Data Analyst</td>\n",
       "      <td>Bangalore/Bengaluru</td>\n",
       "      <td>Jar</td>\n",
       "      <td>0-4</td>\n",
       "    </tr>\n",
       "  </tbody>\n",
       "</table>\n",
       "</div>"
      ],
      "text/plain": [
       "                         Title  \\\n",
       "0          Senior Data Analyst   \n",
       "1                 Data Analyst   \n",
       "2                 Data Analyst   \n",
       "3  Data Analyst - CRM Platform   \n",
       "4                 Data Analyst   \n",
       "\n",
       "                                            Location  \\\n",
       "0                       Bangalore/Bengaluru, Chennai   \n",
       "1  Bangalore/Bengaluru, Mangaluru/Mangalore, Pune...   \n",
       "2                                Bangalore/Bengaluru   \n",
       "3  Bangalore/Bengaluru, Mumbai, Hyderabad/Secunde...   \n",
       "4                                Bangalore/Bengaluru   \n",
       "\n",
       "                    Company Experience  \n",
       "0                Latentview        3-6  \n",
       "1  Coresight Research, Inc.        4-8  \n",
       "2                    Varite        2-5  \n",
       "3         Artech infosystem        1-6  \n",
       "4                       Jar        0-4  "
      ]
     },
     "execution_count": 276,
     "metadata": {},
     "output_type": "execute_result"
    }
   ],
   "source": [
    "df=pd.DataFrame({'Title':job_title,'Location':job_location,'Company':company_name,'Experience':exp})\n",
    "df.head()"
   ]
  },
  {
   "cell_type": "code",
   "execution_count": 107,
   "id": "4cd64551",
   "metadata": {},
   "outputs": [
    {
     "data": {
      "text/plain": [
       "(10, 4)"
      ]
     },
     "execution_count": 107,
     "metadata": {},
     "output_type": "execute_result"
    }
   ],
   "source": [
    "df.shape"
   ]
  },
  {
   "cell_type": "markdown",
   "id": "87a26cb3",
   "metadata": {},
   "source": [
    "# Q2: Write a python program to scrape data for “Data Scientist” Job position in “Bangalore” location."
   ]
  },
  {
   "cell_type": "code",
   "execution_count": 34,
   "id": "dd295c45",
   "metadata": {},
   "outputs": [],
   "source": [
    "driver=webdriver.Chrome(r\"C:\\Users\\RedPr\\Downloads\\chromedriver_win32\\chromedriver.exe\")"
   ]
  },
  {
   "cell_type": "code",
   "execution_count": 35,
   "id": "955e16e0",
   "metadata": {},
   "outputs": [],
   "source": [
    "driver.get(\"https://www.naukri.com/\")"
   ]
  },
  {
   "cell_type": "markdown",
   "id": "9ced6677",
   "metadata": {},
   "source": [
    "Send \"Data Scientist\" text to search box"
   ]
  },
  {
   "cell_type": "code",
   "execution_count": 36,
   "id": "0bc97b4d",
   "metadata": {},
   "outputs": [],
   "source": [
    "designation=driver.find_element(By.CLASS_NAME,\"suggestor-input\")\n",
    "designation.send_keys(\"Data Scientist\")"
   ]
  },
  {
   "cell_type": "markdown",
   "id": "b74d8dec",
   "metadata": {},
   "source": [
    "Choose \"Bangalore\" as location."
   ]
  },
  {
   "cell_type": "code",
   "execution_count": 37,
   "id": "da78f321",
   "metadata": {},
   "outputs": [],
   "source": [
    "location=driver.find_element(By.XPATH,\"/html/body/div[1]/div[6]/div/div/div[5]/div/div/div/input\")\n",
    "location.send_keys(\"Bangalore\")"
   ]
  },
  {
   "cell_type": "markdown",
   "id": "285dcb37",
   "metadata": {},
   "source": [
    "Submit the search."
   ]
  },
  {
   "cell_type": "code",
   "execution_count": 38,
   "id": "49aa80ab",
   "metadata": {},
   "outputs": [],
   "source": [
    "search=driver.find_element(By.CLASS_NAME,\"qsbSubmit\")\n",
    "search.click()"
   ]
  },
  {
   "cell_type": "code",
   "execution_count": 39,
   "id": "b329cfc2",
   "metadata": {},
   "outputs": [],
   "source": [
    "job_titl=[]\n",
    "job_locatio=[]\n",
    "company_nam=[]\n"
   ]
  },
  {
   "cell_type": "markdown",
   "id": "721be311",
   "metadata": {},
   "source": [
    "Extract the information."
   ]
  },
  {
   "cell_type": "code",
   "execution_count": 40,
   "id": "bdc49ac9",
   "metadata": {},
   "outputs": [],
   "source": [
    "title_tags=driver.find_elements(By.XPATH,'//a[@class=\"title fw500 ellipsis\"]')\n",
    "for i in title_tags[0:10]:\n",
    "    title=i.text\n",
    "    job_titl.append(title)\n",
    "    \n",
    "location_tags=driver.find_elements(By.XPATH,'//li[@class=\"fleft grey-text br2 placeHolderLi location\"]')\n",
    "for i in location_tags[0:10]:\n",
    "    location=i.text\n",
    "    job_locatio.append(location)\n",
    "    \n",
    "company_tags=driver.find_elements(By.XPATH,'//a[@class=\"subTitle ellipsis fleft\"]')\n",
    "for i in company_tags[0:10]:\n",
    "    company=i.text\n",
    "    company_nam.append(company)\n",
    "    \n"
   ]
  },
  {
   "cell_type": "code",
   "execution_count": 42,
   "id": "ba104e42",
   "metadata": {},
   "outputs": [
    {
     "data": {
      "text/html": [
       "<div>\n",
       "<style scoped>\n",
       "    .dataframe tbody tr th:only-of-type {\n",
       "        vertical-align: middle;\n",
       "    }\n",
       "\n",
       "    .dataframe tbody tr th {\n",
       "        vertical-align: top;\n",
       "    }\n",
       "\n",
       "    .dataframe thead th {\n",
       "        text-align: right;\n",
       "    }\n",
       "</style>\n",
       "<table border=\"1\" class=\"dataframe\">\n",
       "  <thead>\n",
       "    <tr style=\"text-align: right;\">\n",
       "      <th></th>\n",
       "      <th>Title</th>\n",
       "      <th>Location</th>\n",
       "      <th>Company</th>\n",
       "    </tr>\n",
       "  </thead>\n",
       "  <tbody>\n",
       "    <tr>\n",
       "      <th>0</th>\n",
       "      <td>Data Science Specialist</td>\n",
       "      <td>Bangalore/Bengaluru, Kolkata, Mumbai, Hyderaba...</td>\n",
       "      <td>Accenture</td>\n",
       "    </tr>\n",
       "    <tr>\n",
       "      <th>1</th>\n",
       "      <td>Data Science Manager</td>\n",
       "      <td>Bangalore/Bengaluru, Kolkata, Mumbai, Hyderaba...</td>\n",
       "      <td>Accenture</td>\n",
       "    </tr>\n",
       "    <tr>\n",
       "      <th>2</th>\n",
       "      <td>Mongodb Database Administrator, Maria DB or Ca...</td>\n",
       "      <td>Bangalore/Bengaluru, Hyderabad/Secunderabad, P...</td>\n",
       "      <td>Mphasis</td>\n",
       "    </tr>\n",
       "    <tr>\n",
       "      <th>3</th>\n",
       "      <td>Analystics &amp; Modeling Specialist</td>\n",
       "      <td>Bangalore/Bengaluru, Kolkata, Mumbai, Hyderaba...</td>\n",
       "      <td>Accenture</td>\n",
       "    </tr>\n",
       "    <tr>\n",
       "      <th>4</th>\n",
       "      <td>Assistant Manager - Data Science</td>\n",
       "      <td>Bangalore/Bengaluru, Mumbai, Pune</td>\n",
       "      <td>CitiusTech</td>\n",
       "    </tr>\n",
       "  </tbody>\n",
       "</table>\n",
       "</div>"
      ],
      "text/plain": [
       "                                               Title  \\\n",
       "0                            Data Science Specialist   \n",
       "1                               Data Science Manager   \n",
       "2  Mongodb Database Administrator, Maria DB or Ca...   \n",
       "3                   Analystics & Modeling Specialist   \n",
       "4                   Assistant Manager - Data Science   \n",
       "\n",
       "                                            Location     Company  \n",
       "0  Bangalore/Bengaluru, Kolkata, Mumbai, Hyderaba...   Accenture  \n",
       "1  Bangalore/Bengaluru, Kolkata, Mumbai, Hyderaba...   Accenture  \n",
       "2  Bangalore/Bengaluru, Hyderabad/Secunderabad, P...     Mphasis  \n",
       "3  Bangalore/Bengaluru, Kolkata, Mumbai, Hyderaba...   Accenture  \n",
       "4                  Bangalore/Bengaluru, Mumbai, Pune  CitiusTech  "
      ]
     },
     "execution_count": 42,
     "metadata": {},
     "output_type": "execute_result"
    }
   ],
   "source": [
    "df2=pd.DataFrame({'Title':job_titl,'Location':job_locatio,'Company':company_nam})\n",
    "df2.head()"
   ]
  },
  {
   "cell_type": "code",
   "execution_count": 106,
   "id": "d645fb78",
   "metadata": {},
   "outputs": [
    {
     "data": {
      "text/plain": [
       "(10, 3)"
      ]
     },
     "execution_count": 106,
     "metadata": {},
     "output_type": "execute_result"
    }
   ],
   "source": [
    "df2.shape"
   ]
  },
  {
   "cell_type": "markdown",
   "id": "75da5358",
   "metadata": {},
   "source": [
    "# Q3: Scrape data on Naukri using the filters available on the webpage"
   ]
  },
  {
   "cell_type": "code",
   "execution_count": 277,
   "id": "b3ff530c",
   "metadata": {},
   "outputs": [],
   "source": [
    "driver=webdriver.Chrome(r\"C:\\Users\\RedPr\\Downloads\\chromedriver_win32\\chromedriver.exe\")\n",
    "driver.get(\"https://www.naukri.com/\")"
   ]
  },
  {
   "cell_type": "markdown",
   "id": "4a2344cf",
   "metadata": {},
   "source": [
    "Send \"Data Scientist\" text to search box"
   ]
  },
  {
   "cell_type": "code",
   "execution_count": 278,
   "id": "5cd6fe24",
   "metadata": {},
   "outputs": [],
   "source": [
    "designation=driver.find_element(By.CLASS_NAME,\"suggestor-input\")\n",
    "designation.send_keys(\"Data Scientist\")"
   ]
  },
  {
   "cell_type": "markdown",
   "id": "bd35a018",
   "metadata": {},
   "source": [
    "Submit the search"
   ]
  },
  {
   "cell_type": "code",
   "execution_count": 279,
   "id": "6c45450d",
   "metadata": {},
   "outputs": [],
   "source": [
    "search=driver.find_element(By.CLASS_NAME,\"qsbSubmit\")\n",
    "search.click()\n",
    "driver.implicitly_wait(5)"
   ]
  },
  {
   "cell_type": "markdown",
   "id": "098fbe99",
   "metadata": {},
   "source": [
    "Using filter (location:Delhi/NCR, Salary:3-5lakh) "
   ]
  },
  {
   "cell_type": "code",
   "execution_count": 280,
   "id": "3f29f8c5",
   "metadata": {},
   "outputs": [],
   "source": [
    "filter_loc=driver.find_element(By.XPATH,\"/html/body/div[1]/div[4]/div/section[1]/div[2]/div[5]/div[2]/div[3]/label/i\")\n",
    "filter_loc.click()\n",
    "driver.implicitly_wait(5)"
   ]
  },
  {
   "cell_type": "code",
   "execution_count": 281,
   "id": "d5fda7e3",
   "metadata": {},
   "outputs": [],
   "source": [
    "filter_sal=driver.find_element(By.XPATH,\"/html/body/div[1]/div[4]/div/section[1]/div[2]/div[6]/div[2]/div[2]/label/i\")\n",
    "filter_sal.click()"
   ]
  },
  {
   "cell_type": "code",
   "execution_count": 282,
   "id": "dc130d74",
   "metadata": {},
   "outputs": [],
   "source": [
    "job_tit=[]\n",
    "job_locati=[]\n",
    "company_na=[]\n",
    "sal_na=[]\n"
   ]
  },
  {
   "cell_type": "code",
   "execution_count": 283,
   "id": "be7c8869",
   "metadata": {},
   "outputs": [],
   "source": [
    "title_tags=driver.find_elements(By.XPATH,'//a[@class=\"title fw500 ellipsis\"]')\n",
    "for i in title_tags[0:10]:\n",
    "    title=i.text\n",
    "    job_tit.append(title)\n",
    "    \n",
    "location_tags=driver.find_elements(By.XPATH,'//li[@class=\"fleft grey-text br2 placeHolderLi location\"]')\n",
    "for i in location_tags[0:10]:\n",
    "    location=i.text\n",
    "    job_locati.append(location)\n",
    "    \n",
    "company_tags=driver.find_elements(By.XPATH,'//a[@class=\"subTitle ellipsis fleft\"]')\n",
    "for i in company_tags[0:10]:\n",
    "    company=i.text\n",
    "    company_na.append(company)\n",
    "\n",
    "salary_tags=driver.find_elements(By.XPATH,'//li[@class=\"fleft grey-text br2 placeHolderLi salary\"]')\n",
    "for i in salary_tags[0:10]:\n",
    "    salary=i.text\n",
    "    sal_na.append(salary)\n"
   ]
  },
  {
   "cell_type": "markdown",
   "id": "21b7f935",
   "metadata": {},
   "source": [
    "Remove \"PA\" from sal_na list"
   ]
  },
  {
   "cell_type": "code",
   "execution_count": 287,
   "id": "75fe691e",
   "metadata": {},
   "outputs": [],
   "source": [
    "s=[]\n",
    "for i in sal_na:\n",
    "    s.append(i[:-3])"
   ]
  },
  {
   "cell_type": "code",
   "execution_count": 292,
   "id": "a3240280",
   "metadata": {
    "scrolled": true
   },
   "outputs": [
    {
     "data": {
      "text/html": [
       "<div>\n",
       "<style scoped>\n",
       "    .dataframe tbody tr th:only-of-type {\n",
       "        vertical-align: middle;\n",
       "    }\n",
       "\n",
       "    .dataframe tbody tr th {\n",
       "        vertical-align: top;\n",
       "    }\n",
       "\n",
       "    .dataframe thead th {\n",
       "        text-align: right;\n",
       "    }\n",
       "</style>\n",
       "<table border=\"1\" class=\"dataframe\">\n",
       "  <thead>\n",
       "    <tr style=\"text-align: right;\">\n",
       "      <th></th>\n",
       "      <th>Title</th>\n",
       "      <th>Location</th>\n",
       "      <th>Company</th>\n",
       "      <th>Salary PA ₹</th>\n",
       "    </tr>\n",
       "  </thead>\n",
       "  <tbody>\n",
       "    <tr>\n",
       "      <th>0</th>\n",
       "      <td>Data Scientist</td>\n",
       "      <td>Noida, Nagpur, Bangalore/Bengaluru</td>\n",
       "      <td>GlobalLogic</td>\n",
       "      <td>3,00,000 - 4,50,000</td>\n",
       "    </tr>\n",
       "    <tr>\n",
       "      <th>1</th>\n",
       "      <td>DigitalBCG GAMMA Data Scientist</td>\n",
       "      <td>New Delhi, Bangalore/Bengaluru</td>\n",
       "      <td>Boston Consulting Group</td>\n",
       "      <td>Not disclo</td>\n",
       "    </tr>\n",
       "    <tr>\n",
       "      <th>2</th>\n",
       "      <td>Data Scientist</td>\n",
       "      <td>Gurgaon/Gurugram</td>\n",
       "      <td>IHS Markit</td>\n",
       "      <td>Not disclo</td>\n",
       "    </tr>\n",
       "    <tr>\n",
       "      <th>3</th>\n",
       "      <td>Lead Data Scientist</td>\n",
       "      <td>Noida(Sector-59 Noida)\\n(WFH during Covid)</td>\n",
       "      <td>R Systems International</td>\n",
       "      <td>Not disclo</td>\n",
       "    </tr>\n",
       "    <tr>\n",
       "      <th>4</th>\n",
       "      <td>Data Scientist</td>\n",
       "      <td>Gurgaon/Gurugram</td>\n",
       "      <td>Optum</td>\n",
       "      <td>Not disclo</td>\n",
       "    </tr>\n",
       "  </tbody>\n",
       "</table>\n",
       "</div>"
      ],
      "text/plain": [
       "                             Title  \\\n",
       "0                   Data Scientist   \n",
       "1  DigitalBCG GAMMA Data Scientist   \n",
       "2                   Data Scientist   \n",
       "3              Lead Data Scientist   \n",
       "4                   Data Scientist   \n",
       "\n",
       "                                     Location                  Company  \\\n",
       "0          Noida, Nagpur, Bangalore/Bengaluru              GlobalLogic   \n",
       "1              New Delhi, Bangalore/Bengaluru  Boston Consulting Group   \n",
       "2                            Gurgaon/Gurugram               IHS Markit   \n",
       "3  Noida(Sector-59 Noida)\\n(WFH during Covid)  R Systems International   \n",
       "4                            Gurgaon/Gurugram                    Optum   \n",
       "\n",
       "           Salary PA ₹   \n",
       "0  3,00,000 - 4,50,000   \n",
       "1            Not disclo  \n",
       "2            Not disclo  \n",
       "3            Not disclo  \n",
       "4            Not disclo  "
      ]
     },
     "execution_count": 292,
     "metadata": {},
     "output_type": "execute_result"
    }
   ],
   "source": [
    "df3=pd.DataFrame({'Title':job_tit,'Location':job_locati,'Company':company_na,'Salary PA ₹ ':s})\n",
    "df3.head()"
   ]
  },
  {
   "cell_type": "code",
   "execution_count": 108,
   "id": "cac1d451",
   "metadata": {},
   "outputs": [
    {
     "data": {
      "text/plain": [
       "(10, 4)"
      ]
     },
     "execution_count": 108,
     "metadata": {},
     "output_type": "execute_result"
    }
   ],
   "source": [
    "df3.shape"
   ]
  },
  {
   "cell_type": "markdown",
   "id": "9bfdfdc8",
   "metadata": {},
   "source": [
    "# Q4: Scrape data of first 100 sunglasses listings on flipkart.com. "
   ]
  },
  {
   "cell_type": "code",
   "execution_count": 175,
   "id": "23461a3e",
   "metadata": {},
   "outputs": [],
   "source": [
    "driver=webdriver.Chrome(r\"C:\\Users\\RedPr\\Downloads\\chromedriver_win32\\chromedriver.exe\")\n",
    "driver.get(\"https://www.flipkart.com/\")"
   ]
  },
  {
   "cell_type": "markdown",
   "id": "e41f5634",
   "metadata": {},
   "source": [
    "Search for \"Sunglasses\""
   ]
  },
  {
   "cell_type": "code",
   "execution_count": 176,
   "id": "1663761b",
   "metadata": {},
   "outputs": [],
   "source": [
    "search_text=driver.find_element(By.CLASS_NAME,\"_3704LK\")\n",
    "search_text.send_keys(\"Sunglasses\")\n",
    "driver.implicitly_wait(5)"
   ]
  },
  {
   "cell_type": "markdown",
   "id": "5b3d9927",
   "metadata": {},
   "source": [
    "Sumbit the search"
   ]
  },
  {
   "cell_type": "code",
   "execution_count": 178,
   "id": "9466009a",
   "metadata": {},
   "outputs": [],
   "source": [
    "search=driver.find_element(By.CLASS_NAME,\"L0Z3Pu\")\n",
    "search.click()"
   ]
  },
  {
   "cell_type": "code",
   "execution_count": 179,
   "id": "fa9bcd2e",
   "metadata": {},
   "outputs": [],
   "source": [
    "brand=[]\n",
    "des=[]\n",
    "price=[]\n"
   ]
  },
  {
   "cell_type": "code",
   "execution_count": 180,
   "id": "8f151e1b",
   "metadata": {},
   "outputs": [],
   "source": [
    "start=0\n",
    "end=3\n",
    "for page in range(start,end):\n",
    "    title_tags=driver.find_elements(By.XPATH,'//div[@class=\"_2WkVRV\"]')\n",
    "    for i in title_tags[0:100]: \n",
    "        title=i.text\n",
    "        brand.append(title)\n",
    "    \n",
    "    description_tags=driver.find_elements(By.XPATH,'//a[@class=\"IRpwTa\"]')\n",
    "    for i in description_tags[0:100]:\n",
    "        titl=i.text\n",
    "        des.append(titl) \n",
    "\n",
    "\n",
    "    price_tags=driver.find_elements(By.XPATH,'//div[@class=\"_30jeq3\"]')\n",
    "    for i in price_tags[0:100]:\n",
    "        ti=i.text\n",
    "        price.append(ti)\n",
    "        \n",
    "    next_button=driver.find_element(By.XPATH,'//a[@class=\"_1LKTO3\"]')\n",
    "    next_button.click()\n",
    "    time.sleep(5)\n"
   ]
  },
  {
   "cell_type": "code",
   "execution_count": 183,
   "id": "dd02c5b2",
   "metadata": {},
   "outputs": [],
   "source": [
    "del brand[100:]\n",
    "del des[100:]\n",
    "del price[100:]"
   ]
  },
  {
   "cell_type": "code",
   "execution_count": 186,
   "id": "eed91bca",
   "metadata": {},
   "outputs": [],
   "source": [
    "p=[]\n",
    "for i in price:\n",
    "    p.append(i[1:])"
   ]
  },
  {
   "cell_type": "code",
   "execution_count": 188,
   "id": "b2de3cd7",
   "metadata": {},
   "outputs": [
    {
     "data": {
      "text/html": [
       "<div>\n",
       "<style scoped>\n",
       "    .dataframe tbody tr th:only-of-type {\n",
       "        vertical-align: middle;\n",
       "    }\n",
       "\n",
       "    .dataframe tbody tr th {\n",
       "        vertical-align: top;\n",
       "    }\n",
       "\n",
       "    .dataframe thead th {\n",
       "        text-align: right;\n",
       "    }\n",
       "</style>\n",
       "<table border=\"1\" class=\"dataframe\">\n",
       "  <thead>\n",
       "    <tr style=\"text-align: right;\">\n",
       "      <th></th>\n",
       "      <th>Title</th>\n",
       "      <th>Description</th>\n",
       "      <th>Price ₹</th>\n",
       "    </tr>\n",
       "  </thead>\n",
       "  <tbody>\n",
       "    <tr>\n",
       "      <th>0</th>\n",
       "      <td>VINCENT CHASE</td>\n",
       "      <td>by Lenskart Polarized, UV Protection Cat-eye S...</td>\n",
       "      <td>999</td>\n",
       "    </tr>\n",
       "    <tr>\n",
       "      <th>1</th>\n",
       "      <td>SKYZA INDIA</td>\n",
       "      <td>UV Protection, Mirrored Spectacle Sunglasses (...</td>\n",
       "      <td>399</td>\n",
       "    </tr>\n",
       "    <tr>\n",
       "      <th>2</th>\n",
       "      <td>Fastrack</td>\n",
       "      <td>UV Protection Wayfarer Sunglasses (Free Size)</td>\n",
       "      <td>799</td>\n",
       "    </tr>\n",
       "    <tr>\n",
       "      <th>3</th>\n",
       "      <td>SHAAH COLLECTIONS</td>\n",
       "      <td>UV Protection Round Sunglasses (54)</td>\n",
       "      <td>179</td>\n",
       "    </tr>\n",
       "    <tr>\n",
       "      <th>4</th>\n",
       "      <td>LIZA ANGEL</td>\n",
       "      <td>UV Protection Wayfarer Sunglasses (Free Size)</td>\n",
       "      <td>199</td>\n",
       "    </tr>\n",
       "  </tbody>\n",
       "</table>\n",
       "</div>"
      ],
      "text/plain": [
       "               Title                                        Description  \\\n",
       "0      VINCENT CHASE  by Lenskart Polarized, UV Protection Cat-eye S...   \n",
       "1        SKYZA INDIA  UV Protection, Mirrored Spectacle Sunglasses (...   \n",
       "2           Fastrack      UV Protection Wayfarer Sunglasses (Free Size)   \n",
       "3  SHAAH COLLECTIONS                UV Protection Round Sunglasses (54)   \n",
       "4         LIZA ANGEL      UV Protection Wayfarer Sunglasses (Free Size)   \n",
       "\n",
       "  Price ₹  \n",
       "0     999  \n",
       "1     399  \n",
       "2     799  \n",
       "3     179  \n",
       "4     199  "
      ]
     },
     "execution_count": 188,
     "metadata": {},
     "output_type": "execute_result"
    }
   ],
   "source": [
    "df4=pd.DataFrame({'Title':brand,'Description':des,'Price ₹':p})\n",
    "df4.head()"
   ]
  },
  {
   "cell_type": "code",
   "execution_count": 109,
   "id": "5763de63",
   "metadata": {},
   "outputs": [
    {
     "data": {
      "text/plain": [
       "(100, 3)"
      ]
     },
     "execution_count": 109,
     "metadata": {},
     "output_type": "execute_result"
    }
   ],
   "source": [
    "df4.shape"
   ]
  },
  {
   "cell_type": "markdown",
   "id": "1d5e3c06",
   "metadata": {},
   "source": [
    "# Q5: Scrape 100 reviews data from flipkart.com for iphone11 phone.\n"
   ]
  },
  {
   "cell_type": "code",
   "execution_count": 281,
   "id": "42985f19",
   "metadata": {},
   "outputs": [],
   "source": [
    "driver=webdriver.Chrome(r\"C:\\Users\\RedPr\\Downloads\\chromedriver_win32\\chromedriver.exe\")\n",
    "driver.get(\"https://www.flipkart.com/\")"
   ]
  },
  {
   "cell_type": "markdown",
   "id": "22ab07b2",
   "metadata": {},
   "source": [
    "Send \"iphone 11\" text to search."
   ]
  },
  {
   "cell_type": "code",
   "execution_count": 282,
   "id": "9da7d2d1",
   "metadata": {},
   "outputs": [],
   "source": [
    "search_text=driver.find_element(By.CLASS_NAME,\"_3704LK\")\n",
    "search_text.send_keys(\"iphone 11\")"
   ]
  },
  {
   "cell_type": "markdown",
   "id": "6f780733",
   "metadata": {},
   "source": [
    "Submit the search"
   ]
  },
  {
   "cell_type": "code",
   "execution_count": 283,
   "id": "50e64dda",
   "metadata": {},
   "outputs": [],
   "source": [
    "searching=driver.find_element(By.CLASS_NAME,\"L0Z3Pu\")\n",
    "searching.click()"
   ]
  },
  {
   "cell_type": "markdown",
   "id": "3bcef797",
   "metadata": {},
   "source": [
    "Select the first result appearing in the list of results."
   ]
  },
  {
   "cell_type": "code",
   "execution_count": 284,
   "id": "d5c3ec54",
   "metadata": {},
   "outputs": [],
   "source": [
    "result1=driver.find_element(By.CLASS_NAME,\"_4rR01T\")\n",
    "result1.click()"
   ]
  },
  {
   "attachments": {},
   "cell_type": "markdown",
   "id": "4f2a78f4",
   "metadata": {},
   "source": [
    "Extract url of text link that states \"All Reviews\" to get to review page."
   ]
  },
  {
   "cell_type": "code",
   "execution_count": 171,
   "id": "cbf3102a",
   "metadata": {},
   "outputs": [
    {
     "data": {
      "text/plain": [
       "['https://www.flipkart.com/apple-iphone-11-black-128-gb/product-reviews/itm8244e8d955aba?pid=MOBFWQ6BKRYBP5X8&lid=LSTMOBFWQ6BKRYBP5X8IBG6BS&marketplace=FLIPKART']"
      ]
     },
     "execution_count": 171,
     "metadata": {},
     "output_type": "execute_result"
    }
   ],
   "source": [
    "link=[]\n",
    "url=driver.find_elements(By.XPATH,'/html/body/div[1]/div/div[3]/div[1]/div[2]/div[9]/div[7]/div/a')\n",
    "for i in url:\n",
    "    link.append(i.get_attribute('href'))\n",
    "link"
   ]
  },
  {
   "cell_type": "code",
   "execution_count": 173,
   "id": "def65270",
   "metadata": {},
   "outputs": [],
   "source": [
    "for i in link:\n",
    "    driver.get(i)"
   ]
  },
  {
   "cell_type": "code",
   "execution_count": 288,
   "id": "c4854fba",
   "metadata": {},
   "outputs": [],
   "source": [
    "rating=[]\n",
    "rev_s=[]\n",
    "rev=[]\n"
   ]
  },
  {
   "cell_type": "code",
   "execution_count": 289,
   "id": "f129fd6a",
   "metadata": {},
   "outputs": [],
   "source": [
    "start=0\n",
    "end=10\n",
    "for page in range(start,end):\n",
    "    rating_tags=driver.find_elements(By.XPATH,'//div[@class=\"_3LWZlK _1BLPMq\"]')\n",
    "    for i in rating_tags[0:100]:\n",
    "        title=i.text\n",
    "        rating.append(title)\n",
    "    \n",
    "    summary_tags=driver.find_elements(By.XPATH,'//p[@class=\"_2-N8zT\"]')\n",
    "    for i in summary_tags[0:100]:\n",
    "        lo=i.text\n",
    "        rev_s.append(lo)\n",
    "    \n",
    "    review_tags=driver.find_elements(By.XPATH,'//div[@class=\"t-ZTKy\"]')\n",
    "    for i in review_tags[0:100]:\n",
    "        co=i.text\n",
    "        rev.append(co)\n",
    "    \n",
    "    next_button=driver.find_element(By.XPATH,'//a[@class=\"_1LKTO3\"]')\n",
    "    next_button.click()\n",
    "    time.sleep(5)\n",
    "\n",
    "\n",
    "\n"
   ]
  },
  {
   "cell_type": "code",
   "execution_count": 290,
   "id": "f19ef607",
   "metadata": {},
   "outputs": [
    {
     "data": {
      "text/html": [
       "<div>\n",
       "<style scoped>\n",
       "    .dataframe tbody tr th:only-of-type {\n",
       "        vertical-align: middle;\n",
       "    }\n",
       "\n",
       "    .dataframe tbody tr th {\n",
       "        vertical-align: top;\n",
       "    }\n",
       "\n",
       "    .dataframe thead th {\n",
       "        text-align: right;\n",
       "    }\n",
       "</style>\n",
       "<table border=\"1\" class=\"dataframe\">\n",
       "  <thead>\n",
       "    <tr style=\"text-align: right;\">\n",
       "      <th></th>\n",
       "      <th>Rating</th>\n",
       "      <th>Review_Summary</th>\n",
       "      <th>Full_Review</th>\n",
       "    </tr>\n",
       "  </thead>\n",
       "  <tbody>\n",
       "    <tr>\n",
       "      <th>0</th>\n",
       "      <td>4</td>\n",
       "      <td>Value-for-money</td>\n",
       "      <td>I'm Really happy with the product\\nDelivery wa...</td>\n",
       "    </tr>\n",
       "    <tr>\n",
       "      <th>1</th>\n",
       "      <td>5</td>\n",
       "      <td>Simply awesome</td>\n",
       "      <td>Really satisfied with the Product I received.....</td>\n",
       "    </tr>\n",
       "    <tr>\n",
       "      <th>2</th>\n",
       "      <td>5</td>\n",
       "      <td>Perfect product!</td>\n",
       "      <td>Amazing phone with great cameras and better ba...</td>\n",
       "    </tr>\n",
       "    <tr>\n",
       "      <th>3</th>\n",
       "      <td>5</td>\n",
       "      <td>Best in the market!</td>\n",
       "      <td>Great iPhone very snappy experience as apple k...</td>\n",
       "    </tr>\n",
       "    <tr>\n",
       "      <th>4</th>\n",
       "      <td>5</td>\n",
       "      <td>Worth every penny</td>\n",
       "      <td>Previously I was using one plus 3t it was a gr...</td>\n",
       "    </tr>\n",
       "  </tbody>\n",
       "</table>\n",
       "</div>"
      ],
      "text/plain": [
       "  Rating       Review_Summary  \\\n",
       "0      4      Value-for-money   \n",
       "1      5       Simply awesome   \n",
       "2      5     Perfect product!   \n",
       "3      5  Best in the market!   \n",
       "4      5    Worth every penny   \n",
       "\n",
       "                                         Full_Review  \n",
       "0  I'm Really happy with the product\\nDelivery wa...  \n",
       "1  Really satisfied with the Product I received.....  \n",
       "2  Amazing phone with great cameras and better ba...  \n",
       "3  Great iPhone very snappy experience as apple k...  \n",
       "4  Previously I was using one plus 3t it was a gr...  "
      ]
     },
     "execution_count": 290,
     "metadata": {},
     "output_type": "execute_result"
    }
   ],
   "source": [
    "df5=pd.DataFrame({'Rating':rating,'Review_Summary':rev_s,'Full_Review':rev})\n",
    "df5.head()"
   ]
  },
  {
   "cell_type": "code",
   "execution_count": 291,
   "id": "8729a719",
   "metadata": {},
   "outputs": [
    {
     "data": {
      "text/plain": [
       "(100, 3)"
      ]
     },
     "execution_count": 291,
     "metadata": {},
     "output_type": "execute_result"
    }
   ],
   "source": [
    "df5.shape"
   ]
  },
  {
   "cell_type": "markdown",
   "id": "8d4a72b6",
   "metadata": {},
   "source": [
    "# Q6: Scrape data for first 100 sneakers you find when you visit flipkart.com and search for “sneakers” in the search field.....\n"
   ]
  },
  {
   "cell_type": "code",
   "execution_count": 193,
   "id": "a2afb983",
   "metadata": {},
   "outputs": [],
   "source": [
    "driver=webdriver.Chrome(r\"C:\\Users\\RedPr\\Downloads\\chromedriver_win32\\chromedriver.exe\")\n",
    "driver.get(\"https://www.flipkart.com/\")"
   ]
  },
  {
   "cell_type": "markdown",
   "id": "08939edf",
   "metadata": {},
   "source": [
    "Search for \"sneakers\"."
   ]
  },
  {
   "cell_type": "code",
   "execution_count": 194,
   "id": "77c39e0b",
   "metadata": {},
   "outputs": [],
   "source": [
    "search_text=driver.find_element(By.CLASS_NAME,\"_3704LK\")\n",
    "search_text.send_keys(\"sneakers\")\n",
    "driver.implicitly_wait(5)"
   ]
  },
  {
   "cell_type": "markdown",
   "id": "39ac66bc",
   "metadata": {},
   "source": [
    "Submit the search."
   ]
  },
  {
   "cell_type": "code",
   "execution_count": 195,
   "id": "7b551b0d",
   "metadata": {},
   "outputs": [],
   "source": [
    "searching=driver.find_element(By.CLASS_NAME,\"L0Z3Pu\")\n",
    "searching.click()"
   ]
  },
  {
   "cell_type": "code",
   "execution_count": 196,
   "id": "946b31da",
   "metadata": {},
   "outputs": [],
   "source": [
    "brand=[]\n",
    "des=[]\n",
    "price=[]\n",
    "\n",
    "start=0\n",
    "end=3\n",
    "for page in range(start,end):\n",
    "    title_tags=driver.find_elements(By.XPATH,'//div[@class=\"_2WkVRV\"]')\n",
    "    for i in title_tags[0:100]: \n",
    "        title=i.text\n",
    "        brand.append(title)\n",
    "    \n",
    "    description_tags=driver.find_elements(By.XPATH,'//a[@class=\"IRpwTa\"]')\n",
    "    for i in description_tags[0:100]:\n",
    "        titl=i.text\n",
    "        des.append(titl) \n",
    "\n",
    "\n",
    "    price_tags=driver.find_elements(By.XPATH,'//div[@class=\"_30jeq3\"]')\n",
    "    for i in price_tags[0:100]:\n",
    "        ti=i.text\n",
    "        price.append(ti)\n",
    "        \n",
    "    next_button=driver.find_element(By.XPATH,'//a[@class=\"_1LKTO3\"]')\n",
    "    next_button.click()\n",
    "    time.sleep(5)\n",
    "\n"
   ]
  },
  {
   "cell_type": "code",
   "execution_count": 197,
   "id": "76db6348",
   "metadata": {},
   "outputs": [],
   "source": [
    "del brand[100:]\n",
    "del des[100:]\n",
    "del price[100:]"
   ]
  },
  {
   "cell_type": "code",
   "execution_count": 198,
   "id": "4568f9c4",
   "metadata": {},
   "outputs": [],
   "source": [
    "p=[]\n",
    "for i in price:\n",
    "    p.append(i[1:])"
   ]
  },
  {
   "cell_type": "code",
   "execution_count": 199,
   "id": "546f37be",
   "metadata": {},
   "outputs": [
    {
     "data": {
      "text/html": [
       "<div>\n",
       "<style scoped>\n",
       "    .dataframe tbody tr th:only-of-type {\n",
       "        vertical-align: middle;\n",
       "    }\n",
       "\n",
       "    .dataframe tbody tr th {\n",
       "        vertical-align: top;\n",
       "    }\n",
       "\n",
       "    .dataframe thead th {\n",
       "        text-align: right;\n",
       "    }\n",
       "</style>\n",
       "<table border=\"1\" class=\"dataframe\">\n",
       "  <thead>\n",
       "    <tr style=\"text-align: right;\">\n",
       "      <th></th>\n",
       "      <th>Company</th>\n",
       "      <th>Description</th>\n",
       "      <th>Price ₹</th>\n",
       "    </tr>\n",
       "  </thead>\n",
       "  <tbody>\n",
       "    <tr>\n",
       "      <th>0</th>\n",
       "      <td>K- FOOTLANCE</td>\n",
       "      <td>Sneakers For Men</td>\n",
       "      <td>466</td>\n",
       "    </tr>\n",
       "    <tr>\n",
       "      <th>1</th>\n",
       "      <td>Labbin</td>\n",
       "      <td>Sneakers For Men</td>\n",
       "      <td>499</td>\n",
       "    </tr>\n",
       "    <tr>\n",
       "      <th>2</th>\n",
       "      <td>BRUTON</td>\n",
       "      <td>Modern Trendy Shoes Sneakers For Men</td>\n",
       "      <td>470</td>\n",
       "    </tr>\n",
       "    <tr>\n",
       "      <th>3</th>\n",
       "      <td>RED TAPE</td>\n",
       "      <td>Sneakers For Men</td>\n",
       "      <td>1,499</td>\n",
       "    </tr>\n",
       "    <tr>\n",
       "      <th>4</th>\n",
       "      <td>BRUTON</td>\n",
       "      <td>Lightweight Pack Of 1 Trendy Sneakers Sneakers...</td>\n",
       "      <td>259</td>\n",
       "    </tr>\n",
       "  </tbody>\n",
       "</table>\n",
       "</div>"
      ],
      "text/plain": [
       "        Company                                        Description Price ₹\n",
       "0  K- FOOTLANCE                                   Sneakers For Men     466\n",
       "1        Labbin                                   Sneakers For Men     499\n",
       "2        BRUTON               Modern Trendy Shoes Sneakers For Men     470\n",
       "3      RED TAPE                                   Sneakers For Men   1,499\n",
       "4        BRUTON  Lightweight Pack Of 1 Trendy Sneakers Sneakers...     259"
      ]
     },
     "execution_count": 199,
     "metadata": {},
     "output_type": "execute_result"
    }
   ],
   "source": [
    "df6=pd.DataFrame({'Company':brand,'Description':des,'Price ₹':p})\n",
    "df6.head()"
   ]
  },
  {
   "cell_type": "code",
   "execution_count": 13,
   "id": "5557a9bb",
   "metadata": {},
   "outputs": [
    {
     "data": {
      "text/plain": [
       "(100, 3)"
      ]
     },
     "execution_count": 13,
     "metadata": {},
     "output_type": "execute_result"
    }
   ],
   "source": [
    "df6.shape"
   ]
  },
  {
   "cell_type": "markdown",
   "id": "31bcb92c",
   "metadata": {},
   "source": [
    "# Q7: Scrape data for first 100 sneakers you find when you visit myntra.com/shoes...\n"
   ]
  },
  {
   "cell_type": "code",
   "execution_count": 210,
   "id": "af2beaec",
   "metadata": {},
   "outputs": [],
   "source": [
    "driver=webdriver.Chrome(r\"C:\\Users\\RedPr\\Downloads\\chromedriver_win32\\chromedriver.exe\")\n",
    "driver.get(\"https://www.myntra.com/shoes\")\n",
    "driver.implicitly_wait(5)"
   ]
  },
  {
   "cell_type": "markdown",
   "id": "c18a234a",
   "metadata": {},
   "source": [
    "Select 2nd price option from the filter on left side bar."
   ]
  },
  {
   "cell_type": "code",
   "execution_count": 211,
   "id": "f631ff99",
   "metadata": {},
   "outputs": [],
   "source": [
    "new_co=driver.find_element(By.XPATH,\"/html/body/div[2]/div/div[1]/main/div[3]/div[1]/section/div/div[6]/ul/li[1]/label/div\")\n",
    "new_co.click()\n",
    "driver.implicitly_wait(5)"
   ]
  },
  {
   "cell_type": "markdown",
   "id": "417a8056",
   "metadata": {},
   "source": [
    "Select black color from filter."
   ]
  },
  {
   "cell_type": "code",
   "execution_count": 212,
   "id": "ac35e974",
   "metadata": {},
   "outputs": [],
   "source": [
    "filter_lo=driver.find_element(By.XPATH,\"/html/body/div[2]/div/div[1]/main/div[3]/div[1]/section/div/div[5]/ul/li[2]/label/div\")\n",
    "filter_lo.click()"
   ]
  },
  {
   "cell_type": "code",
   "execution_count": 213,
   "id": "182068d6",
   "metadata": {},
   "outputs": [],
   "source": [
    "brand_m=[]\n",
    "des_m=[]\n",
    "price_m=[]\n",
    "\n",
    "start=0\n",
    "end=3\n",
    "for page in range(start,end):\n",
    "    title_tags=driver.find_elements(By.XPATH,'//h3[@class=\"product-brand\"]')\n",
    "    for i in title_tags[0:100]: \n",
    "        b_m=i.text\n",
    "        brand_m.append(b_m)\n",
    "    \n",
    "    description_tags=driver.find_elements(By.XPATH,'//h4[@class=\"product-product\"]')\n",
    "    for i in description_tags[0:100]:\n",
    "        d_m=i.text\n",
    "        des_m.append(d_m) \n",
    "\n",
    "\n",
    "    price_tags=driver.find_elements(By.XPATH,'//div[@class=\"product-price\"]')\n",
    "    for i in price_tags[0:100]:\n",
    "        p_m=i.text\n",
    "        price_m.append(p_m)\n",
    "        \n",
    "    next_button=driver.find_element(By.XPATH,'//li[@class=\"pagination-next\"]')\n",
    "    next_button.click()\n",
    "    time.sleep(5)\n"
   ]
  },
  {
   "cell_type": "code",
   "execution_count": 214,
   "id": "8fc19083",
   "metadata": {},
   "outputs": [],
   "source": [
    "del brand_m[100:]\n",
    "del des_m[100:]\n",
    "del price_m[100:]"
   ]
  },
  {
   "cell_type": "markdown",
   "id": "0e25350e",
   "metadata": {},
   "source": [
    "Extract price and eliminate rest of the string"
   ]
  },
  {
   "cell_type": "code",
   "execution_count": 231,
   "id": "577b701b",
   "metadata": {},
   "outputs": [],
   "source": [
    "p=[]\n",
    "for i in price_m:\n",
    "    p.append(i[3:9])\n",
    "    \n",
    "b=[] \n",
    "for i in p:\n",
    "    b.append(i.translate({ord(i): None for i in 'R'}))"
   ]
  },
  {
   "cell_type": "code",
   "execution_count": 232,
   "id": "085078f4",
   "metadata": {},
   "outputs": [
    {
     "data": {
      "text/html": [
       "<div>\n",
       "<style scoped>\n",
       "    .dataframe tbody tr th:only-of-type {\n",
       "        vertical-align: middle;\n",
       "    }\n",
       "\n",
       "    .dataframe tbody tr th {\n",
       "        vertical-align: top;\n",
       "    }\n",
       "\n",
       "    .dataframe thead th {\n",
       "        text-align: right;\n",
       "    }\n",
       "</style>\n",
       "<table border=\"1\" class=\"dataframe\">\n",
       "  <thead>\n",
       "    <tr style=\"text-align: right;\">\n",
       "      <th></th>\n",
       "      <th>Company</th>\n",
       "      <th>Description</th>\n",
       "      <th>Price ₹</th>\n",
       "    </tr>\n",
       "  </thead>\n",
       "  <tbody>\n",
       "    <tr>\n",
       "      <th>0</th>\n",
       "      <td>Skechers</td>\n",
       "      <td>Men Go Walk Walking Shoes</td>\n",
       "      <td>6374</td>\n",
       "    </tr>\n",
       "    <tr>\n",
       "      <th>1</th>\n",
       "      <td>Skechers</td>\n",
       "      <td>Men GO WALK - TERRA Shoes</td>\n",
       "      <td>8499</td>\n",
       "    </tr>\n",
       "    <tr>\n",
       "      <th>2</th>\n",
       "      <td>Puma</td>\n",
       "      <td>Men Fuse 2.0 Training Shoes</td>\n",
       "      <td>6399</td>\n",
       "    </tr>\n",
       "    <tr>\n",
       "      <th>3</th>\n",
       "      <td>ADIDAS</td>\n",
       "      <td>Men 4DFWD_Pulse Running Shoes</td>\n",
       "      <td>11199</td>\n",
       "    </tr>\n",
       "    <tr>\n",
       "      <th>4</th>\n",
       "      <td>Skechers</td>\n",
       "      <td>Men Go Run Hyper Burst Running</td>\n",
       "      <td>7224</td>\n",
       "    </tr>\n",
       "  </tbody>\n",
       "</table>\n",
       "</div>"
      ],
      "text/plain": [
       "    Company                     Description Price ₹\n",
       "0  Skechers       Men Go Walk Walking Shoes    6374\n",
       "1  Skechers       Men GO WALK - TERRA Shoes    8499\n",
       "2      Puma     Men Fuse 2.0 Training Shoes    6399\n",
       "3    ADIDAS   Men 4DFWD_Pulse Running Shoes   11199\n",
       "4  Skechers  Men Go Run Hyper Burst Running    7224"
      ]
     },
     "execution_count": 232,
     "metadata": {},
     "output_type": "execute_result"
    }
   ],
   "source": [
    "df7=pd.DataFrame({'Company':brand_m,'Description':des_m,'Price ₹':b})\n",
    "df7.head()"
   ]
  },
  {
   "cell_type": "code",
   "execution_count": 78,
   "id": "bd4c5573",
   "metadata": {},
   "outputs": [
    {
     "data": {
      "text/plain": [
       "(100, 3)"
      ]
     },
     "execution_count": 78,
     "metadata": {},
     "output_type": "execute_result"
    }
   ],
   "source": [
    "df7.shape"
   ]
  },
  {
   "cell_type": "markdown",
   "id": "22121b4a",
   "metadata": {},
   "source": [
    "# Q8: Go to webpage ... Enter “Laptop” in the search field and then click the search icon....\n"
   ]
  },
  {
   "cell_type": "code",
   "execution_count": 134,
   "id": "9b5c9a62",
   "metadata": {},
   "outputs": [],
   "source": [
    "driver=webdriver.Chrome(r\"C:\\Users\\RedPr\\Downloads\\chromedriver_win32\\chromedriver.exe\")\n",
    "driver.get(\"https://www.amazon.in/\")"
   ]
  },
  {
   "cell_type": "markdown",
   "id": "08791048",
   "metadata": {},
   "source": [
    "Search \"Laptop\"."
   ]
  },
  {
   "cell_type": "code",
   "execution_count": 135,
   "id": "bf643b65",
   "metadata": {},
   "outputs": [],
   "source": [
    "search_text=driver.find_element(By.XPATH,\"/html/body/div[1]/header/div/div[1]/div[2]/div/form/div[2]/div[1]/input\")\n",
    "search_text.send_keys(\"Laptop\")"
   ]
  },
  {
   "cell_type": "markdown",
   "id": "a1741587",
   "metadata": {},
   "source": [
    "Submit the search."
   ]
  },
  {
   "cell_type": "code",
   "execution_count": 136,
   "id": "c7f2d1bf",
   "metadata": {},
   "outputs": [],
   "source": [
    "search=driver.find_element(By.XPATH,\"/html/body/div[1]/header/div/div[1]/div[2]/div/form/div[3]/div/span/input\")\n",
    "search.click()\n",
    "driver.implicitly_wait(5)"
   ]
  },
  {
   "cell_type": "markdown",
   "id": "c4ae15bf",
   "metadata": {},
   "source": [
    "Select i7 processor from left side bar filter."
   ]
  },
  {
   "cell_type": "code",
   "execution_count": 137,
   "id": "3fbe2bda",
   "metadata": {},
   "outputs": [],
   "source": [
    "filte=driver.find_element(By.XPATH,\"//span[text()='Intel Core i7']\")\n",
    "filte.click()\n"
   ]
  },
  {
   "cell_type": "markdown",
   "id": "0f30efbd",
   "metadata": {},
   "source": [
    "The displayed list of items in result has rating in an 5 star icon format which cannot be captured. Hence we fetch url of all the images of product on the list, then open each product page to get the required information."
   ]
  },
  {
   "cell_type": "code",
   "execution_count": 138,
   "id": "de50d019",
   "metadata": {},
   "outputs": [],
   "source": [
    "u=[]"
   ]
  },
  {
   "cell_type": "markdown",
   "id": "adc5885e",
   "metadata": {},
   "source": [
    "Get url of all the product."
   ]
  },
  {
   "cell_type": "code",
   "execution_count": 139,
   "id": "6c2f5f41",
   "metadata": {},
   "outputs": [],
   "source": [
    "url=driver.find_elements(By.XPATH,'//a[@class=\"a-link-normal s-no-outline\"]')\n",
    "end=30\n",
    "start=1\n",
    "for i in url[start:end]:\n",
    "    u.append(i.get_attribute('href'))"
   ]
  },
  {
   "cell_type": "code",
   "execution_count": 140,
   "id": "d439a637",
   "metadata": {},
   "outputs": [],
   "source": [
    "a=[]\n",
    "b=[]\n",
    "c=[]\n",
    "         "
   ]
  },
  {
   "cell_type": "markdown",
   "id": "662fd066",
   "metadata": {},
   "source": [
    "-variable s finds product name element\n",
    "\n",
    "-variable n finds product price element\n",
    "\n",
    "-variable nn finds product price element from different location (Incase variable n element is not available on the page as seen for some of the product pages).\n",
    "\n",
    "-variable z finds product rating \n",
    "\n",
    "-variable zz finds if no product rating exists (text) element"
   ]
  },
  {
   "cell_type": "code",
   "execution_count": 141,
   "id": "2353eccb",
   "metadata": {},
   "outputs": [],
   "source": [
    "for i in u:\n",
    "    driver.get(i)\n",
    "    s=driver.find_elements(By.XPATH,'//span[@class=\"a-size-large product-title-word-break\"]')\n",
    "    for i in s:\n",
    "        v=i.text\n",
    "        a.append(v)\n",
    "        \n",
    "        n=driver.find_elements(By.XPATH,'//span[@class=\"a-price aok-align-center reinventPricePriceToPayMargin priceToPay\"]')\n",
    "        for i in n[0:1]:\n",
    "            z=i.text\n",
    "            b.append(z)\n",
    "            \n",
    "        nn=driver.find_elements(By.XPATH,'//td[@class=\"a-span12\"]')\n",
    "        for i in nn:    \n",
    "            b.append(i.text)\n",
    "\n",
    "   \n",
    "        z=driver.find_elements(By.XPATH,'//div[@class=\"a-fixed-left-grid AverageCustomerReviews a-spacing-small\"]')\n",
    "        for i in z:\n",
    "            c.append(i.text)\n",
    "            \n",
    "        zz=driver.find_elements(By.XPATH,'//h3[@class=\"a-spacing-small\"]')\n",
    "        for i in zz:\n",
    "            c.append(i.text)\n",
    "\n",
    "          \n",
    "        \n"
   ]
  },
  {
   "cell_type": "code",
   "execution_count": 142,
   "id": "db23a0cb",
   "metadata": {},
   "outputs": [
    {
     "name": "stdout",
     "output_type": "stream",
     "text": [
      "29 29 33\n"
     ]
    }
   ],
   "source": [
    "print(len(a),len(b),len(c))"
   ]
  },
  {
   "cell_type": "markdown",
   "id": "092666fd",
   "metadata": {},
   "source": [
    "We separate unnecessary text appended with rating, thus reducing the length of list c."
   ]
  },
  {
   "cell_type": "code",
   "execution_count": 152,
   "id": "276e1818",
   "metadata": {},
   "outputs": [
    {
     "name": "stdout",
     "output_type": "stream",
     "text": [
      "29\n"
     ]
    }
   ],
   "source": [
    "d=[]\n",
    "for i in c:\n",
    "    if i[0].isdigit():  \n",
    "        d.append(i) \n",
    "    elif i=='No customer reviews':\n",
    "        d.append(i)\n",
    "        \n",
    "print(len(d))"
   ]
  },
  {
   "cell_type": "markdown",
   "id": "8a5fbcbd",
   "metadata": {},
   "source": [
    "We eliminate uncessary text (symbol of currency) appended with price tag."
   ]
  },
  {
   "cell_type": "code",
   "execution_count": 162,
   "id": "af96258e",
   "metadata": {},
   "outputs": [
    {
     "name": "stdout",
     "output_type": "stream",
     "text": [
      "29\n"
     ]
    }
   ],
   "source": [
    "e=[]\n",
    "for i in b:\n",
    "    if len(i)>9:\n",
    "        e.append(i[1:-16])\n",
    "    else:\n",
    "        e.append(i[1:])\n",
    "\n",
    "print(len(e))             "
   ]
  },
  {
   "cell_type": "code",
   "execution_count": 164,
   "id": "45e7e99a",
   "metadata": {},
   "outputs": [
    {
     "data": {
      "text/html": [
       "<div>\n",
       "<style scoped>\n",
       "    .dataframe tbody tr th:only-of-type {\n",
       "        vertical-align: middle;\n",
       "    }\n",
       "\n",
       "    .dataframe tbody tr th {\n",
       "        vertical-align: top;\n",
       "    }\n",
       "\n",
       "    .dataframe thead th {\n",
       "        text-align: right;\n",
       "    }\n",
       "</style>\n",
       "<table border=\"1\" class=\"dataframe\">\n",
       "  <thead>\n",
       "    <tr style=\"text-align: right;\">\n",
       "      <th></th>\n",
       "      <th>Product</th>\n",
       "      <th>Price</th>\n",
       "      <th>Ratings</th>\n",
       "    </tr>\n",
       "  </thead>\n",
       "  <tbody>\n",
       "    <tr>\n",
       "      <th>0</th>\n",
       "      <td>ASUS Vivobook 15, 15.6-inch (39.62 cms) FHD, I...</td>\n",
       "      <td>64,990</td>\n",
       "      <td>3.7 out of 5</td>\n",
       "    </tr>\n",
       "    <tr>\n",
       "      <th>1</th>\n",
       "      <td>Fujitsu UH-X 11th Gen Intel Core i7 13.3\" FHD ...</td>\n",
       "      <td>1,00,00</td>\n",
       "      <td>4.2 out of 5</td>\n",
       "    </tr>\n",
       "    <tr>\n",
       "      <th>2</th>\n",
       "      <td>ASUS Zenbook 13 OLED, 13.3-inch (33.78 cms) FH...</td>\n",
       "      <td>93,290</td>\n",
       "      <td>4.2 out of 5</td>\n",
       "    </tr>\n",
       "    <tr>\n",
       "      <th>3</th>\n",
       "      <td>Lenovo IdeaPad Slim 5 Intel Core i7 12th Gen 1...</td>\n",
       "      <td>79,99</td>\n",
       "      <td>4.4 out of 5</td>\n",
       "    </tr>\n",
       "    <tr>\n",
       "      <th>4</th>\n",
       "      <td>ASUS Vivobook 15, 15.6-inch (39.62 cms) FHD, I...</td>\n",
       "      <td>64,990</td>\n",
       "      <td>3.7 out of 5</td>\n",
       "    </tr>\n",
       "  </tbody>\n",
       "</table>\n",
       "</div>"
      ],
      "text/plain": [
       "                                             Product    Price       Ratings\n",
       "0  ASUS Vivobook 15, 15.6-inch (39.62 cms) FHD, I...   64,990  3.7 out of 5\n",
       "1  Fujitsu UH-X 11th Gen Intel Core i7 13.3\" FHD ...  1,00,00  4.2 out of 5\n",
       "2  ASUS Zenbook 13 OLED, 13.3-inch (33.78 cms) FH...   93,290  4.2 out of 5\n",
       "3  Lenovo IdeaPad Slim 5 Intel Core i7 12th Gen 1...    79,99  4.4 out of 5\n",
       "4  ASUS Vivobook 15, 15.6-inch (39.62 cms) FHD, I...   64,990  3.7 out of 5"
      ]
     },
     "execution_count": 164,
     "metadata": {},
     "output_type": "execute_result"
    }
   ],
   "source": [
    "df=pd.DataFrame({\"Product\":a,\"Price\":e,\"Ratings\":d})\n",
    "df.head()"
   ]
  },
  {
   "cell_type": "code",
   "execution_count": 158,
   "id": "4a880e70",
   "metadata": {},
   "outputs": [
    {
     "data": {
      "text/plain": [
       "(29, 3)"
      ]
     },
     "execution_count": 158,
     "metadata": {},
     "output_type": "execute_result"
    }
   ],
   "source": [
    "df.shape"
   ]
  },
  {
   "cell_type": "markdown",
   "id": "da83da16",
   "metadata": {},
   "source": [
    "# Q9: Write a python program to scrape data for first 10 job results for Data Scientist Designation in Noida...."
   ]
  },
  {
   "cell_type": "code",
   "execution_count": 250,
   "id": "4ac1f9d3",
   "metadata": {},
   "outputs": [],
   "source": [
    "driver=webdriver.Chrome(r\"C:\\Users\\RedPr\\Downloads\\chromedriver_win32\\chromedriver.exe\")\n",
    "driver.get(\"https://www.ambitionbox.com/\")\n",
    "driver.implicitly_wait(5)"
   ]
  },
  {
   "cell_type": "markdown",
   "id": "0629bb2c",
   "metadata": {},
   "source": [
    "Select job from webpage header menu."
   ]
  },
  {
   "cell_type": "code",
   "execution_count": 252,
   "id": "3f370aaa",
   "metadata": {},
   "outputs": [],
   "source": [
    "designation=driver.find_element(By.XPATH,\"/html/body/div/div/div/div[1]/header/nav/ul/li[5]/a\")\n",
    "designation.click()\n",
    "driver.implicitly_wait(5)"
   ]
  },
  {
   "cell_type": "markdown",
   "id": "b1aa0dbb",
   "metadata": {},
   "source": [
    "Search \"Data Scientist\""
   ]
  },
  {
   "cell_type": "code",
   "execution_count": 253,
   "id": "e0153275",
   "metadata": {},
   "outputs": [],
   "source": [
    "designation2=driver.find_element(By.XPATH,\"/html/body/div/div/div/div[2]/div[1]/div[1]/div/div/div/div/span/input\")\n",
    "designation2.send_keys(\"Data Scientist\")"
   ]
  },
  {
   "cell_type": "markdown",
   "id": "a75f1027",
   "metadata": {},
   "source": [
    "Submit the search."
   ]
  },
  {
   "cell_type": "code",
   "execution_count": 116,
   "id": "6ae02d71",
   "metadata": {},
   "outputs": [],
   "source": [
    "designation3=driver.find_element(By.XPATH,\"/html/body/div/div/div/div[2]/div[1]/div[1]/div/div/div/button\")\n",
    "designation3.click()\n",
    "driver.implicitly_wait(5)"
   ]
  },
  {
   "cell_type": "markdown",
   "id": "bf161aa1",
   "metadata": {},
   "source": [
    "Select \"Location\" drop menu."
   ]
  },
  {
   "cell_type": "code",
   "execution_count": 117,
   "id": "f538d6d4",
   "metadata": {},
   "outputs": [],
   "source": [
    "designation4=driver.find_element(By.XPATH,\"/html/body/div/div/div/div[2]/div[1]/div[2]/div[1]/div/div/div/div[2]/div[1]/i\")\n",
    "designation4.click()"
   ]
  },
  {
   "cell_type": "markdown",
   "id": "e2fdec32",
   "metadata": {},
   "source": [
    "Search \"Noida\"."
   ]
  },
  {
   "cell_type": "code",
   "execution_count": 118,
   "id": "1b64d25a",
   "metadata": {},
   "outputs": [],
   "source": [
    "designation5=driver.find_element(By.XPATH,\"/html/body/div/div/div/div[2]/div[1]/div[2]/div[1]/div/div/div/div[2]/div[2]/div/div[2]/input\")\n",
    "designation5.send_keys(\"Noida\")"
   ]
  },
  {
   "cell_type": "markdown",
   "id": "7eb73f8e",
   "metadata": {},
   "source": [
    "Submit the search"
   ]
  },
  {
   "cell_type": "code",
   "execution_count": 120,
   "id": "22e9541a",
   "metadata": {},
   "outputs": [],
   "source": [
    "designation6=driver.find_element(By.XPATH,\"/html/body/div/div/div/div[2]/div[1]/div[2]/div[1]/div/div/div/div[2]/div[2]/div/div[3]/div[1]/div[1]/div/label\")\n",
    "designation6.click()"
   ]
  },
  {
   "cell_type": "code",
   "execution_count": 239,
   "id": "b04f5346",
   "metadata": {},
   "outputs": [],
   "source": [
    "name=[]\n",
    "d_posted=[]\n",
    "rating=[]\n"
   ]
  },
  {
   "attachments": {
    "9.JPG": {
     "image/jpeg": "[encoded data removed]"
    }
   },
   "cell_type": "markdown",
   "id": "bf0d5ae3",
   "metadata": {},
   "source": [
    "Cannot be solved further as selenium browser denies access to rate(sign-in) page.\n",
    "\n",
    "![9.JPG](attachment:9.JPG)"
   ]
  },
  {
   "cell_type": "markdown",
   "id": "0e501e45",
   "metadata": {},
   "source": [
    "# Q10: Write a python program to scrape the salary data for Data Scientist designation...."
   ]
  },
  {
   "cell_type": "code",
   "execution_count": 293,
   "id": "0a286504",
   "metadata": {},
   "outputs": [],
   "source": [
    "driver=webdriver.Chrome(r\"C:\\Users\\RedPr\\Downloads\\chromedriver_win32\\chromedriver.exe\")\n",
    "driver.get(\"https://www.ambitionbox.com/\")"
   ]
  },
  {
   "cell_type": "markdown",
   "id": "d4ccb3f2",
   "metadata": {},
   "source": [
    "We first go to the job option located in the header menu of the website."
   ]
  },
  {
   "cell_type": "code",
   "execution_count": 294,
   "id": "43365d99",
   "metadata": {},
   "outputs": [],
   "source": [
    "designation=driver.find_element(By.XPATH,\"/html/body/div/div/div/div[1]/header/nav/ul/li[3]/i\")\n",
    "designation.click()\n",
    "driver.implicitly_wait(5)"
   ]
  },
  {
   "cell_type": "markdown",
   "id": "7d5320dc",
   "metadata": {},
   "source": [
    "We then move to search box on the salary page."
   ]
  },
  {
   "cell_type": "code",
   "execution_count": 295,
   "id": "68944c18",
   "metadata": {},
   "outputs": [],
   "source": [
    "designation2=driver.find_element(By.XPATH,\"/html/body/div/div/div/div[1]/header/nav/ul/li[3]/div/ul/li[1]/div/div[2]/a\")\n",
    "designation2.click()\n",
    "driver.implicitly_wait(5)"
   ]
  },
  {
   "cell_type": "markdown",
   "id": "a4b1a4d5",
   "metadata": {},
   "source": [
    "We enter Data Scientist in search box and search for result."
   ]
  },
  {
   "cell_type": "code",
   "execution_count": 296,
   "id": "7ac5b470",
   "metadata": {},
   "outputs": [],
   "source": [
    "search=driver.find_element(By.XPATH,\"/html/body/div/div/div/main/section[1]/div[2]/div[1]/span/input\")\n",
    "search.send_keys(\"Data Scientist\")\n",
    "se=driver.find_element(By.XPATH,'/html/body/div/div/div/main/section[1]/div[2]/div[1]/i[2]')\n",
    "se.click()\n",
    "driver.implicitly_wait(5)"
   ]
  },
  {
   "cell_type": "code",
   "execution_count": 297,
   "id": "07e0153e",
   "metadata": {},
   "outputs": [],
   "source": [
    "search.send_keys(\"Data Scientist\")\n",
    "select=driver.find_element(By.XPATH,'/html/body/div/div/div/main/section[1]/div[2]/div[1]/span/div/div/div[1]')\n",
    "select.click()"
   ]
  },
  {
   "cell_type": "code",
   "execution_count": 298,
   "id": "f6b6188b",
   "metadata": {},
   "outputs": [],
   "source": [
    "name=[]\n",
    "min_sal=[]\n",
    "avg_sal=[]\n",
    "exp=[]"
   ]
  },
  {
   "cell_type": "markdown",
   "id": "aff964e6",
   "metadata": {},
   "source": [
    "Extract the information."
   ]
  },
  {
   "cell_type": "code",
   "execution_count": 299,
   "id": "40323724",
   "metadata": {},
   "outputs": [],
   "source": [
    "\n",
    "    name_tag=driver.find_elements(By.XPATH,'//div[@class=\"company-info\"]')\n",
    "    for i in name_tag:\n",
    "        n=i.text\n",
    "        name.append(n)\n",
    "    \n",
    "    min_s=driver.find_elements(By.XPATH,'//div [@class=\"value body-medium\"]')\n",
    "    for i in min_s:\n",
    "        ms=i.text\n",
    "        min_sal.append(ms)\n",
    "    \n",
    "    avg_s=driver.find_elements(By.XPATH,'//p[@class=\"averageCtc\"]')\n",
    "    for i in avg_s:\n",
    "        avgs=i.text\n",
    "        avg_sal.append(avgs)\n",
    "    \n",
    "    \n",
    "    exp_tag=driver.find_elements(By.XPATH,'//div[@class=\"sbold-list-header\"]')\n",
    "    for i in exp_tag:\n",
    "        ep=i.text\n",
    "        exp.append(ep)"
   ]
  },
  {
   "cell_type": "code",
   "execution_count": 300,
   "id": "4b828411",
   "metadata": {},
   "outputs": [
    {
     "data": {
      "text/plain": [
       "['₹ 25.0L',\n",
       " '₹ 45.0L',\n",
       " '₹ 15.0L',\n",
       " '₹ 26.0L',\n",
       " '₹ 11.0L',\n",
       " '₹ 22.6L',\n",
       " '₹ 11.0L',\n",
       " '₹ 22.0L',\n",
       " '₹ 9.0L',\n",
       " '₹ 23.0L',\n",
       " '₹ 12.7L',\n",
       " '₹ 19.7L',\n",
       " '₹ 9.0L',\n",
       " '₹ 20.0L',\n",
       " '₹ 11.0L',\n",
       " '₹ 20.0L',\n",
       " '₹ 12.0L',\n",
       " '₹ 18.0L',\n",
       " '₹ 8.8L',\n",
       " '₹ 17.5L']"
      ]
     },
     "execution_count": 300,
     "metadata": {},
     "output_type": "execute_result"
    }
   ],
   "source": [
    "min_sal"
   ]
  },
  {
   "cell_type": "markdown",
   "id": "67d694ec",
   "metadata": {},
   "source": [
    "Remove currency symbol"
   ]
  },
  {
   "cell_type": "code",
   "execution_count": 301,
   "id": "566c84ed",
   "metadata": {},
   "outputs": [],
   "source": [
    "m_s=[]\n",
    "for i in min_sal:\n",
    "    m_s.append(i[2:-1])"
   ]
  },
  {
   "cell_type": "markdown",
   "id": "6d74c603",
   "metadata": {},
   "source": [
    "The above list contains min and max salary in alternate order. We use loop to get two list, one for min salary and other for max salary. "
   ]
  },
  {
   "cell_type": "code",
   "execution_count": 302,
   "id": "46a105a7",
   "metadata": {},
   "outputs": [],
   "source": [
    "max_salary=[]\n",
    "min_salary=[]\n",
    "for i in range(len(m_s)):\n",
    "    if (i%2)==0:\n",
    "        max_salary.append(m_s[i])\n",
    "    else:\n",
    "        min_salary.append(m_s[i])\n"
   ]
  },
  {
   "cell_type": "code",
   "execution_count": 303,
   "id": "e201e4e1",
   "metadata": {},
   "outputs": [
    {
     "data": {
      "text/plain": [
       "['₹ 32.2L',\n",
       " '₹ 19.8L',\n",
       " '₹ 16.4L',\n",
       " '₹ 15.9L',\n",
       " '₹ 15.5L',\n",
       " '₹ 14.7L',\n",
       " '₹ 14.6L',\n",
       " '₹ 14.5L',\n",
       " '₹ 14.0L',\n",
       " '₹ 13.9L']"
      ]
     },
     "execution_count": 303,
     "metadata": {},
     "output_type": "execute_result"
    }
   ],
   "source": [
    "avg_sal"
   ]
  },
  {
   "cell_type": "markdown",
   "id": "165c03d6",
   "metadata": {},
   "source": [
    "Remove the currency symbol"
   ]
  },
  {
   "cell_type": "code",
   "execution_count": 304,
   "id": "d469276d",
   "metadata": {},
   "outputs": [
    {
     "data": {
      "text/plain": [
       "['32.2',\n",
       " '19.8',\n",
       " '16.4',\n",
       " '15.9',\n",
       " '15.5',\n",
       " '14.7',\n",
       " '14.6',\n",
       " '14.5',\n",
       " '14.0',\n",
       " '13.9']"
      ]
     },
     "execution_count": 304,
     "metadata": {},
     "output_type": "execute_result"
    }
   ],
   "source": [
    "a_s=[]\n",
    "for i in avg_sal:\n",
    "    a_s.append(i[2:-1])\n",
    "a_s"
   ]
  },
  {
   "cell_type": "code",
   "execution_count": 305,
   "id": "10a6a01f",
   "metadata": {},
   "outputs": [
    {
     "data": {
      "text/plain": [
       "['Walmart\\nData Scientist Salary\\n3-4 yrs experience (based on 24 salaries)',\n",
       " 'Ab Inbev\\nData Scientist Salary\\n2-4 yrs experience (based on 59 salaries)',\n",
       " 'Optum\\nData Scientist Salary\\n2-4 yrs experience (based on 49 salaries)',\n",
       " 'ZS\\nData Scientist Salary\\n1-2 yrs experience (based on 35 salaries)',\n",
       " 'Fractal Analytics\\nData Scientist Salary\\n2-4 yrs experience (based on 118 salaries)',\n",
       " 'Sigmoid Analytics\\nData Scientist Salary\\n1 yr experience (based on 10 salaries)',\n",
       " 'Tiger Analytics\\nData Scientist Salary\\n2-4 yrs experience (based on 70 salaries)',\n",
       " 'Legato Health Technologies\\nData Scientist Salary\\n4 yrs experience (based on 11 salaries)',\n",
       " 'HSBC\\nData Scientist Salary\\n4 yrs experience (based on 10 salaries)',\n",
       " 'Tredence\\nData Scientist Salary\\n3 yrs experience (based on 14 salaries)',\n",
       " 'TCS\\n3.1\\nSalary Rating \\n46.2k reviews',\n",
       " 'Accenture\\n3.7\\nSalary Rating \\n31.3k reviews',\n",
       " 'Cognizant\\n3.4\\nSalary Rating \\n28.4k reviews',\n",
       " '',\n",
       " '',\n",
       " '',\n",
       " '',\n",
       " '',\n",
       " '',\n",
       " '',\n",
       " '',\n",
       " '',\n",
       " '',\n",
       " '',\n",
       " '']"
      ]
     },
     "execution_count": 305,
     "metadata": {},
     "output_type": "execute_result"
    }
   ],
   "source": [
    "name"
   ]
  },
  {
   "cell_type": "markdown",
   "id": "8f61b961",
   "metadata": {},
   "source": [
    "We clean the above list to extract only the required company name, located at starting of each element."
   ]
  },
  {
   "cell_type": "code",
   "execution_count": 306,
   "id": "995a8ae8",
   "metadata": {},
   "outputs": [
    {
     "data": {
      "text/plain": [
       "['Walmart',\n",
       " 'Ab',\n",
       " 'Optum',\n",
       " 'ZS',\n",
       " 'Fractal',\n",
       " 'Sigmoid',\n",
       " 'Tiger',\n",
       " 'Legato',\n",
       " 'HSBC',\n",
       " 'Tredence']"
      ]
     },
     "execution_count": 306,
     "metadata": {},
     "output_type": "execute_result"
    }
   ],
   "source": [
    "import numpy as np\n",
    "b=[]\n",
    "for i in name:\n",
    "    c=i.split()\n",
    "    b.append(c[0:1])\n",
    "    \n",
    "d=[]\n",
    "for i in b:\n",
    "    for j in i:\n",
    "        d.append(j)\n",
    "        \n",
    "\n",
    "del d[10:]\n",
    "d"
   ]
  },
  {
   "cell_type": "code",
   "execution_count": 307,
   "id": "c93fa6b0",
   "metadata": {},
   "outputs": [
    {
     "data": {
      "text/plain": [
       "['3-4 yrs experience (based on 24 salaries)',\n",
       " '2-4 yrs experience (based on 59 salaries)',\n",
       " '2-4 yrs experience (based on 49 salaries)',\n",
       " '1-2 yrs experience (based on 35 salaries)',\n",
       " '2-4 yrs experience (based on 118 salaries)',\n",
       " '1 yr experience (based on 10 salaries)',\n",
       " '2-4 yrs experience (based on 70 salaries)',\n",
       " '4 yrs experience (based on 11 salaries)',\n",
       " '4 yrs experience (based on 10 salaries)',\n",
       " '3 yrs experience (based on 14 salaries)']"
      ]
     },
     "execution_count": 307,
     "metadata": {},
     "output_type": "execute_result"
    }
   ],
   "source": [
    "exp"
   ]
  },
  {
   "cell_type": "markdown",
   "id": "f077c1a3",
   "metadata": {},
   "source": [
    "We clean the above list to extract only the required experience, located at starting of each element."
   ]
  },
  {
   "cell_type": "code",
   "execution_count": 308,
   "id": "91fcabc1",
   "metadata": {},
   "outputs": [
    {
     "data": {
      "text/plain": [
       "['3-4', '2-4', '2-4', '1-2', '2-4', '1', '2-4', '4', '4', '3']"
      ]
     },
     "execution_count": 308,
     "metadata": {},
     "output_type": "execute_result"
    }
   ],
   "source": [
    "z=[]\n",
    "for j in exp:\n",
    "    c=j.split()\n",
    "    z.append(c[0:1])\n",
    "              \n",
    "e=[]\n",
    "for i in z:\n",
    "    for j in i:\n",
    "        e.append(j)\n",
    "e"
   ]
  },
  {
   "cell_type": "code",
   "execution_count": 311,
   "id": "82e4a2da",
   "metadata": {},
   "outputs": [
    {
     "data": {
      "text/html": [
       "<div>\n",
       "<style scoped>\n",
       "    .dataframe tbody tr th:only-of-type {\n",
       "        vertical-align: middle;\n",
       "    }\n",
       "\n",
       "    .dataframe tbody tr th {\n",
       "        vertical-align: top;\n",
       "    }\n",
       "\n",
       "    .dataframe thead th {\n",
       "        text-align: right;\n",
       "    }\n",
       "</style>\n",
       "<table border=\"1\" class=\"dataframe\">\n",
       "  <thead>\n",
       "    <tr style=\"text-align: right;\">\n",
       "      <th></th>\n",
       "      <th>Company Name</th>\n",
       "      <th>Min Salary (Lakh/PA) ₹</th>\n",
       "      <th>Average Salary (Lakh/PA) ₹</th>\n",
       "      <th>Max Saalary (Lakh/PA) ₹</th>\n",
       "      <th>Experience</th>\n",
       "    </tr>\n",
       "  </thead>\n",
       "  <tbody>\n",
       "    <tr>\n",
       "      <th>0</th>\n",
       "      <td>Walmart</td>\n",
       "      <td>45.0</td>\n",
       "      <td>32.2</td>\n",
       "      <td>25.0</td>\n",
       "      <td>3-4</td>\n",
       "    </tr>\n",
       "    <tr>\n",
       "      <th>1</th>\n",
       "      <td>Ab</td>\n",
       "      <td>26.0</td>\n",
       "      <td>19.8</td>\n",
       "      <td>15.0</td>\n",
       "      <td>2-4</td>\n",
       "    </tr>\n",
       "    <tr>\n",
       "      <th>2</th>\n",
       "      <td>Optum</td>\n",
       "      <td>22.6</td>\n",
       "      <td>16.4</td>\n",
       "      <td>11.0</td>\n",
       "      <td>2-4</td>\n",
       "    </tr>\n",
       "    <tr>\n",
       "      <th>3</th>\n",
       "      <td>ZS</td>\n",
       "      <td>22.0</td>\n",
       "      <td>15.9</td>\n",
       "      <td>11.0</td>\n",
       "      <td>1-2</td>\n",
       "    </tr>\n",
       "    <tr>\n",
       "      <th>4</th>\n",
       "      <td>Fractal</td>\n",
       "      <td>23.0</td>\n",
       "      <td>15.5</td>\n",
       "      <td>9.0</td>\n",
       "      <td>2-4</td>\n",
       "    </tr>\n",
       "  </tbody>\n",
       "</table>\n",
       "</div>"
      ],
      "text/plain": [
       "  Company Name Min Salary (Lakh/PA) ₹ Average Salary (Lakh/PA) ₹  \\\n",
       "0      Walmart                   45.0                       32.2   \n",
       "1           Ab                   26.0                       19.8   \n",
       "2        Optum                   22.6                       16.4   \n",
       "3           ZS                   22.0                       15.9   \n",
       "4      Fractal                   23.0                       15.5   \n",
       "\n",
       "  Max Saalary (Lakh/PA) ₹ Experience  \n",
       "0                    25.0        3-4  \n",
       "1                    15.0        2-4  \n",
       "2                    11.0        2-4  \n",
       "3                    11.0        1-2  \n",
       "4                     9.0        2-4  "
      ]
     },
     "execution_count": 311,
     "metadata": {},
     "output_type": "execute_result"
    }
   ],
   "source": [
    "df9=pd.DataFrame({\"Company Name\":d,\"Min Salary (Lakh/PA) ₹\":min_salary,\"Average Salary (Lakh/PA) ₹\":a_s,\"Max Saalary (Lakh/PA) ₹\":max_salary,\"Experience\":e})\n",
    "df9.head()"
   ]
  },
  {
   "cell_type": "code",
   "execution_count": 310,
   "id": "319ddb73",
   "metadata": {},
   "outputs": [
    {
     "data": {
      "text/plain": [
       "(10, 5)"
      ]
     },
     "execution_count": 310,
     "metadata": {},
     "output_type": "execute_result"
    }
   ],
   "source": [
    "df9.shape"
   ]
  },
  {
   "cell_type": "code",
   "execution_count": null,
   "id": "b17d6cf0",
   "metadata": {},
   "outputs": [],
   "source": []
  }
 ],
 "metadata": {
  "kernelspec": {
   "display_name": "Python 3 (ipykernel)",
   "language": "python",
   "name": "python3"
  },
  "language_info": {
   "codemirror_mode": {
    "name": "ipython",
    "version": 3
   },
   "file_extension": ".py",
   "mimetype": "text/x-python",
   "name": "python",
   "nbconvert_exporter": "python",
   "pygments_lexer": "ipython3",
   "version": "3.9.7"
  }
 },
 "nbformat": 4,
 "nbformat_minor": 5
}
